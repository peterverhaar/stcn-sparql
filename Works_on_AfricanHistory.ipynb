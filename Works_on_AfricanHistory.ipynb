{
 "cells": [
  {
   "cell_type": "markdown",
   "id": "66c0ecf2",
   "metadata": {},
   "source": [
    "# Works on African History\n",
    "\n",
    "If the SPARQLWrapper has already been installed, please place a 'hash' in front of the command below. "
   ]
  },
  {
   "cell_type": "code",
   "execution_count": 14,
   "id": "27f66b1a",
   "metadata": {},
   "outputs": [
    {
     "name": "stdout",
     "output_type": "stream",
     "text": [
      "Defaulting to user installation because normal site-packages is not writeable\n",
      "Requirement already satisfied: SPARQLWrapper in /Library/Frameworks/Python.framework/Versions/3.12/lib/python3.12/site-packages (2.0.0)\n",
      "Requirement already satisfied: rdflib>=6.1.1 in /Library/Frameworks/Python.framework/Versions/3.12/lib/python3.12/site-packages (from SPARQLWrapper) (7.0.0)\n",
      "Requirement already satisfied: isodate<0.7.0,>=0.6.0 in /Library/Frameworks/Python.framework/Versions/3.12/lib/python3.12/site-packages (from rdflib>=6.1.1->SPARQLWrapper) (0.6.1)\n",
      "Requirement already satisfied: pyparsing<4,>=2.1.0 in /Library/Frameworks/Python.framework/Versions/3.12/lib/python3.12/site-packages (from rdflib>=6.1.1->SPARQLWrapper) (3.1.2)\n",
      "Requirement already satisfied: six in /Library/Frameworks/Python.framework/Versions/3.12/lib/python3.12/site-packages (from isodate<0.7.0,>=0.6.0->rdflib>=6.1.1->SPARQLWrapper) (1.16.0)\n",
      "\n",
      "\u001b[1m[\u001b[0m\u001b[34;49mnotice\u001b[0m\u001b[1;39;49m]\u001b[0m\u001b[39;49m A new release of pip is available: \u001b[0m\u001b[31;49m24.2\u001b[0m\u001b[39;49m -> \u001b[0m\u001b[32;49m25.0.1\u001b[0m\n",
      "\u001b[1m[\u001b[0m\u001b[34;49mnotice\u001b[0m\u001b[1;39;49m]\u001b[0m\u001b[39;49m To update, run: \u001b[0m\u001b[32;49mpip install --upgrade pip\u001b[0m\n"
     ]
    }
   ],
   "source": [
    "!pip install SPARQLWrapper"
   ]
  },
  {
   "cell_type": "code",
   "execution_count": 15,
   "id": "ade2ef16",
   "metadata": {},
   "outputs": [],
   "source": [
    "from SPARQLWrapper import SPARQLWrapper, JSON\n",
    "from IPython.core.display import display, HTML\n",
    "import pandas as pd\n",
    "import os\n",
    "from collections import Counter\n",
    "import plotly.express as px\n",
    "\n",
    "\n",
    "import re\n",
    "import ssl\n",
    "\n",
    "try:\n",
    "    _create_unverified_https_context = ssl._create_unverified_context\n",
    "except AttributeError:\n",
    "    pass\n",
    "else:\n",
    "    ssl._create_default_https_context = _create_unverified_https_context\n",
    "\n",
    "    \n",
    "endpoint = 'https://data.bibliotheken.nl/sparql'\n",
    "sparql = SPARQLWrapper(endpoint)\n",
    "\n",
    "def run_query(sparql_query):\n",
    "    sparql.setQuery(sparql_query)\n",
    "    sparql.setReturnFormat(JSON)\n",
    "    data = sparql.query().convert()\n",
    "    df = pd.json_normalize(data['results']['bindings']) \n",
    "    return df\n",
    "\n",
    "\n",
    "def count_items(identifier,name):\n",
    "    items = Counter()\n",
    "\n",
    "    item_names = dict()\n",
    "    for i,row in df.iterrows():\n",
    "        if item_names.get(row[identifier]) is None:\n",
    "            item_names[row[identifier]] = row[name]\n",
    "\n",
    "    for book in df['book.value'].unique():\n",
    "        book_df = df[ df['book.value'] == book ]\n",
    "        book_items = book_df[identifier].unique()\n",
    "        for item in book_items:\n",
    "            items.update([item_names[item]])\n",
    "            \n",
    "    return items"
   ]
  },
  {
   "cell_type": "markdown",
   "id": "1bfaf364",
   "metadata": {},
   "source": [
    "This notebook searches for titles in the STCN about the history of Africa. The identifier of this topic is &lt;http://data.bibliotheken.nl/id/thes/p15544669X&gt;\n",
    "\n",
    "Of course you can also search using other topics. The identified of \"Astronomy\", for example, is   \n",
    "&lt;http://data.bibliotheken.nl/id/thes/p155446002&gt;"
   ]
  },
  {
   "cell_type": "code",
   "execution_count": 16,
   "id": "35b6a955",
   "metadata": {},
   "outputs": [],
   "source": [
    "sparql_query = \"\"\"\n",
    "\n",
    "PREFIX xsd: <http://www.w3.org/2001/XMLSchema#>\n",
    "PREFIX schema: <http://schema.org/>\n",
    "PREFIX kb: <http://data.bibliotheken.nl/def#>\n",
    "PREFIX rdf: <http://www.w3.org/1999/02/22-rdf-syntax-ns#>\n",
    "PREFIX rdfs: <http://www.w3.org/2000/01/rdf-schema#>\n",
    "PREFIX skos: <http://www.w3.org/2004/02/skos/core#>\n",
    "\n",
    "SELECT *\n",
    "\n",
    "WHERE {\n",
    "\n",
    "?book schema:mainEntityOfPage ?mainEntity .\n",
    "?mainEntity schema:isPartOf <http://data.bibliotheken.nl/id/dataset/stcn>  . \n",
    "\n",
    "?book schema:about <http://data.bibliotheken.nl/id/thes/p15544669X> .\n",
    "?book schema:publication ?publ .\n",
    "?book schema:name ?title .\n",
    "\n",
    "OPTIONAL {\n",
    "?publ schema:startDate ?publ_year . \n",
    "}\n",
    " \n",
    "\n",
    "} \n",
    "\n",
    "\"\"\"\n",
    "\n",
    "df = run_query(sparql_query)"
   ]
  },
  {
   "cell_type": "code",
   "execution_count": 17,
   "id": "e14deb4d",
   "metadata": {},
   "outputs": [
    {
     "name": "stdout",
     "output_type": "stream",
     "text": [
      "460 books in total.\n",
      "\n",
      "\n",
      "http://data.bibliotheken.nl/id/nbt/p307081524\n",
      "La galerie agreable du monde [...] tome troisième d'Afrique.\n",
      "172X\n",
      "\n",
      "http://data.bibliotheken.nl/id/nbt/p307081370\n",
      "La galerie agreable du monde [...] tome second d'Afrique.\n",
      "172X\n",
      "\n",
      "http://data.bibliotheken.nl/id/nbt/p307349853\n",
      "Tweede aanmerkingen; betreffende de kust der kaffers, en het landt van Pieter Nuyts: dienende tot opheldering der voorstellingen in de eerste gedaan, ten nutte van de Oostindische Compagnie.\n",
      "1718\n",
      "\n",
      "http://data.bibliotheken.nl/id/nbt/p305735004\n",
      "Naam-boekje van de wel ed. heeren der hoge Indische regeringe [...] op Batavia [...]. Veranderd tot ultimo september 1754\n",
      "1755\n",
      "\n",
      "http://data.bibliotheken.nl/id/nbt/p305736760\n",
      "Naam-boekje van de wel ed. heeren der hoge Indiasche regeringe [...] op Batavia [...] Zo als dezelve ultimo september 1758. in wezen zyn bevonden\n",
      "1759\n",
      "\n",
      "http://data.bibliotheken.nl/id/nbt/p305733605\n",
      "Naamboekje van de wel ed. heeren der hoge Indische regeringe [...] op Batavia [...]. Veranderd tot medio october 1752\n",
      "1753\n",
      "\n",
      "http://data.bibliotheken.nl/id/nbt/p305951394\n",
      "Description de l'Egypte.\n",
      "1740\n",
      "\n",
      "http://data.bibliotheken.nl/id/nbt/p306005565\n",
      "Etat des royaumes de Barbarie, Tripoly, Tunis et Alger: contenant l'histoire naturelle & politique de ces païs.\n",
      "1704\n",
      "\n",
      "http://data.bibliotheken.nl/id/nbt/p306038250\n",
      "Brieven van de hoogëdele vrouwe Maria Worthly Montague; geschreven geduurende haare reizen in Europa, Asia en Afrika.\n",
      "1765\n",
      "\n",
      "http://data.bibliotheken.nl/id/nbt/p307081265\n",
      "La galerie agreable du monde [...] tome premier d'Afrique.\n",
      "172X\n",
      "\n",
      "http://data.bibliotheken.nl/id/nbt/p305551329\n",
      "Histoire philosophique et politique des établissements & du commerce des Européens dans les deux Indes.\n",
      "1774\n",
      "\n",
      "http://data.bibliotheken.nl/id/nbt/p307933741\n",
      "Journaal wegens de rampspoedige reys-tocht [...] met het oorlogschip genaamt Het huys in't bosch, gestrand op de Moorsche kust in Afrika [...] den 20 december 1751.\n",
      "17XX\n",
      "\n",
      "http://data.bibliotheken.nl/id/nbt/p306077760\n",
      "Description du Cap de Bonne-Esperance; où l'on trouve tout ce qui concerne l'histoire-naturelle du pays; la religion, les mœurs & les usages des Hottentots; et l'etablissement des Hollandois.\n",
      "1741\n",
      "\n",
      "http://data.bibliotheken.nl/id/nbt/p305985566\n",
      "Tractaat tusschen haar hoog mog. de heeren Staaten Generaal [...] en de regeeringe van Algiers. Geslooten in [...] 1757\n",
      "1758\n",
      "\n",
      "http://data.bibliotheken.nl/id/nbt/p306035731\n",
      "Naamboekje van de wel-ed heeren der hoge Indische regeringe [...] op Batavia [...] gelyk ze in wezen zyn geweest ultimo october 1747\n",
      "1749\n",
      "\n",
      "http://data.bibliotheken.nl/id/nbt/p306239434\n",
      "Ontwerp tot de publicque voorstelling van [...] Sebastiaan Cornelis Nederburgh, Simon Hendrik Frykenius, mr: Willem Arnold Alting, en Johannes Siberg, als commissarissen generaal over geheel Nederlandsch Indie en Cabo de Goede Hoop\n",
      "1793\n",
      "\n",
      "http://data.bibliotheken.nl/id/nbt/p307340864\n",
      "VVaerachtighe beschryvinge van een verschrickelijcke aertbevinghe ende vervaerlijck onweder [...] op't eylant van Tercera [...] den 26. may 1614\n",
      "1614\n",
      "\n",
      "http://data.bibliotheken.nl/id/nbt/p305387529\n",
      "Nouveau voyage de Grece, d'Egypte [...] et des Pais-Bas.\n",
      "1724\n",
      "\n",
      "http://data.bibliotheken.nl/id/nbt/p307960889\n",
      "Journaal wegens de rampspoedige reys-tocht [...] met het oorlogschip genaamt Het hvys in't bosch, gestrand op de Moorsche kust in Afrika [...] den 20 december 1751.\n",
      "17XX\n",
      "\n",
      "http://data.bibliotheken.nl/id/nbt/p306236796\n",
      "Placaat. De commissarissen generaal over geheel Neederlandsch Indie en Kabo de Goede Hoop [...] doen te weeten\n",
      "1792\n",
      "\n",
      "http://data.bibliotheken.nl/id/nbt/p305447300\n",
      "Verklaring over de nieuwe getekende kaarten van Agterom, de Spaens Zee, en de geheele Middelandsche Zee.\n",
      "17XX\n",
      "\n",
      "http://data.bibliotheken.nl/id/nbt/p306238942\n",
      "Naam-boekje van de wel ed. heeren der hoge Indiasche regeringe [...] op Batavia [...] zoo als dezelve ultimo september 1759. in wezen zyn bevonden\n",
      "1760\n",
      "\n",
      "http://data.bibliotheken.nl/id/nbt/p305736000\n",
      "Naam-boekje van de wel ed. heeren der hoge Indische regeringe [...] op Batavia [...]. Veranderd tot ultimo september 1756\n",
      "1757\n",
      "\n",
      "http://data.bibliotheken.nl/id/nbt/p305734423\n",
      "Naamboekje van de wel ed. heeren der hoge Indische regeringe [...] op Batavia [...]. Veranderd tot medio january 1754\n",
      "1754\n",
      "\n",
      "http://data.bibliotheken.nl/id/nbt/p305750445\n",
      "Naamboekje van de wel-ed. heeren der hoge Indische regeringe [...] op Batavia [...] gelyk ze in wezen zyn geweest tot medio january 1746\n",
      "1747\n",
      "\n",
      "http://data.bibliotheken.nl/id/nbt/p305839284\n",
      "Naam-boekje van de wel ed. heeren der hoge Indiasche regeringe [...] op Batavia [...] zoo als dezelve ultimo september 1760. in wezen zyn bevonden\n",
      "1761\n",
      "\n",
      "http://data.bibliotheken.nl/id/nbt/p313884471\n",
      "Histoire du royaume d'Alger.\n",
      "1727\n",
      "\n",
      "http://data.bibliotheken.nl/id/nbt/p314760458\n",
      "Lettres sur l'Égypte.\n",
      "1787\n",
      "\n",
      "http://data.bibliotheken.nl/id/nbt/p315083093\n",
      "Waerachtighe, blijde, catholijcke tiidinghe vyt de verre gheleghen landen vanden [...] keyser der Abyssinen Prete-Ian, ghetrouvvelijck over-gheset uyt de brieven, soo vanden keyser, als van de tvvee patres der societeyt Iesv, in Abassia oft Mooren-landt residerende\n",
      "1625\n",
      "\n",
      "http://data.bibliotheken.nl/id/nbt/p314931651\n",
      "Histoire philosophique et politique des établissements & du commerce des Européen's dans les deux Indes.\n",
      "1774\n",
      "\n",
      "http://data.bibliotheken.nl/id/nbt/p315322179\n",
      "Traduction de la demonstration de la Compagnie des Indes Occidentales, contenant les raisons pourquoi les Portugais ne sont point en droit de naviguer vers les côtes de la Haute & Basse-Guinée, &c.\n",
      "1727\n",
      "\n",
      "http://data.bibliotheken.nl/id/nbt/p315060069\n",
      "Reysen van Joan Ovington, gedaan na Suratte, en andere plaatsen van Asie en Afrika.\n",
      "1729\n",
      "\n",
      "http://data.bibliotheken.nl/id/nbt/p313983437\n",
      "Korte historiaal en journaalse aanteikeninge, van al 'tgeen merk-waardig voorgevallen is, in langdurige reizen, zo na Cabo Verde, Angola, &c. als inzonderheid van Oost-Indiën.\n",
      "1717\n",
      "\n",
      "http://data.bibliotheken.nl/id/nbt/p313986193\n",
      "Brieven over Egypte.\n",
      "1788\n",
      "\n",
      "http://data.bibliotheken.nl/id/nbt/p315321105\n",
      "Vertoogh van de generaale West-Indische Compagnie der Vereenighde Nederlanden, houdende redenen, waarom de kust van Africa, niet behoort bevaaren te werden op recognitie, ende wyders dienende tot een refutatie van de conditien, onder de welke de heeren Staaten van de provintie van Zeelandt, geresolveert hebben, in de verzogte prolongatie van het octroy [...] te consenteren\n",
      "172X\n",
      "\n",
      "http://data.bibliotheken.nl/id/nbt/p314016813\n",
      "Omstandig en waarachtig dagverhaal.\n",
      "17XX\n",
      "\n",
      "http://data.bibliotheken.nl/id/nbt/p315080612\n",
      "Description du Cap de Bonne-Esperance; où l'on trouve tout ce qui concerne l'histoire-naturelle du pays; la religion, les mœurs & les usages des Hottentots; et l'etablissement des Hollandois.\n",
      "1742\n",
      "\n",
      "http://data.bibliotheken.nl/id/nbt/p314720677\n",
      "De grote nieuw-bereisde wereld: begrypende zes reizen.\n",
      "1717\n",
      "\n",
      "http://data.bibliotheken.nl/id/nbt/p317351001\n",
      "Contra-deductie, ofte grondige demonstratie van de valsheit der uitgegevene deductie, by den ed: heer Willem Adriaan van der Stel [...] Strekkende tot verificatie van't klachtschrift, in den jare 1706 aan [...] de heeren bewinthebberen ter illustre vergadering van Zeventienen.\n",
      "1712\n",
      "\n",
      "http://data.bibliotheken.nl/id/nbt/p322691753\n",
      "D'leven van den H. vader S. Augustijn bisschop van Hipponen ende leeraer der H. kercke.\n",
      "1621\n",
      "\n",
      "http://data.bibliotheken.nl/id/nbt/p321235134\n",
      "Naam-boekje van de wel ed. heeren der hooge Indiasche regeeringe [...] op Batavia [...] zoo als dezelve in wezen zyn bevonden ultimo january 1777\n",
      "1778\n",
      "\n",
      "http://data.bibliotheken.nl/id/nbt/p318738260\n",
      "Copye van den brief van pater Antonio Fernandez, oversten van de residentien die de societeyt Jesvs is hebbende in't keyserrijck van Aethiopien, gheschreven binnen de stadt Dancas [...] den II. junij 1626\n",
      "1628\n",
      "\n",
      "http://data.bibliotheken.nl/id/nbt/p317855840\n",
      "Journaal wegens de rampspoedige reys-tocht [...] met het oorlogschip genaamt Het huys in't bosch, gestrand op de Moorsche kust in Afrika [...] den 20 december 1751.\n",
      "17XX\n",
      "\n",
      "http://data.bibliotheken.nl/id/nbt/p32048565X\n",
      "Vervolgh der beschryvinghe van Oran.\n",
      "17XX\n",
      "\n",
      "http://data.bibliotheken.nl/id/nbt/p324103034\n",
      "Korte deductie van Willem Adriaen van der Stel, gewesene extraordinaris raat van India en gouverneur aen Cabo de bon Esperance; tot destructie [...] van alle de klaghten, die enige vry-luyden [...] aen de [...] heren bewinthebberen van de Oost Indische Compagnie over hem hadden gedaen\n",
      "1708\n",
      "\n",
      "http://data.bibliotheken.nl/id/nbt/p320485455\n",
      "Beschryvinghe van de veroveringhe oft innemen der stadt Oran.\n",
      "17XX\n",
      "\n",
      "http://data.bibliotheken.nl/id/nbt/p324214502\n",
      "Kort relaas behelsende de voordeelen die de republiek, Westindische Compagnie en ingezetenen deser lande kunnen trekken by 't openstellen van de vrye vaart op de kusten van Africa en America, mits betalende behoorlyke recognutie\n",
      "172X\n",
      "\n",
      "http://data.bibliotheken.nl/id/nbt/p317810995\n",
      "Historie vande Turckse slavernie.\n",
      "1657\n",
      "\n",
      "http://data.bibliotheken.nl/id/nbt/p31759172X\n",
      "Naamboekje van de wel-ed. heeren der hoge Indische regeringe [...] op Batavia [...] gelyk ze in wezen zyn geweest tot half february 1745\n",
      "1746\n",
      "\n",
      "http://data.bibliotheken.nl/id/nbt/p382965922\n",
      "Missive van den capitein van Braam. Rec. 9 dec. 1783\n",
      "1783\n",
      "\n",
      "http://data.bibliotheken.nl/id/nbt/p36306091X\n",
      "Historie der revolutien in het keizerryk van Marocco.\n",
      "1729\n",
      "\n",
      "http://data.bibliotheken.nl/id/nbt/p364539704\n",
      "Naamboekje van de wel-ed. heeren der hoge Indische regeringe [...] op Batavia [...] gelyk ze in wezen zyn geweest ultimo maart 1743\n",
      "1744\n",
      "\n",
      "http://data.bibliotheken.nl/id/nbt/p35622466X\n",
      "Ismael, prince de Maroc. Nouvelle historique\n",
      "1703\n",
      "\n",
      "http://data.bibliotheken.nl/id/nbt/p357151275\n",
      "Tractaat tusschen haar hoog mogende de heeren Staaten Generaal [...] en de regeeringe van Algiers. Geslooten in het jaar 1757\n",
      "1757\n",
      "\n",
      "http://data.bibliotheken.nl/id/nbt/p363564632\n",
      "Journaal wegens de rampspoedige reys-tocht [...] met het oorlogschip genaamt Het huys in't bosch, gestrand op de Moorsche kust in Afrika [...] den 20 december 1751.\n",
      "17XX\n",
      "\n",
      "http://data.bibliotheken.nl/id/nbt/p35715147X\n",
      "Ampliatie tot het tractaat van vrede tusschen [...] de Staaten Generaal [...] en den Dey en regeering van Algiers\n",
      "1760\n",
      "\n",
      "http://data.bibliotheken.nl/id/nbt/p354996274\n",
      "Historise beschryvinge van Abissinien, andersints Ethiopien.\n",
      "1688\n",
      "\n",
      "http://data.bibliotheken.nl/id/nbt/p430014449\n",
      "Naam-boek van de wel edele heeren der hoge Indiasche regering, soo tot, als buyten Batavia [...] zoo als deselve onder ultimo augustus 1753. in wezen zyn bevonden\n",
      "1753\n",
      "\n",
      "http://data.bibliotheken.nl/id/nbt/p432622969\n",
      "Naamboekje van de wel-ed. heeren der hoge Indische regeringe [...] op Batavia [...] gelyk ze in wezen zyn geweest ultimo maart 1742\n",
      "1743\n",
      "\n",
      "http://data.bibliotheken.nl/id/nbt/p432243267\n",
      "Naamboekje van de wel-ed. heren der hoge Indische regeringe [...] op Batavia [...] gelykze in wezen zyn geweest ultimo november 1739\n",
      "1741\n",
      "\n",
      "http://data.bibliotheken.nl/id/nbt/p422773972\n",
      "Missive van gecommitteerde bewindhebberen van de Westindische Compagnie ter kaameren Amsterdam, de Maaze en Noorder Quartier, raakende het bevaaren van de kust van Africa op recognitie [...] 17 april 1730\n",
      "1730\n",
      "\n",
      "http://data.bibliotheken.nl/id/nbt/p422774049\n",
      "Memorie overgegeven aan zyne doorlugtigste hoogheyd, den heere prinse van Oranje en Nassau [...] als opperbewindhebber der generale geoctroyeerde West-Indische Compagnie.\n",
      "174X\n",
      "\n",
      "http://data.bibliotheken.nl/id/nbt/p433169478\n",
      "Naamboekje van de wel-ed. heeren der hoge Indische regeringe [...] op Batavia [...] gelyk ze in wezen zyn geweest medio maart 1747\n",
      "1748\n",
      "\n",
      "http://data.bibliotheken.nl/id/nbt/p422773999\n",
      "2de. deductie van bewindhebberen van de geoctroyeerde West-Indische Compagnie. Overgelevert aan de [...] Staten Generaal der Vereenigde Nederlanden. Wegens 't nemen van't eerste scheepje genaamt de Marquis de Prie\n",
      "1719\n",
      "\n",
      "http://data.bibliotheken.nl/id/nbt/p421657022\n",
      "Tractaat tusschen haar hoogh mog. de heeren Staaten Generaal [...] en de regeeringe van Algiers\n",
      "1726\n",
      "\n",
      "http://data.bibliotheken.nl/id/nbt/p432227962\n",
      "Naamboekje van de wel-ed. heren der hoge Indische regeringe [...] op Batavia [...] gelykze in wezen zyn geweest ultimo maart 1739\n",
      "1740\n",
      "\n",
      "http://data.bibliotheken.nl/id/nbt/p422774022\n",
      "Consideratien van wegens de geauthoriseerdens van de geinteresseerdens in de vaart op de cust van Africa [...] in dato 29 sept. 1744\n",
      "1744\n",
      "\n",
      "http://data.bibliotheken.nl/id/nbt/p422774014\n",
      "Requeste van verscheide Hollandsche en Zeeuwsche geinteresseerden in de vaart en handel op de kust van Africa\n",
      "1743\n",
      "\n",
      "http://data.bibliotheken.nl/id/nbt/p433000732\n",
      "Naamboekje van de wel-ed. heeren der hoge Indische regeringe [...] op Batavia [...] gelyk ze in wezen zyn geweest ultimo novemb. 1743\n",
      "1745\n",
      "\n",
      "http://data.bibliotheken.nl/id/nbt/p422774006\n",
      "Memorie uyt naame ende van wegens de boekhouders, en reders, zoo voor haar zelve, als vervangende de verdere mede geïnteresseerdens in de vaart en handel op de kusten van Africa [...] overgegeven den 2 juny 1744\n",
      "1744\n",
      "\n",
      "http://data.bibliotheken.nl/id/nbt/p434474177\n",
      "Navigation faite en Barbarie.\n",
      "1737\n",
      "\n",
      "http://data.bibliotheken.nl/id/nbt/p832782904\n",
      "Itinerarivm Benjaminis.\n",
      "1633\n",
      "\n",
      "http://data.bibliotheken.nl/id/nbt/p840113838\n",
      "Pertinente beschryvinge van Africa.\n",
      "1665\n",
      "\n",
      "http://data.bibliotheken.nl/id/nbt/p841304106\n",
      "Fin de la guerre. Dialogus, of t'samen-sprekinge [...]. Dienende tot een exemplaer, of spiegel om te bewysē dat de West-Indische interprinse d'eenige, ende beste middele is [...] om de Spangiaerden uyt den Nederlanden te jagen\n",
      "1623\n",
      "\n",
      "http://data.bibliotheken.nl/id/nbt/p832912816\n",
      "De beschryvinghe vant groot ende vermaert coninckrijck van Congo, ende de aenpalende oft ommegheleghen landen.\n",
      "1596\n",
      "\n",
      "http://data.bibliotheken.nl/id/nbt/p832776440\n",
      "Tvrcici imperii statvs. seu Discursus varij de rebus Turcarum\n",
      "1630\n",
      "\n",
      "http://data.bibliotheken.nl/id/nbt/p841341044\n",
      "Beschryvinge van verscheyde landen, gelegen onder Africa en America.\n",
      "1664\n",
      "\n",
      "http://data.bibliotheken.nl/id/nbt/p832705888\n",
      "Tvrcici imperii statvs. Accedit de regn. Algeriano atque Tunetano commentarius\n",
      "1634\n",
      "\n",
      "http://data.bibliotheken.nl/id/nbt/p833039016\n",
      "Historia ecclesiæ Africanæ illustrata.\n",
      "1690\n",
      "\n",
      "http://data.bibliotheken.nl/id/nbt/p841152306\n",
      "Nieuwe doch aanmerkens-waardige historie van Abissinien, andersints Ethiopien.\n",
      "1687\n",
      "\n",
      "http://data.bibliotheken.nl/id/nbt/p832857289\n",
      "Africae descriptio IX. lib. absoluta. : 2 parts.\n",
      "1632\n",
      "\n",
      "http://data.bibliotheken.nl/id/nbt/p841125007\n",
      "Aenspraek van de heer Hadgi Giafer Aga, ambassadeur van den divan tot Algiers, aen den koningh van Vranckrijck\n",
      "1684\n",
      "\n",
      "http://data.bibliotheken.nl/id/nbt/p841454019\n",
      "Copie translaet uyt den Turcxschen ghesonden van Argiers ende Tunis aende [...] Staten Generael\n",
      "1623\n",
      "\n",
      "http://data.bibliotheken.nl/id/nbt/p833011197\n",
      "De legatione evangelica ad Indos capessenda admonitio.\n",
      "1618\n",
      "\n",
      "http://data.bibliotheken.nl/id/nbt/p861923677\n",
      "Trou-hertighe onderrichtinge, aen alle hooft participanten, en lief-hebbers vande ge-octroyeerde West-Indische Compagnie. Nopende het open stellen vanden handel op de cust van Africa.\n",
      "1643\n",
      "\n",
      "http://data.bibliotheken.nl/id/nbt/p853140146\n",
      "Demonomanie, of Der Mooren wonderheden.\n",
      "1658\n",
      "\n",
      "http://data.bibliotheken.nl/id/nbt/p85361010X\n",
      "Afgedrongen en welgefondeerde tegen-bericht der conincklycke Deensche geoctroyeerde Affricaansche [...] Compagnie. Gestelt tegens die van d'Hollandtsche West-Indische Compagnie [...] calumnien en valsche beschuldigingen\n",
      "1665\n",
      "\n",
      "http://data.bibliotheken.nl/id/nbt/p853151873\n",
      "Itinerarium, ofte schip-vaert naer Oost ofte Portugaels Indien.\n",
      "1644\n",
      "\n",
      "http://data.bibliotheken.nl/id/nbt/p853019223\n",
      "Beschryvinge ende historische verhael, vant gout koninckrijck van Gunea.\n",
      "1602\n",
      "\n",
      "http://data.bibliotheken.nl/id/nbt/p852666039\n",
      "Beschryving van het keyserryk van Marokko.\n",
      "1698\n",
      "\n",
      "http://data.bibliotheken.nl/id/nbt/p852386273\n",
      "Een cort ende waerachtich verhael vande ghedenckweerdighe gheschiedenisse in Barbaryen ende vanden grooten slach ontrent Maroques, gheschiet den 25. aprilis 1607\n",
      "1607\n",
      "\n",
      "http://data.bibliotheken.nl/id/nbt/p853152551\n",
      "Beschrijvinge van de gantsche custe van Guinea.\n",
      "1623\n",
      "\n",
      "http://data.bibliotheken.nl/id/nbt/p853188467\n",
      "Itinerario, voyage ofte schipvaert, van Ian Huygen van Linschoten naer Oost ofte Portugaels Indien\n",
      "1605\n",
      "\n",
      "http://data.bibliotheken.nl/id/nbt/p85319016X\n",
      "Beschryvinghe van de gantsche custe van Guinea.\n",
      "1596\n",
      "\n",
      "http://data.bibliotheken.nl/id/nbt/p862166799\n",
      "Waerachtigh verhael van Tafilette, den grooten conquerant, overwinner en keyser van Barbaryen.\n",
      "1669\n",
      "\n",
      "http://data.bibliotheken.nl/id/nbt/p853188580\n",
      "Beschrijvinghe van de gantsche custe van Guinea.\n",
      "1605\n",
      "\n",
      "http://data.bibliotheken.nl/id/nbt/p853152365\n",
      "Itinerarivm, ofte schip-vaert naer Oost ofte Portugaels Indien.\n",
      "1623\n",
      "\n",
      "http://data.bibliotheken.nl/id/nbt/p853189978\n",
      "Itinerario, voyage ofte schipvaert, van Ian Huygen van Linschoten, naer Oost ofte Portugaels Indien\n",
      "1596\n",
      "\n",
      "http://data.bibliotheken.nl/id/nbt/p860136159\n",
      "Een cort ende warachtich verhael vande ghedenckweerdige gheschiedenisse in Barbaryen, ende vanden grooten slagh ontrent Maroques, gheschiet den 25 aprilis, 1607\n",
      "1607\n",
      "\n",
      "http://data.bibliotheken.nl/id/nbt/p853190275\n",
      "Beschryvinghe van de gantsche custe van Guinea.\n",
      "1596\n",
      "\n",
      "http://data.bibliotheken.nl/id/nbt/p853151695\n",
      "Histoire de la navigation de Iean Hvgves de Linschot Hollandois, aux Indes Orientales.\n",
      "1619\n",
      "\n",
      "http://data.bibliotheken.nl/id/nbt/p853152489\n",
      "Reys-gheschrift van de navigatien der Portugaloysers in Orienten.\n",
      "1623\n",
      "\n",
      "http://data.bibliotheken.nl/id/nbt/p880038667\n",
      "De directeuren van de geoctrojeerde Societeit van Suriname [...] doen te weeten dat [...] capitein of schipper van den scheepe genaamt [...] voorneemens was [...] een reise te doen na de custe van Africa, ten einde aldaar in te neemen een armesoen slaven, en deselve [...] te transporteeren na onse colonie van Suriname\n",
      "17XX\n",
      "\n",
      "http://data.bibliotheken.nl/id/nbt/p88003873X\n",
      "Tractaat tusschen haar hoogh mog. de heeren Staaten Generaal [...] en de regeeringe van Algiers\n",
      "1726\n",
      "\n",
      "http://data.bibliotheken.nl/id/nbt/p880038659\n",
      "De directeuren van de geoctrojeerde Societeit van Suriname [...] doen te weeten dat [...] capitein of schipper van den scheepe genaamt [...] voorneemens was [...] een reise te doen na de custe van Africa, ten einde aldaar in te neemen een armesoen slaven, en dezelve [...] te transporteeren na onse colonie van Suriname\n",
      "17XX\n",
      "\n",
      "http://data.bibliotheken.nl/id/nbt/p055783902\n",
      "Toortse der zee-vaert, om te beseylen de custen geleghen bezuyden den tropicus canceri, als Brasylien, Westindien, Guinea, Angola, etz.\n",
      "1623\n",
      "\n",
      "http://data.bibliotheken.nl/id/nbt/p06355769X\n",
      "Diverses histoires morales et divertissantes.\n",
      "1671\n",
      "\n",
      "http://data.bibliotheken.nl/id/nbt/p056089473\n",
      "Zee- en lant-reyse, na verscheyde deelen van Asia en Africa.\n",
      "1658\n",
      "\n",
      "http://data.bibliotheken.nl/id/nbt/p10388601X\n",
      "Description de l'Afrique.\n",
      "1686\n",
      "\n",
      "http://data.bibliotheken.nl/id/nbt/p106549820\n",
      "Itinerarius Joannis de Hese [...] describens dispositiones terrar(um) insular(um) montiū & aquar(um) [...] per diuersas p(ar)tes mūdi: and other works\n",
      "1504\n",
      "\n",
      "http://data.bibliotheken.nl/id/nbt/p10100432X\n",
      "Dialogo fra Genoua, et Algieri, città fulminate dal Giove Gallico.\n",
      "1685\n",
      "\n",
      "http://data.bibliotheken.nl/id/nbt/p145922146\n",
      "Wysgeerige bespiegelingen over de Egyptenaaren en de Chineesen.\n",
      "1773\n",
      "\n",
      "http://data.bibliotheken.nl/id/nbt/p149260016\n",
      "Reis door Madagascar en de Oostindiën.\n",
      "1793\n",
      "\n",
      "http://data.bibliotheken.nl/id/nbt/p138621934\n",
      "Relation d'un voyage fait en 1695. 1696. & 1697. aux cotes d'Afrique, Détroit de Magellan, Bresil, Cayenne et Isles Antilles [...] par M. de Gennes.\n",
      "1699\n",
      "\n",
      "http://data.bibliotheken.nl/id/nbt/p142187526\n",
      "Reize van Koppenhagen naar Guinea, en van daar naar de Westindiën en de Caribische eilanden, in Amerika.\n",
      "1797\n",
      "\n",
      "http://data.bibliotheken.nl/id/nbt/p139475885\n",
      "Copye, van een brief, van den koningh van Portugael, gheschreven aen Francisco de Souza Coutinho, synen ambassadeur resideerende in 's Graven-hage\n",
      "1649\n",
      "\n",
      "http://data.bibliotheken.nl/id/nbt/p146791355\n",
      "Nieuw opgerecht tractaet tusschen den Nederlantschen admirael de heer Michiel Adriaen de Ruyter ter eender. Ende de koninck [...] van Tunis ter andere, op den tweeden september 1662\n",
      "1662\n",
      "\n",
      "http://data.bibliotheken.nl/id/nbt/p142815055\n",
      "Naerdere klagten van den heer resident Carisius, ontrent de Deensche Africaensche compagnie, die de Nederlandtsche West-indische compagnie aldaar niet wilt gedoghen\n",
      "1660\n",
      "\n",
      "http://data.bibliotheken.nl/id/nbt/p149165862\n",
      "Suite ou la troisième partie des relations du Sr. Emanuel d'Aranda\n",
      "1671\n",
      "\n",
      "http://data.bibliotheken.nl/id/nbt/p159663385\n",
      "Ongelukkige voyagie van Michiel Heberer [...] door verscheyde gedeeltens van Asia en Africa, in het jaar 1582\n",
      "1706\n",
      "\n",
      "http://data.bibliotheken.nl/id/nbt/p159668212\n",
      "Ongelukkige scheeps-togt van Françoys Brooks, na Barbaryen, gedaan in't jaar 1681.\n",
      "1708\n",
      "\n",
      "http://data.bibliotheken.nl/id/nbt/p160605091\n",
      "Vermeerdert journael of Kort verhael van 't begin, voortgangh en eynde des oorloghs tusschen den koningh en verdere regeeringe van Macasser, en de Nederlandtsche geoctroyeerde Oost-Indische compagnie\n",
      "1669\n",
      "\n",
      "http://data.bibliotheken.nl/id/nbt/p159326494\n",
      "Reize van Zeeland over de Kaap de Goede Hoop en Batavia, naar Samarang [...] in de jaaren MDCCLXXIV tot MDCCLXXVIII.\n",
      "1797\n",
      "\n",
      "http://data.bibliotheken.nl/id/nbt/p159645336\n",
      "Scheeps-togt van Tristano d'Acunha na Oost-Indien [...] in het jaar 1506.\n",
      "1706\n",
      "\n",
      "http://data.bibliotheken.nl/id/nbt/p165451270\n",
      "Naamboekje van de wel-ed heeren der hoge Indische regeringe [...] op Batavia [...] gelyk ze in wezen zyn geweest medio october 1748\n",
      "1750\n",
      "\n",
      "http://data.bibliotheken.nl/id/nbt/p15966327X\n",
      "Naaukeurige versameling der gedenk-waardigste zee en land-reysen, na Oost en West-Indiën [...] zedert het jaar 1582 tot 1586\n",
      "1707\n",
      "\n",
      "http://data.bibliotheken.nl/id/nbt/p15964495X\n",
      "Roemrugte scheeps-togt van Francisco d'Almeida na Oost-Indien [...] in't jaar 1505.\n",
      "1706\n",
      "\n",
      "http://data.bibliotheken.nl/id/nbt/p165459557\n",
      "Naam-boekje van de wel ed. heeren der hoge Indiasche regeringe [...] op Batavia [...] zoo als dezelve ultimo april 1762. in wezen zyn bevonden\n",
      "1763\n",
      "\n",
      "http://data.bibliotheken.nl/id/nbt/p165455446\n",
      "Naam-boekje van de wel ed. heeren der hoge Indische regeringe [...] op Batavia [...]. Veranderd tot medio january 1755\n",
      "1756\n",
      "\n",
      "http://data.bibliotheken.nl/id/nbt/p159284600\n",
      "Nieuwe algemene beschryving van de Kaap de Goede Hoop. : 2 parts.\n",
      "1777\n",
      "\n",
      "http://data.bibliotheken.nl/id/nbt/p159645719\n",
      "Twee ongelukkige scheeps-togten na Oost-Indien, van Jorge de Mello, in het jaar 1707. en Jorge d'Aguiar, in het jaar 1508.\n",
      "1706\n",
      "\n",
      "http://data.bibliotheken.nl/id/nbt/p165464496\n",
      "Naam-boekje van de wel ed. heeren der hooge Indiasche regeeringe [...] op Batavia [...] zoo als dezelve in wezen zyn bevonden ultimo maart 1789\n",
      "1790\n",
      "\n",
      "http://data.bibliotheken.nl/id/nbt/p165452145\n",
      "Naamboekje van de wel ed. heeren der hoge Indische regeringe [...] op Batavia [...]. Veranderd tot primo january 1751\n",
      "1752\n",
      "\n",
      "http://data.bibliotheken.nl/id/nbt/p165463511\n",
      "Naam-boekje van de wel ed. heeren der hooge Indiasche regeeringe [...] op Batavia [...] zoo als dezelve in wezen zyn bevonden ultimo january 1778\n",
      "1779\n",
      "\n",
      "http://data.bibliotheken.nl/id/nbt/p165464240\n",
      "Naam-boekje van de wel ed. heeren der hooge Indiasche regeeringe [...] op Batavia [...] zoo als dezelve in wezen zyn bevonden in 1786\n",
      "1787\n",
      "\n",
      "http://data.bibliotheken.nl/id/nbt/p159647045\n",
      "Twee bysondere scheeps-togten na Oost-Indien, van Gonsalo de Sequeira in het jaar 1510. en Garcia de Noronha in het jaar 1511.\n",
      "1706\n",
      "\n",
      "http://data.bibliotheken.nl/id/nbt/p159667992\n",
      "Naaukeurige versameling der gedenk-waardigste zee en land-reysen na Oost en West-Indien [...] zedert het jaar 1673 tot 1696\n",
      "1707\n",
      "\n",
      "http://data.bibliotheken.nl/id/nbt/p159660858\n",
      "Naauw-keurige voyagie, van Nicolaas Clenard [...] na Africa; gedaan in het jaar 1535\n",
      "1706\n",
      "\n",
      "http://data.bibliotheken.nl/id/nbt/p159609526\n",
      "Twee bysondere scheeps-togten na Oost-Indien, van Francisco d'Albuquerque, in het jaar 1503. En Lopo Soares in het jaar 1504.\n",
      "170X\n",
      "\n",
      "http://data.bibliotheken.nl/id/nbt/p165456531\n",
      "Naam-boekje van de wel ed. heeren der hoge Indische regeringe [...] op Batavia\n",
      "1758\n",
      "\n",
      "http://data.bibliotheken.nl/id/nbt/p159662915\n",
      "Aanmerkelijke en geheugenis-waardige scheeps-togt, van Eduard Lopez, Portugeez, gedaan na [...] Congo in Africa, anno 1578.\n",
      "1706\n",
      "\n",
      "http://data.bibliotheken.nl/id/nbt/p159660793\n",
      "Naaukeurige versameling der gedenk-waardigste zee en land-reysen na Oost en West-Indien [...] zedert het jaar 1535 tot 1541\n",
      "1707\n",
      "\n",
      "http://data.bibliotheken.nl/id/nbt/p159646588\n",
      "Bloedige scheeps-togt van den maarschalk don Fernando Coutinho na Oost-Indien [...] in't jaar 1509.\n",
      "1706\n",
      "\n",
      "http://data.bibliotheken.nl/id/nbt/p159327679\n",
      "Eerste scheeps-togt van Vasco da Gamma, tot ontdekking van de Indien, in het jaar 1497.\n",
      "170X\n",
      "\n",
      "http://data.bibliotheken.nl/id/nbt/p165462272\n",
      "Naam-boekje van de wel ed. heeren der hooge Indiasche regeeringe [...] op Batavia [...] zoo als dezelve in wezen zyn bevonden ultimo january 1778\n",
      "1778\n",
      "\n",
      "http://data.bibliotheken.nl/id/nbt/p16545170X\n",
      "Naamboekje van de wel ed. heeren der hoge Indische regeringe [...] op Batavia [...]. Veranderd tot ultimo february 1750\n",
      "1751\n",
      "\n",
      "http://data.bibliotheken.nl/id/nbt/p165453680\n",
      "Naamboekje van de wel ed. heeren der hoge Indische regeringe [...] op Batavia [...]. Veranderd tot medio january 1752\n",
      "1753\n",
      "\n",
      "http://data.bibliotheken.nl/id/nbt/p159667585\n",
      "Rampspoedige scheeps-togt van den heere Gallonye, gedaan uit Vrankryk na't eiland St. Christoffel; en desselfs vier-jarige slavernye [...] te Salée in Afrika, zederd het jaar 1670.\n",
      "170X\n",
      "\n",
      "http://data.bibliotheken.nl/id/nbt/p15964559X\n",
      "Held-dadige scheeps-togt van Alfonso d'Albuquerque, na de Roode-Zee, in het jaar 1506.\n",
      "1706\n",
      "\n",
      "http://data.bibliotheken.nl/id/nbt/p165461926\n",
      "Naam-boekje van de wel ed. heeren der hooge Indiasche regeringe [...] op Batavia [...] zoo als dezelve in wezen zyn bevonden ultimo december 1771\n",
      "1773\n",
      "\n",
      "http://data.bibliotheken.nl/id/nbt/p159666848\n",
      "Naauw-keurige aanteekeeningen van den eerwaarden vader Manuel d'Almeida, wegens Opper-Ethiopien.\n",
      "1707\n",
      "\n",
      "http://data.bibliotheken.nl/id/nbt/p165453915\n",
      "Naamboekje van de wel ed. heeren der hoge Indische regeringe [...] op Batavia [...]. Veranderd tot medio january 1753\n",
      "1754\n",
      "\n",
      "http://data.bibliotheken.nl/id/nbt/p165464542\n",
      "Naam-boekje van de wel ed. heeren der hooge Indiasche regeeringe [...] op Batavia [...] zoo als dezelve in wezen zyn bevonden ultimo december 1789\n",
      "1791\n",
      "\n",
      "http://data.bibliotheken.nl/id/nbt/p160329167\n",
      "Reizen van den heer Thomas Shaw [...] door verscheiden gewesten van Barbarye en de Levant.\n",
      "1771\n",
      "\n",
      "http://data.bibliotheken.nl/id/nbt/p162751060\n",
      "Tractaat tusschen haar hoog mog. de heeren Staaten Generaal [...] en de regeeringe van Algiers. Geslooten in het jaar 1757\n",
      "1758\n",
      "\n",
      "http://data.bibliotheken.nl/id/nbt/p165460687\n",
      "Naam-boekje van de wel ed. heeren der hoge India-sche regeringe [...] op Batavia [...] zoo als dezelve anno january 1766. in wezen zyn bevonden\n",
      "1767\n",
      "\n",
      "http://data.bibliotheken.nl/id/nbt/p159668360\n",
      "Voorname scheeps-togt van jonkheer Otho Fridrich vander Greuben [...] na Guinea [...] gedaan in het jaar 1682.\n",
      "1707\n",
      "\n",
      "http://data.bibliotheken.nl/id/nbt/p165456787\n",
      "Naam-boekje van de wel ed. heeren der hoge Indische regeringe [...] op Batavia\n",
      "1759\n",
      "\n",
      "http://data.bibliotheken.nl/id/nbt/p159667151\n",
      "Seer aenmerkelyke reys-beschryving na Constantinopolen, en Egypten, gedaan in't jaar 1605.\n",
      "1706\n",
      "\n",
      "http://data.bibliotheken.nl/id/nbt/p16545699X\n",
      "Naam-boekje van de wel ed. heeren der hoge Indiasche regeringe [...] op Batavia\n",
      "1760\n",
      "\n",
      "http://data.bibliotheken.nl/id/nbt/p165459832\n",
      "Naam-boekje van de wel ed. heeren der hoge Indiasche regeringe [...] op Batavia [...] zoo als dezelve [...] 1763. in wezen zyn bevonden\n",
      "1764\n",
      "\n",
      "http://data.bibliotheken.nl/id/nbt/p159609291\n",
      "Tweede scheeps-togt van don Vasco da Gamma [...] na Oost-Indien [...] in het jaar 1502.\n",
      "170X\n",
      "\n",
      "http://data.bibliotheken.nl/id/nbt/p165459190\n",
      "Naam-boekje van de wel ed. heeren der hoge Indiasche regeringe [...] op Batavia [...] zoo als dezelve ultimo maart 1761. in wezen zyn bevonden\n",
      "1762\n",
      "\n",
      "http://data.bibliotheken.nl/id/nbt/p159649757\n",
      "Scheeps-togten en manhafte krygs-bedryven [...] door Lopo Soares d'Albegeria [...] als [...] gouverneur der Oost-Indien [...] in't jaar 1515.\n",
      "1706\n",
      "\n",
      "http://data.bibliotheken.nl/id/nbt/p159322936\n",
      "De alder-eerste scheeps-togten der Portugysen, ter ontdekking van vreemde landen uytgesonden, in het jaar 1419.\n",
      "170X\n",
      "\n",
      "http://data.bibliotheken.nl/id/nbt/p159668263\n",
      "Voyagie van den eerwaarden vader Antonio Fernandez na Gingiro [...] door den keyser van Ethiopiën afgevaardigt. In het jaar 1613.\n",
      "1707\n",
      "\n",
      "http://data.bibliotheken.nl/id/nbt/p165460849\n",
      "Naam-boekje van de wel ed. heeren der hooge Indiasche regeringe [...] op Batavia [...] zoo als dezelve anno primo may 1767. in wezen zyn bevonden\n",
      "1768\n",
      "\n",
      "http://data.bibliotheken.nl/id/nbt/p165455926\n",
      "Naam-boekje van de wel ed. heeren der hoge Indische regeringe [...] op Batavia [...]. Veranderd tot medio september 1755\n",
      "1757\n",
      "\n",
      "http://data.bibliotheken.nl/id/nbt/p159668123\n",
      "Naaukeurige versameling der gedenk-waardigste zee en land-reysen, na Oost en West-Indien [...] zedert het jaar 1611 tot 1616\n",
      "1707\n",
      "\n",
      "http://data.bibliotheken.nl/id/nbt/p159667186\n",
      "De ongelukkige voyagie van mr. T.S. Engels koopman, gedaan in den jare 1648. [...] behelzende [...] hoe hy by de Algierse Turken genomen [...] is.\n",
      "1707\n",
      "\n",
      "http://data.bibliotheken.nl/id/nbt/p165459026\n",
      "Naam-boekje van de wel ed. heeren der hoge Indiasche regeringe [...] op Batavia [...] zoo als dezelve ultimo maart 1760 in wezen zyn bevonden\n",
      "1761\n",
      "\n",
      "http://data.bibliotheken.nl/id/nbt/p159320992\n",
      "Reize in de binnenlanden van Afrika, langs de Kaap de Goede Hoop.\n",
      "1791\n",
      "\n",
      "http://data.bibliotheken.nl/id/nbt/p159664845\n",
      "De gedenkwaardige voyagie van Andries Battel [...] na Brasilien, en [...] Angola [...]. Ao. 1589.\n",
      "1706\n",
      "\n",
      "http://data.bibliotheken.nl/id/nbt/p165460539\n",
      "Naam-boekje van de wel ed. heeren der hoge India-sche regeringe [...] op Batavia [...] zoo als dezelve medio january 1765. in wezen zyn bevonden\n",
      "1766\n",
      "\n",
      "http://data.bibliotheken.nl/id/nbt/p159285119\n",
      "Reize naar de Kaap de Goede Hoop, de landen van den Zuidpool, en rondom de waereld. : 2 parts.\n",
      "1787\n",
      "\n",
      "http://data.bibliotheken.nl/id/nbt/p159666481\n",
      "Naaukeurige versameling der gedenk-waardigste zee en land-reysen na Oost en West-Indiën [...] zedert het jaar 1636 tot 1670\n",
      "1707\n",
      "\n",
      "http://data.bibliotheken.nl/id/nbt/p159662621\n",
      "Naaukeurige versameling der gedenk-waardigste zee en land-reysen na Oost en West-Indiën [...] zedert het jaar 1577 tot 1579\n",
      "1707\n",
      "\n",
      "http://data.bibliotheken.nl/id/nbt/p159666511\n",
      "Naaukeurige versameling der gedenk-waardigste zee en land-reysen na Oost en West-Indiën [...] zedert het jaar 1601 tot 1605\n",
      "1707\n",
      "\n",
      "http://data.bibliotheken.nl/id/nbt/p160363756\n",
      "Aenmerkens weerdige prophesye van den nieuwen propheet, genaemt Schaphti Zephir\n",
      "16XX\n",
      "\n",
      "http://data.bibliotheken.nl/id/nbt/p159667461\n",
      "De scheeps-togt van den heere Moüette uit Vrankryk na Amerika ondernoomen [...]. Verhalende [...] desselfs elf-jarige slaavernye [...] in [...] Marocco, zederd het jaar 1670.\n",
      "170X\n",
      "\n",
      "http://data.bibliotheken.nl/id/nbt/p165455055\n",
      "Naamboekje van de wel ed. heeren der hoge Indische regeringe [...] op Batavia [...]. Veranderd tot medio january 1754\n",
      "1755\n",
      "\n",
      "http://data.bibliotheken.nl/id/nbt/p165461217\n",
      "Naam-boekje van de wel ed. heeren der hooge Indiasche regeringe [...] op Batavia [...] zoo als dezelve in wezen zyn bevonden medio may 1769\n",
      "1770\n",
      "\n",
      "http://data.bibliotheken.nl/id/nbt/p165460164\n",
      "Naam-boekje van de wel ed. heeren der hoge Indiasche regeringe [...] op Batavia [...] zoo als dezelve ultimo april 1764 in wezen zyn bevonden\n",
      "1765\n",
      "\n",
      "http://data.bibliotheken.nl/id/nbt/p180313223\n",
      "Hedendaagsche historie of Het vervolg van de Algemeene historie [...] XIVde. deel [...] behelzende de historie der Afrikaansche eilanden. : 2 sections.\n",
      "1784\n",
      "\n",
      "http://data.bibliotheken.nl/id/nbt/p173537626\n",
      "Histoire du royaume d'Alger.\n",
      "1725\n",
      "\n",
      "http://data.bibliotheken.nl/id/nbt/p180310097\n",
      "Hedendaagsche historie; of Het vervolg van de Algemeene historie [...]. IIde deel [...] behelzende het vervolg van de historie der Arabieren. : 2 sections.\n",
      "1761\n",
      "\n",
      "http://data.bibliotheken.nl/id/nbt/p180313002\n",
      "Hedendaagsche historie of het vervolg van de Algemeene historie [...]. XIIIde. deel [...] behelzende de historie van de verstrooying der jooden. : 2 sections.\n",
      "1784\n",
      "\n",
      "http://data.bibliotheken.nl/id/nbt/p180315390\n",
      "Hedendaagsche historie of Het vervolg van de Algemeene historie [...]. XVIIde. deel [...]. Behelzende de historie van Algiers, Tunis, Tripoli en Barca; benevens die van [...] Malta. : 2 sections.\n",
      "1786\n",
      "\n",
      "http://data.bibliotheken.nl/id/nbt/p180310410\n",
      "Hedendaagsche historie; of Het vervolg van de Algemeene historie [...]. IIIde deel [...] behelzende het vervolg en besluit van de historie der Arabieren. : 2 sections.\n",
      "1764\n",
      "\n",
      "http://data.bibliotheken.nl/id/nbt/p181942941\n",
      "Histoire des révolutions de l'empire de Maroc.\n",
      "1731\n",
      "\n",
      "http://data.bibliotheken.nl/id/nbt/p173985645\n",
      "Memorie aan de edele mogende heeren commissarissen, tot het onderzoek van de bezwaaren der [...] burgery van Cabo de Goede Hoop, door derzelver gecommitteerden\n",
      "1787\n",
      "\n",
      "http://data.bibliotheken.nl/id/nbt/p180645749\n",
      "Naaukeurige en uitvoerige beschryving van de Kaap de Goede Hoop [...] nevens een [...] beschryving van den oorsprong der Hottentotten.\n",
      "1727\n",
      "\n",
      "http://data.bibliotheken.nl/id/nbt/p17488995X\n",
      "Waarnemingen over het Oosten uit reisbeschrijvingen, tot opheldering der Heilige Schrift.\n",
      "1774\n",
      "\n",
      "http://data.bibliotheken.nl/id/nbt/p180315161\n",
      "Hedendaagsche historie of Het vervolg van de Algemeene historie [...] XVIde. deel [...]. Behelzende de historie van de Goud-, Yvoor-, en Greinkust. : 2 sections.\n",
      "1786\n",
      "\n",
      "http://data.bibliotheken.nl/id/nbt/p180309765\n",
      "Hedendaagsche historie; of Het vervolg van de Algemeene historie [...]. Iste. deel [...] behelzende het leeven van Mohammed. : 2 sections.\n",
      "1760\n",
      "\n",
      "http://data.bibliotheken.nl/id/nbt/p181369613\n",
      "Relation d'un voyage de la mer du Sud, Detroit de Magellan, Bresil, Cayenne et les Isles Antilles.\n",
      "1715\n",
      "\n",
      "http://data.bibliotheken.nl/id/nbt/p180314947\n",
      "Hedendaagsche historie of Het vervolg van de Algemeene historie [...]. XVde. deel [...]. Behelzende de historie der Hottentotten. : 2 sections.\n",
      "1785\n",
      "\n",
      "http://data.bibliotheken.nl/id/nbt/p180230549\n",
      "Algemeene histori. : Part 15; 2 sections.\n",
      "1749\n",
      "\n",
      "http://data.bibliotheken.nl/id/nbt/p191068535\n",
      "Tweede scheeps-togt van don Vasco da Gamma [...] na Oost-Indien [...] in het jaar 1502.\n",
      "1706\n",
      "\n",
      "http://data.bibliotheken.nl/id/nbt/p202482839\n",
      "Memoires historiques, politiques, et litteraires, concernant le Portugal, et toutes ses dependances.\n",
      "1743\n",
      "\n",
      "http://data.bibliotheken.nl/id/nbt/p201980827\n",
      "Histoire philosophique et politique, des établissemens & du commerce des Européens dans les deux Indes. : Volume 7.\n",
      "1774\n",
      "\n",
      "http://data.bibliotheken.nl/id/nbt/p194191958\n",
      "Nouveau voyage de Grece, d'Egypte [...] et des Pais-Bas.\n",
      "1724\n",
      "\n",
      "http://data.bibliotheken.nl/id/nbt/p191061069\n",
      "Ongemeene scheeps-togten en manhafte krygs-bedryven [...] door Diego Lopez de Sequeira [...] in de Oost-Indien [...] in't jaar 1518.\n",
      "171X\n",
      "\n",
      "http://data.bibliotheken.nl/id/nbt/p19713436X\n",
      "Reizen en aanmerkingen, door en over Barbaryen en het Ooste.\n",
      "1773\n",
      "\n",
      "http://data.bibliotheken.nl/id/nbt/p202178161\n",
      "Voyage de Guinée, contenant une description nouvelle & très-exacte de cette côte où l'on trouve [...] l'or, les dents d'elephant, & les esclaves.\n",
      "1705\n",
      "\n",
      "http://data.bibliotheken.nl/id/nbt/p200792652\n",
      "Remarques d'un voyageur sur la Hollande, l'Allemagne, l'Italie, l'Espagne, le Portugal, l'Afrique, le Bresil, & quelques isles de la Méditerranée\n",
      "1728\n",
      "\n",
      "http://data.bibliotheken.nl/id/nbt/p191067709\n",
      "Eerste scheeps-togt van Vasco da Gamma, tot ontdekking van de Indien, in het jaar 1497.\n",
      "1706\n",
      "\n",
      "http://data.bibliotheken.nl/id/nbt/p202184102\n",
      "Reis-weg naar de Indiën, of Aardrijkskundige beschrijving van Egypten, Syriën [...] en Indiën.\n",
      "1799\n",
      "\n",
      "http://data.bibliotheken.nl/id/nbt/p19106808X\n",
      "Twee bysondere scheeps-togten na Oost-Indien, van Pedralvarez Cabral, in het jaar 1500. en Joan da Nova, in het jaar 1501.\n",
      "1706\n",
      "\n",
      "http://data.bibliotheken.nl/id/nbt/p191068667\n",
      "Twee bysondere scheeps-togten na Oost-Indien, van Francisco d'Albuquerque in het jaar 1503. en Lopo Soares in het jaar 1504.\n",
      "1706\n",
      "\n",
      "http://data.bibliotheken.nl/id/nbt/p203118197\n",
      "Voyages de monsr. Shaw [...] dans plusieurs provinces de la Barbarie et du Levant.\n",
      "1743\n",
      "\n",
      "http://data.bibliotheken.nl/id/nbt/p191065064\n",
      "Tien-jarige scheeps-togten en heldhaftige krijgs-bedrijven [...] door Nuno da Cunha [...] gedaan na en in Oost-Indien, in't jaar 1528, en vervolgens.\n",
      "171X\n",
      "\n",
      "http://data.bibliotheken.nl/id/nbt/p192671383\n",
      "Croisieres et négociations de mr. de Kinsbergen [...] avec des détails [...] politiques, sur [...] l'empire de Maroc.\n",
      "1779\n",
      "\n",
      "http://data.bibliotheken.nl/id/nbt/p191069442\n",
      "Held-dadige scheeps-togt van Alfonso d'Albuquerque, na de Roode-Zee, in het jaar 1506.\n",
      "171X\n",
      "\n",
      "http://data.bibliotheken.nl/id/nbt/p191069302\n",
      "Scheeps-togt van Tristano d'Acunha na Oost-Indien [...] in het jaar 1506.\n",
      "1706\n",
      "\n",
      "http://data.bibliotheken.nl/id/nbt/p201981130\n",
      "Histoire philosophique et politique des établissemens & du commerce des Européens dans les deux Indes.\n",
      "1774\n",
      "\n",
      "http://data.bibliotheken.nl/id/nbt/p203226887\n",
      "Waarnemingen over het Oosten uit reisbeschrijvingen, tot opheldering der Heilige Schrift.\n",
      "1778\n",
      "\n",
      "http://data.bibliotheken.nl/id/nbt/p191061689\n",
      "Roemwaardige scheeps-togten en dappere krygs-bedryven [...] onder't bestuur van don Duarte de Menezes, als [...] gouverneur van Oost-Indien [...] in't jaar 1521.\n",
      "171X\n",
      "\n",
      "http://data.bibliotheken.nl/id/nbt/p191255068\n",
      "Nouvelle relation de quelques endroits de Guinee, et du commerce d'esclaves qu'on y fait.\n",
      "1735\n",
      "\n",
      "http://data.bibliotheken.nl/id/nbt/p200981684\n",
      "Histoire du christianisme d'Ethiopie, et d'Armenie.\n",
      "1739\n",
      "\n",
      "http://data.bibliotheken.nl/id/nbt/p191067520\n",
      "De alder-eerste scheeps-togten der Portugysen, ter ontdekking van vreemde landen uytgesonden, in het jaar 1419 en vervolgens [...] langs de geheele zee-kust van Africa.\n",
      "1706\n",
      "\n",
      "http://data.bibliotheken.nl/id/nbt/p191085219\n",
      "Bloedige scheeps-togt van den maarschalk don Fernando Coutinho na Oost-Indien [...] in't jaar 1509.\n",
      "1706\n",
      "\n",
      "http://data.bibliotheken.nl/id/nbt/p190852771\n",
      "De gedenkwaardige voyagie van Andries Battel [...] na Brasilien, en [...] Angola [...]. Ao. 1589.\n",
      "1706\n",
      "\n",
      "http://data.bibliotheken.nl/id/nbt/p191068829\n",
      "Roemrugte scheeps-togt van Francisco d'Almeida na Oost-Indien [...] in't jaar 1505.\n",
      "1706\n",
      "\n",
      "http://data.bibliotheken.nl/id/nbt/p201980185\n",
      "Histoire philosophique et politique des etablissements & du commerce des Européens dans les deux Indes.\n",
      "1773\n",
      "\n",
      "http://data.bibliotheken.nl/id/nbt/p19419776X\n",
      "Voyage historique d'Abissinie.\n",
      "1728\n",
      "\n",
      "http://data.bibliotheken.nl/id/nbt/p191087041\n",
      "Scheeps-togten en manhafte krygs-bedryven [...] gedaan door Lopo Soares d'Albegeria [...] als [...] gouverneur der Oost-Indien [...] in't jaar 1515.\n",
      "1706\n",
      "\n",
      "http://data.bibliotheken.nl/id/nbt/p191328111\n",
      "Verbaal, gehouden by den commissaris van de Caap de Goede Hoop, A.J. Sluysken [...] den 10 juny 1795, en de overgaave van die kolonie aan [...] Groot-Brittannien\n",
      "1797\n",
      "\n",
      "http://data.bibliotheken.nl/id/nbt/p191085480\n",
      "Twee bysondere scheeps-togten na Oost-Indien, van Gonsalo de Sequeira in het jaar 1510. en Garcia de Noronha in het jaar 1511.\n",
      "1706\n",
      "\n",
      "http://data.bibliotheken.nl/id/nbt/p191085022\n",
      "Twee ongelukkige scheeps-togten na Oost-Indien, van Jorge de Mello, in het jaar 1507. en Jorge d'Aguiar, in het jaar 1508.\n",
      "1706\n",
      "\n",
      "http://data.bibliotheken.nl/id/nbt/p227912616\n",
      "Voyages du sr. A. de La Motraye, en Europe, Asie & Afrique\n",
      "1727\n",
      "\n",
      "http://data.bibliotheken.nl/id/nbt/p23026042X\n",
      "Histoire générale des roïaumes de Chypre, de Jerusalem, d'Arménie, et d'Egypte, comprenant les croisades [...] et [...] l'empire ottoman. : 2 parts.\n",
      "1747\n",
      "\n",
      "http://data.bibliotheken.nl/id/nbt/p234783524\n",
      "Eerste scheeps-togt van Vasco da Gamma, tot ontdekking van de Indien, in het jaar 1497.\n",
      "1706\n",
      "\n",
      "http://data.bibliotheken.nl/id/nbt/p234621427\n",
      "Voyage de monsieur Le Vaillant dans l'intérieur de l'Afrique\n",
      "1791\n",
      "\n",
      "http://data.bibliotheken.nl/id/nbt/p234868759\n",
      "Nadere memorie gedaan maaken; en aan de [...] heeren bewindhebberen der [...] Oost-Indische Compagnie [...] overgegeeven.\n",
      "1782\n",
      "\n",
      "http://data.bibliotheken.nl/id/nbt/p227871626\n",
      "Twee bysondere scheeps-togten na Oost-Indien, van Francisco d'Albuquerque, in het jaar 1503. En Lopo Soares in het jaar 1504.\n",
      "1706\n",
      "\n",
      "http://data.bibliotheken.nl/id/nbt/p229379583\n",
      "De alder-eerste scheeps-togten der Portugysen, ter ontdekking van vreemde landen uytgesonden, in het jaar 1419.\n",
      "1706\n",
      "\n",
      "http://data.bibliotheken.nl/id/nbt/p225908670\n",
      "Merkwaardige levensgevallen van Olaudah Equiano of Gustavus Vassa, den Afrikaan, door hem zelven beschreeven.\n",
      "1790\n",
      "\n",
      "http://data.bibliotheken.nl/id/nbt/p222438800\n",
      "Wederlegging van de argumenten [...] dewelke zyn geallegeert door [...] Diogo[!] de Mendoça Corte-Reâl, envoyé extraordinaris van [...] de koning van Portugaal [...] by zyne memorie [...] aan [...] de heeren Staaten Generaal [...] overgegeven op den 15 september des jaars 1727, ten einde daar mede te refuteren het Vertoogh, door de Generaale West-Indische Compagnie [...] gepresenteert [...] houdende de redenen, waaromme de Portugeesen niet bevoeght zyn, te varen op [...] Guinea\n",
      "1727\n",
      "\n",
      "http://data.bibliotheken.nl/id/nbt/p231599870\n",
      "De verovering van Syrien, Perzien en Egypten door de Saracenen.\n",
      "1741\n",
      "\n",
      "http://data.bibliotheken.nl/id/nbt/p229343228\n",
      "Etat général et particulier du royaume et de la ville d'Alger.\n",
      "1750\n",
      "\n",
      "http://data.bibliotheken.nl/id/nbt/p227871332\n",
      "Tweede scheeps-togt van don Vasco da Gamma [...] na Oost-Indien [...] in het jaar 1502.\n",
      "1706\n",
      "\n",
      "http://data.bibliotheken.nl/id/nbt/p236118854\n",
      "Histoire philosophique et politique. Des établissemens & du commerce des Européens dans les deux Indes. : Volume 7.\n",
      "1774\n",
      "\n",
      "http://data.bibliotheken.nl/id/nbt/p241564557\n",
      "L'Afrique hollandaise; ou Tableau historique et politique, de l'état originaire de la colonie du Cap de Bonne-Espérance.\n",
      "1783\n",
      "\n",
      "http://data.bibliotheken.nl/id/nbt/p241516498\n",
      "Abattichim sive Melones Ægyptii, ab Israëlitis desiderati Num. cap. XI. v. 5.\n",
      "1726\n",
      "\n",
      "http://data.bibliotheken.nl/id/nbt/p242279139\n",
      "Tractaat tusschen haar hoogh mog. de heeren Staaten Generaal [...] en de regeeringe van Algiers\n",
      "17XX\n",
      "\n",
      "http://data.bibliotheken.nl/id/nbt/p242023444\n",
      "Lotgevallen der Fransche veroveraars in Egypte\n",
      "1799\n",
      "\n",
      "http://data.bibliotheken.nl/id/nbt/p241572134\n",
      "Deductie, en eysch in cas van complaincte [...] aen de [...] geoctroyeerde Nederlandsche Westindische Maetschappy [...] overgelevert by [...] Huybert van Ryk [...] strekkende zoo tot wederlegging van alle poincten van beschuldiging [...] als tot recuperatie van [...] schadens [...] hem aengedaen by [...] Martinus François de Bordes\n",
      "17XX\n",
      "\n",
      "http://data.bibliotheken.nl/id/nbt/p241574498\n",
      "Extract uyt het register der resolutien gehouden by [...] bewindhebberen [...] van de Generaale Geoctrooyeerde West-Indische Compagnie [...] jovis den 29 october 1739\n",
      "1739\n",
      "\n",
      "http://data.bibliotheken.nl/id/nbt/p241568137\n",
      "[Verslag van de vergadering d.d. 31-05-1737 van de Raden over de procedure tegen Jacob Eleth]\n",
      "1737\n",
      "\n",
      "http://data.bibliotheken.nl/id/nbt/p274540894\n",
      "Redevoering, uitgesprooken voor de maatschappij tot bevoordering van kennis en godsdienstigheid onder den gemeenen man, binnen Londen, op den 21. van slagtmaand, 1787 [...]. Benevens Gedachten over den Afrikaanschen slaavenhandel.\n",
      "1788\n",
      "\n",
      "http://data.bibliotheken.nl/id/nbt/p290829208\n",
      "Journaal wegens de rampspoedige reys-tocht [...] met het oorlogschip genaamt Het huys in't bosch, gestrand op de Moorsche kust in Afrika [...] den 20 december 1751.\n",
      "17XX\n",
      "\n",
      "http://data.bibliotheken.nl/id/nbt/p291422993\n",
      "Naam-boekje van de wel ed. heeren der hooge Indiasche regeeringe [...] op Batavia [...] zoo als dezelve in wezen zyn bevonden ultimo december 1782\n",
      "1784\n",
      "\n",
      "http://data.bibliotheken.nl/id/nbt/p291034675\n",
      "Voyages de rabbi Benjamin fils de Jona de Tudele. En Europe, en Asie & en Afrique, depuis l'Espagne jusqu'à la Chine.\n",
      "1734\n",
      "\n",
      "http://data.bibliotheken.nl/id/nbt/p282367047\n",
      "Second voyage dans líntérieur de l'Afrique, par le Cap de Bonne-Espérance.\n",
      "1797\n",
      "\n",
      "http://data.bibliotheken.nl/id/nbt/p282362037\n",
      "Nieuwste en beknopte beschryving van de Kaap der Goede-Hope.\n",
      "1778\n",
      "\n",
      "http://data.bibliotheken.nl/id/nbt/p290717329\n",
      "Dagverhaal eener reize van Bassora na Bagdad.\n",
      "1787\n",
      "\n",
      "http://data.bibliotheken.nl/id/nbt/p292222041\n",
      "Aanmerkelyke geschiedenissen voorgevallen in Barbaryen.\n",
      "17XX\n",
      "\n",
      "http://data.bibliotheken.nl/id/nbt/p291420656\n",
      "Naam-boekje van de wel ed. heeren der hooge Indiasche regeeringe [...] op Batavia [...] zoo als dezelve in wezen zyn bevonden ultimo october 1780\n",
      "1782\n",
      "\n",
      "http://data.bibliotheken.nl/id/nbt/p290715156\n",
      "Reize van Jonas Korte naar Palestina, Egypte [...] met [...] aanmerkingen [...] ten bewyze, dat het beloofde land [...] sedert meer dan zeventien eeuwen onder den vloek ligt.\n",
      "1776\n",
      "\n",
      "http://data.bibliotheken.nl/id/nbt/p291412505\n",
      "Naam-boekje van de wel ed. heeren der hooge Indiasche regeringe [...] op Batavia [...] zoo als dezelve in wezen zyn bevonden ultimo december 1770\n",
      "1772\n",
      "\n",
      "http://data.bibliotheken.nl/id/nbt/p282362916\n",
      "Dag-verhaal gehouden op een landtogt, door het land der kleine en groote Namacquas.\n",
      "1778\n",
      "\n",
      "http://data.bibliotheken.nl/id/nbt/p291427316\n",
      "Naam-boekje van de wel ed. heeren der hooge Indiasche regeeringe [...] op Batavia [...] zoo als dezelve in wezen zyn bevonden ultimo december 1783\n",
      "1785\n",
      "\n",
      "http://data.bibliotheken.nl/id/nbt/p291430554\n",
      "Naam-boekje van de wel ed. heeren der hooge Indiasche regeeringe [...] op Batavia [...] zoo als dezelve in wezen zyn bevonden in 1785\n",
      "1786\n",
      "\n",
      "http://data.bibliotheken.nl/id/nbt/p298895137\n",
      "Reizen en aanmerkingen, door en over Barbaryen en het Ooste.\n",
      "1780\n",
      "\n",
      "http://data.bibliotheken.nl/id/nbt/p29854041X\n",
      "De geschiedenis van Dahomy, een binnenlands koningrijk van Afrika.\n",
      "1800\n",
      "\n",
      "http://data.bibliotheken.nl/id/nbt/p298553171\n",
      "[Stukken rakende de geschillen tussen enige Kaapsche burgers en de gouverneur J. van Plettenberg]\n",
      "1785\n",
      "\n",
      "http://data.bibliotheken.nl/id/nbt/p297866087\n",
      "Rampspoedige reys-beschryving, ofte Journaal van 'sed: Oostindische Compagnies schip Blydorp, zynde [...] verongelukt op de Guineese ofte Moorse kust [...] anno 1733.\n",
      "1735\n",
      "\n",
      "http://data.bibliotheken.nl/id/nbt/p298801469\n",
      "Nieuwe reize naar de binnenste gedeelten van Afrika.\n",
      "1800\n",
      "\n",
      "http://data.bibliotheken.nl/id/nbt/p298738430\n",
      "Voyages de Mr. de Thevenot en Europe, Asie & Afrique\n",
      "1727\n",
      "\n",
      "http://data.bibliotheken.nl/id/nbt/p298088738\n",
      "Voyages d'un philosophe, ou Observations sur les mœurs & les arts des peuples de l'Afrique, de l'Asie & de l'Amérique.\n",
      "1779\n",
      "\n",
      "http://data.bibliotheken.nl/id/nbt/p298793865\n",
      "Egypten, zoo als hetzelve oudtijds was - nu is - en wezen konde.\n",
      "1800\n",
      "\n",
      "http://data.bibliotheken.nl/id/nbt/p298124289\n",
      "Reis na Guinea en de Caribische eilanden in Columbien.\n",
      "1790\n",
      "\n",
      "http://data.bibliotheken.nl/id/nbt/p304446270\n",
      "Naam-boekje van de wel ed. heeren der hooge Indiasche regeeringe [...] op Batavia [...] zoo als dezelve in wezen zyn bevonden ultimo december 1778\n",
      "1780\n",
      "\n",
      "http://data.bibliotheken.nl/id/nbt/p304734675\n",
      "Gewigtige aanmerkingen over de klagten en bezwaaren der Kaapsche burgery\n",
      "1786\n",
      "\n",
      "http://data.bibliotheken.nl/id/nbt/p304684252\n",
      "Histoire philosophique et politique. Des établissemens & du commerce des Européens dans les deux Indes. : Volume 2.\n",
      "1774\n",
      "\n",
      "http://data.bibliotheken.nl/id/nbt/p304684473\n",
      "Histoire philosophique et politique. Des établissemens & du commerce des Européens dans les deux Indes. : Volume 3.\n",
      "1774\n",
      "\n",
      "http://data.bibliotheken.nl/id/nbt/p304685720\n",
      "Histoire philosophique et politique. Des établissemens & du commerce des Européens dans les deux Indes. : Volume 5.\n",
      "1774\n",
      "\n",
      "http://data.bibliotheken.nl/id/nbt/p305034715\n",
      "Histoire philosophique et politique. Des établissemens & du commerce des Européens dans les deux Indes. : Volume 4.\n",
      "1774\n",
      "\n",
      "http://data.bibliotheken.nl/id/nbt/p304685097\n",
      "Histoire philosophique et politique. Des établissemens & du commerce des Européens dans les deux Indes. : Volume 4.\n",
      "1774\n",
      "\n",
      "http://data.bibliotheken.nl/id/nbt/p304489573\n",
      "Naam-boekje van de wel ed. heeren der hooge Indiasche regeeringe [...] op Batavia [...] zoo als dezelve in wezen zyn bevonden in february 1787\n",
      "1788\n",
      "\n",
      "http://data.bibliotheken.nl/id/nbt/p305034952\n",
      "Histoire philosophique et politique. Des établissemens & du commerce des Européens dans les deux Indes. : Volume 3.\n",
      "1774\n",
      "\n",
      "http://data.bibliotheken.nl/id/nbt/p305034553\n",
      "Histoire philosophique et politique. Des établissemens & du commerce des Européens dans les deux Indes. : Volume 6.\n",
      "1774\n",
      "\n",
      "http://data.bibliotheken.nl/id/nbt/p304442941\n",
      "Naam-boekje van de wel ed. heeren der hooge Indiasche regeeringe [...] op Batavia [...] zoo als dezelve in wezen zyn bevonden ultimo april 1775\n",
      "1776\n",
      "\n",
      "http://data.bibliotheken.nl/id/nbt/p304433438\n",
      "Naam-boekje van de wel ed. heeren der hooge Indiasche regeringe [...] op Batavia [...] zoo als dezelve in wezen zyn bevonden ult. may 1768\n",
      "1769\n",
      "\n",
      "http://data.bibliotheken.nl/id/nbt/p304398330\n",
      "Voyage du sieur Paul Lucas [...] dans La Grece, L'Asie mineure, La Macedoine et L'Afrique\n",
      "1714\n",
      "\n",
      "http://data.bibliotheken.nl/id/nbt/p304683167\n",
      "Histoire philosophique et politique. Des établissemens & du commerce des Européens dans les deux Indes. : Volume 1.\n",
      "1774\n",
      "\n",
      "http://data.bibliotheken.nl/id/nbt/p304491659\n",
      "Naam-boekje van de wel ed. heeren der hooge Indiasche regeeringe [...] op Batavia [...] zoo als dezelve in wezen zyn bevonden ultimo december 1787\n",
      "1789\n",
      "\n",
      "http://data.bibliotheken.nl/id/nbt/p304203262\n",
      "Tractaat tusschen haar hoog mog. de heeren Staaten Generaal [...] en de regeeringe van Algiers. Geslooten in het jaar 1757\n",
      "1760\n",
      "\n",
      "http://data.bibliotheken.nl/id/nbt/p304444499\n",
      "Naam-boekje van de wel ed. heeren der hooge Indiasche regeeringe [...] op Batavia [...] zoo als dezelve in wezen zyn bevonden medio april 1776\n",
      "1777\n",
      "\n",
      "http://data.bibliotheken.nl/id/nbt/p304663573\n",
      "Tractaat tusschen haar hoogh mog. de heeren Staaten Generaal [...] en de regeeringe van Algiers\n",
      "1726\n",
      "\n",
      "http://data.bibliotheken.nl/id/nbt/p304479373\n",
      "Naam-boekje van de wel ed. heeren der hooge Indiasche regeeringe [...] op Batavia [...] zoo als dezelve in wezen zyn bevonden ultimo december 1780\n",
      "1783\n",
      "\n",
      "http://data.bibliotheken.nl/id/nbt/p304442100\n",
      "Naam-boekje van de wel ed. heeren der hooge Indiasche regeeringe [...] op Batavia [...] zoo als dezelve in wezen zyn bevonden medio may 1774\n",
      "1775\n",
      "\n",
      "http://data.bibliotheken.nl/id/nbt/p304476439\n",
      "Naam-boekje van de wel ed. heeren der hooge Indiasche regeeringe [...] op Batavia [...] zoo als dezelve in wezen zyn bevonden ultimo december 1779\n",
      "1781\n",
      "\n",
      "http://data.bibliotheken.nl/id/nbt/p30503443X\n",
      "Histoire philosophique et politique. Des établissemens & du commerce des Européens dans les deux Indes. : Volume 7.\n",
      "1774\n",
      "\n",
      "http://data.bibliotheken.nl/id/nbt/p304635308\n",
      "Aanmerkingen van eenen reiziger, over Hollandt, Duitschlandt, Italie, Spanje, Portugaal, Brazilie, Africa.\n",
      "1729\n",
      "\n",
      "http://data.bibliotheken.nl/id/nbt/p305034626\n",
      "Histoire philosophique et politique. Des établissemens & du commerce des Européens dans les deux Indes. : Volume 5.\n",
      "1774\n",
      "\n",
      "http://data.bibliotheken.nl/id/nbt/p30503507X\n",
      "Histoire philosophique et politique. Des établissemens & du commerce des Européens dans les deux Indes. : Volume 2.\n",
      "1774\n",
      "\n",
      "http://data.bibliotheken.nl/id/nbt/p304686115\n",
      "Histoire philosophique et politique. Des établissemens & du commerce des Européens dans les deux Indes. : Volume 6.\n",
      "1774\n",
      "\n",
      "http://data.bibliotheken.nl/id/nbt/p308108361\n",
      "Reis in Palestina, Egypten, op den berg Libanon, Syrie, en Mesopotamie. : Part 1.\n",
      "1778\n",
      "\n",
      "http://data.bibliotheken.nl/id/nbt/p313706794\n",
      "Geographische, natuurkundige en historische berichten over Asie, Afrika en Amerika.\n",
      "1769\n",
      "\n",
      "http://data.bibliotheken.nl/id/nbt/p310394597\n",
      "Relation de la defaite de six corsaires d'Algers qui ont esté brulés sur les costes de Barbarie le 28 aout 1670. Par monsieur le lieutenant-amiral van Ghent\n",
      "1670\n",
      "\n",
      "http://data.bibliotheken.nl/id/nbt/p310796504\n",
      "Second memoire sur le pais des cafres, et la terre de Nuyts. Servant d'éclaircissement aux propositions faites dans le premier, pour l'utilité de la Compagnie des Indes Orientales.\n",
      "1718\n",
      "\n",
      "http://data.bibliotheken.nl/id/nbt/p308952014\n",
      "Voyage historique d'Abissinie.\n",
      "1728\n",
      "\n",
      "http://data.bibliotheken.nl/id/nbt/p310585155\n",
      "Idées d'un citoyen sur la puissance du roi et le commerce de la nation dans l'orient.\n",
      "1763\n",
      "\n",
      "http://data.bibliotheken.nl/id/nbt/p310797543\n",
      "Memoire sur le pais des cafres, et la terre de Nuyts. Par raport à l'utilité que la Compagnie des Indes Orientales en pourroit retirer pour son commerce.\n",
      "1718\n",
      "\n",
      "http://data.bibliotheken.nl/id/nbt/p310748305\n",
      "Onderrichtingen wegens het reizen over land, langs den wech van Suez door Egypte, na Europa.\n",
      "1786\n",
      "\n",
      "http://data.bibliotheken.nl/id/nbt/p316061093\n",
      "Histoire philosophique et politique, des établissemens & du commerce des Européens dans les deux Indes.\n",
      "1770\n",
      "\n",
      "http://data.bibliotheken.nl/id/nbt/p316303887\n",
      "Merkwaardige reize van Zeeland over de Kaap de Goede Hoop, naar Batavia [...] door J.S. Stavorinus\n",
      "179X\n",
      "\n",
      "http://data.bibliotheken.nl/id/nbt/p315623535\n",
      "Histoire philosophique et politique, des etablissemens & du commerce des Européens dans les deux Indes.\n",
      "1772\n",
      "\n",
      "http://data.bibliotheken.nl/id/nbt/p315851252\n",
      "Omstandig en waarachtig dagverhaal.\n",
      "17XX\n",
      "\n",
      "http://data.bibliotheken.nl/id/nbt/p315623543\n",
      "Remonstrantien van bewindhebberen van de [...] West-Indische Compagnie. Overgelevert aan de [...] Staaten Generaal der Vereenigde Nederlanden\n",
      "1719\n",
      "\n",
      "http://data.bibliotheken.nl/id/nbt/p315623225\n",
      "Iste. deductie van bewindhebberen van de [...] West-Indische Compagnie. Overgelevert aan de [...] Staten Generaal der Vereenigde Nederlanden. Wegens't nemen van't eerste scheepje genaamt de Marquis de Prie, door de schepen van de West-Indische Compagnie\n",
      "1719\n",
      "\n",
      "http://data.bibliotheken.nl/id/nbt/p315722525\n",
      "Navigatie ende vryen koop-handel, op de custen van Guinea in Africa, voor de subjecten van sijne majesteyt van Spaignien in de Nederlanden\n",
      "1699\n",
      "\n",
      "http://data.bibliotheken.nl/id/nbt/p315602082\n",
      "Histoire philosophique et politique Des établissements & du commerce des Européens dans les deux Indes. [...] Pour servir de supplément à l'édition publiée en six volumes, sous le titre d'Amsterdam, 1773 : Part 7.\n",
      "1774\n",
      "\n",
      "http://data.bibliotheken.nl/id/nbt/p315445750\n",
      "Nauwkeurige beschryving van de Guinese goud- tand- en slavekust. : 2 parts.\n",
      "1718\n",
      "\n",
      "http://data.bibliotheken.nl/id/nbt/p337701415\n",
      "Scheeps-togt van Tristano d'Acunha na Oost-Indien [...] in het jaar 1506.\n",
      "170X\n",
      "\n",
      "http://data.bibliotheken.nl/id/nbt/p336300034\n",
      "D'uytgelesenste wonderen, en bysonderste seldsaemheden eeniger landen en volckeren in America, Asia, en Africa, gelijck deselve bevonden wierden [...] van d'eerste ontdeckers [...] als Christophorus, Calumbus [...] en meer andere.\n",
      "1670\n",
      "\n",
      "http://data.bibliotheken.nl/id/nbt/p333442490\n",
      "Beschryving van Batavia, met deszelfs kasteel en publyke gebouwen [...]. Waar achter een dagverhaal van den opstandt der Sinesen [...] in october en november 1740\n",
      "1742\n",
      "\n",
      "http://data.bibliotheken.nl/id/nbt/p330028936\n",
      "Capitulatie van Tripoli\n",
      "1713\n",
      "\n",
      "http://data.bibliotheken.nl/id/nbt/p337700249\n",
      "Roemrugte scheeps-togt van Francisco d'Almeida na Oost-Indien [...] in't jaar 1505.\n",
      "170X\n",
      "\n",
      "http://data.bibliotheken.nl/id/nbt/p337895600\n",
      "Merkwaardig relaas van den kommandeur Adriaan vander Kam, wegens het neemen van zyn schip de Maria Louiza, door de Algerynen\n",
      "1755\n",
      "\n",
      "http://data.bibliotheken.nl/id/nbt/p333445066\n",
      "Ceremonieel of inhalinge van zyn hoog edelheid [...] Gustaaf Willem baron van Imhoff [...] by deszelfs arrivement zo aan de Caap Goede Hoop als op Batavia en Ceylon\n",
      "174X\n",
      "\n",
      "http://data.bibliotheken.nl/id/nbt/p339891289\n",
      "Dialogue de Genes et d'Algers villes foudroyées, par les armes invincibles de Louis le Grand l'année 1684.\n",
      "1685\n",
      "\n",
      "http://data.bibliotheken.nl/id/nbt/p332868214\n",
      "Histoire philosophique et politique des etablissements & du commerce des Européens dans les deux Indes.\n",
      "1773\n",
      "\n",
      "http://data.bibliotheken.nl/id/nbt/p333444477\n",
      "Beknopt verhaal der vesting, stad en 't land van de Kaap Goede Hoop\n",
      "1742\n",
      "\n",
      "http://data.bibliotheken.nl/id/nbt/p331559676\n",
      "Reizen en aanmerkingen, door en over Barbaryen en het Ooste. : Volume 1.\n",
      "1780\n",
      "\n",
      "http://data.bibliotheken.nl/id/nbt/p337031185\n",
      "Omstandig verhaal van de schipbreuk en slavernij.\n",
      "1791\n",
      "\n",
      "http://data.bibliotheken.nl/id/nbt/p333445201\n",
      "Redeneerent vertoog, over het convoyeeren der Nederlandse scheepsvaart tegen de Algerynen\n",
      "17XX\n",
      "\n",
      "http://data.bibliotheken.nl/id/nbt/p329579231\n",
      "Tractaat tusschen haar hoogh mog. de heeren Staaten Generaal [...] en de regeeringe van Algiers\n",
      "17XX\n",
      "\n",
      "http://data.bibliotheken.nl/id/nbt/p33314614X\n",
      "Tractaat tusschen haar hoogh mog. de heeren Staaten Generaal [...] en de regeeringe van Algiers\n",
      "1726\n",
      "\n",
      "http://data.bibliotheken.nl/id/nbt/p330019295\n",
      "Hedendaagsche historie; of Het vervolg van de Algemeene historie [...]. IIde deel [...] behelzende het vervolg van de historie der Arabieren. : 2 sections.\n",
      "1760\n",
      "\n",
      "http://data.bibliotheken.nl/id/nbt/p338887725\n",
      "Relations de plusieurs voyages a la cote d'Afrique, a Maroc, au Sénégal, a Gorée, A Galam, &c.\n",
      "1792\n",
      "\n",
      "http://data.bibliotheken.nl/id/nbt/p419272704\n",
      "Publicatie. De Staaten Generaal der Vereenigde Nederlanden [...] doen te weeten [...] dat wy [...] goedgevonden hebben [...] dat alle onderdaanen van deese republicq, geduurende het octroy aan de Westindische Compagnie verleent, en sulks tot den jaare 1760 inclusive, by continuatie sullen moogen navigeeren en negotieeren op en langs het district van de sestig mylen, beginnende van kaap Apollonia, en sig uitstrekkende tot aan de Rio de la Volta\n",
      "1754\n",
      "\n",
      "http://data.bibliotheken.nl/id/nbt/p402331516\n",
      "Voyage du sieur Paul Lucas au Levant\n",
      "1709\n",
      "\n",
      "http://data.bibliotheken.nl/id/nbt/p395324130\n",
      "Naamboekje van de wel-ed. heren der hoge Indische regeringe [...] op Batavia [...] gelykze in wezen zyn geweest primo maart 1741\n",
      "1742\n",
      "\n",
      "http://data.bibliotheken.nl/id/nbt/p39799639X\n",
      "Niewe tydinge vande stadt van Africa in Barbarien, hoe die inden naem van der key. M. gewonnen is op den. x. dach septembris. Anno M.D.L.\n",
      "15XX\n",
      "\n",
      "http://data.bibliotheken.nl/id/nbt/p419275509\n",
      "Publicatie. De Staaten Generaal der vereenigde Nederlanden [...] doen te weeten; nademaal de regeering van Algiers, de vreede met deselve in den jaare 1726 gemaakt [...] sonder eenige oorsaak trouwlooflijk heeft verbrooken [...]. Soo is't, dat wy ten deesen einde [...] ordre gesteld hebben tot het uitrusten van eenige fregatten van oorlog\n",
      "1755\n",
      "\n",
      "http://data.bibliotheken.nl/id/nbt/p41928432X\n",
      "Publicatie. De Staaten Generaal der vereenigde Nederlanden [...] doen te weeten: nademaal tusschen sijne majesteit Muley Abdala, keyser van Marocco [...] en ons, op den 21 november 1752 is geslooten een tractaat van vreede en commercie, en Sidy Mohamet, erfprins van het Ryk van Marocco, alsnu aan het voorschreeve tractaat is geaccedeert\n",
      "1756\n",
      "\n",
      "http://data.bibliotheken.nl/id/nbt/p413584488\n",
      "Voyage du sieur Paul Lucas au Levant\n",
      "1705\n",
      "\n",
      "http://data.bibliotheken.nl/id/nbt/p436749092\n",
      "Brief van Iohan Valckenburgh, directeur generael van wegen de geoctroyeerde West-Indische Compagnie [...] op de custe van Guinea, geschreven aende heeren Staten Generael\n",
      "1665\n",
      "\n",
      "http://data.bibliotheken.nl/id/nbt/p435574175\n",
      "VVaerachtighe beschryvinge van een verschrickelijcke aertbevinghe ende vervaerlijck onweder [...] opt eylant van Tercera [...] den 26. may 1614. Met noch een vreemde rydinghe gheschiet in West-Indien [...] den 15. augusti deses jaers 1614\n",
      "1614\n",
      "\n",
      "http://data.bibliotheken.nl/id/nbt/p831526572\n",
      "Een vvonderlicke ende vreemde nieuwe tijdinghe, gheschreven uyt Barbarien, hoe dat hem aldaer eenen nieuwen coninck op-gheworpen heeft, ghenaemt Muley Hamet ben Abdela\n",
      "1612\n",
      "\n",
      "http://data.bibliotheken.nl/id/nbt/p436176831\n",
      "Brief van Iohan Valckenburgh, directeur generael van wegen de geoctroyeerde West-Indische Compagnie [...] op de custe van Guinea, geschreven aende heeren Staten Generael\n",
      "1665\n",
      "\n",
      "http://data.bibliotheken.nl/id/nbt/p831773510\n",
      "Propositie gedaen in de vergaderinge van [...] de heere Staten Generael [...] den 28 iuly 1659.\n",
      "1659\n",
      "\n",
      "http://data.bibliotheken.nl/id/nbt/p822777193\n",
      "Waerachtigh verhael, van 'tgeene voor-gevallen is in de conincklijcke armade, gecommandeert door den heer hertoge van Beaufort, na zijn arrivement aen Porte Mahon, tot zijn landinghe die hy ghedaen heeft tot Gigiry in Africa.\n",
      "1664\n",
      "\n",
      "http://data.bibliotheken.nl/id/nbt/p437186350\n",
      "Ampliatie tot het tractaat van vrede tusschen [...] de Staaten Generaal [...] en den Dey en regering van Algiers\n",
      "1760\n",
      "\n",
      "http://data.bibliotheken.nl/id/nbt/p822729156\n",
      "Historisch verhael, der wonderlike ende seer zeldsame voor-vallen, den gene bejegent die met het retour-schip Aernhem, van Batavia na het vaderland verreist zyn den 23 decem. 1661.\n",
      "1663\n",
      "\n",
      "http://data.bibliotheken.nl/id/nbt/p822625539\n",
      "De reyse naer Africa, Tunis, Algiers, &c, gedaen in den jare 1625. onder't beleyd van dr. Ryn-acker[!], als ambassadeur van haere hog: mog: tot lossinghe van de christene slaven\n",
      "1650\n",
      "\n",
      "http://data.bibliotheken.nl/id/nbt/p850586712\n",
      "Klare besgryving van Cabo de Bona Esperanca\n",
      "1652\n",
      "\n",
      "http://data.bibliotheken.nl/id/nbt/p850168058\n",
      "Historie van Barbaryen, en des zelfs zee-roovers.\n",
      "1684\n",
      "\n",
      "http://data.bibliotheken.nl/id/nbt/p844137200\n",
      "Dialogue de Genes & d'Algers villes foudroyées, par les armes invincibles de Louis le Grand l'année 1684.\n",
      "1685\n",
      "\n",
      "http://data.bibliotheken.nl/id/nbt/p850625289\n",
      "Zee- en lant-reyse, na verscheyde deelen van Asia en Africa.\n",
      "1665\n",
      "\n",
      "http://data.bibliotheken.nl/id/nbt/p851997155\n",
      "Navigatio ac itinerarivm Iohannis Hvgonis Linscotani in Orientalem sive Lvsitanorvm Indiam.\n",
      "1599\n",
      "\n",
      "http://data.bibliotheken.nl/id/nbt/p843002492\n",
      "Naukeurige beschrijvinge der Afrikaensche gewesten.\n",
      "1676\n",
      "\n",
      "http://data.bibliotheken.nl/id/nbt/p843002174\n",
      "Naukeurige beschrijvinge der Afrikaensche eylanden.\n",
      "1676\n",
      "\n",
      "http://data.bibliotheken.nl/id/nbt/p843478306\n",
      "Vermeerdert journael of Kort verhael van 't begin, voortgangh en eynde des oorloghs tusschen den koningh en verdere regeeringe van Macassar, en de Nederlandtsche geoctroyeerde Oost-Indische compagnie\n",
      "1669\n",
      "\n",
      "http://data.bibliotheken.nl/id/nbt/p843061189\n",
      "Naukeurige beschrijvinge der Afrikaensche gewesten.\n",
      "1668\n",
      "\n",
      "http://data.bibliotheken.nl/id/nbt/p843473002\n",
      "Romani collegii Societatis Jesu musæum celeberrimum.\n",
      "1678\n",
      "\n",
      "http://data.bibliotheken.nl/id/nbt/p850836832\n",
      "Beschryvinge van de goudt-kust Guinea.\n",
      "1650\n",
      "\n",
      "http://data.bibliotheken.nl/id/nbt/p850988993\n",
      "Extract van seeckeren brief, gheschreven uyt Loando St. Paulo, in Angola, van weghen de groote victorie die de onse verkregen hebben tegen de Portugesen\n",
      "1648\n",
      "\n",
      "http://data.bibliotheken.nl/id/nbt/p843061677\n",
      "Naukeurige beschrijvinge der Afrikaensche eylanden.\n",
      "1668\n",
      "\n",
      "http://data.bibliotheken.nl/id/nbt/p842169407\n",
      "Antwoorde rescriptie van de heeren ter admiraliteyt t'Amsterdam waer by sy oordelen, ende adviseren, datmen de joncxste tractaten met de roovers van Algiers opgerecht [...] geenssints en behoorde aen te nemen\n",
      "1662\n",
      "\n",
      "http://data.bibliotheken.nl/id/nbt/p850764696\n",
      "Turckse slavernie.\n",
      "1666\n",
      "\n",
      "http://data.bibliotheken.nl/id/nbt/p863290817\n",
      "Journael, gehouden op de reyse naer Guinea, onder het beleyt van de heer de Ruyter, 'tsedert het vertreck van Cadix, den 5. october 1664\n",
      "1665\n",
      "\n",
      "http://data.bibliotheken.nl/id/nbt/p880013346\n",
      "Vervolg, en het overige van de omstandige beschryving van Guinea: als mede de handelwyze der inwoonders.\n",
      "1770\n",
      "\n",
      "http://data.bibliotheken.nl/id/nbt/p862879477\n",
      "Extraordinare relatie vande treffelijcke victorie, dewelcke sijne majesteyt Carolus Stuart [...] door [...] Montagu met 25 schepen en branders op de [...] roovers van Algiers bevochten [...] heeft\n",
      "1661\n",
      "\n",
      "http://data.bibliotheken.nl/id/nbt/p880026456\n",
      "Tractaat tusschen haar hoog mogende de heeren Staaten Generaal [...] en de regeeringe van Algiers. Geslooten in het jaar 1757\n",
      "1757\n",
      "\n",
      "http://data.bibliotheken.nl/id/nbt/p079286542\n",
      "Description et recit historial dv riche royavme d'or de Gvnea.\n",
      "1605\n",
      "\n",
      "http://data.bibliotheken.nl/id/nbt/p080268005\n",
      "Itinerarivm, ofte schipvaert naer Oost ofte Portugaels Indien.\n",
      "1614\n",
      "\n",
      "http://data.bibliotheken.nl/id/nbt/p09381903X\n",
      "De reysen van R. Benjamin Jonasz Tudelens.\n",
      "1666\n",
      "\n",
      "http://data.bibliotheken.nl/id/nbt/p080396623\n",
      "Beschrijvinghe ende historische verhael, vant gout koninckrijck van Guinea.\n",
      "1617\n",
      "\n",
      "http://data.bibliotheken.nl/id/nbt/p085703052\n",
      "Histoire de la navigation de Iean Hvgves de Linscot Hollandois et de son voyage es Indes Orientales.\n",
      "1610\n",
      "\n",
      "http://data.bibliotheken.nl/id/nbt/p088147002\n",
      "Beschrijvinge van't koningkrijck Congo, met 't aenpalende landt Angola.\n",
      "1650\n",
      "\n",
      "http://data.bibliotheken.nl/id/nbt/p080268625\n",
      "Beschrijvinghe van de gantsche custe van Guinea.\n",
      "1614\n",
      "\n",
      "http://data.bibliotheken.nl/id/nbt/p085035769\n",
      "Histoire de la navigation de Iean Hvgves de Linscot Hollandois et de son voyage es Indes Orientales.\n",
      "1610\n",
      "\n",
      "http://data.bibliotheken.nl/id/nbt/p125343914\n",
      "Copie translaet uyt den Turcxschen ghesonden van Algiers ende Tunis aende [...] Staten Generael\n",
      "1623\n",
      "\n",
      "http://data.bibliotheken.nl/id/nbt/p12569864X\n",
      "Brief, van heer Philippvs koningh van Sierra Leona, aen de majesteyt van Spaengien. Vermeldende vande goudt-ende-zilverrijcke koninghrijcken, aldaer ende ontrent ghelegen.\n",
      "1621\n",
      "\n",
      "http://data.bibliotheken.nl/id/nbt/p121625435\n",
      "Klare besgryving van't eyland Sanct Helena\n",
      "1652\n",
      "\n",
      "http://data.bibliotheken.nl/id/nbt/p123817943\n",
      "Nievwe tydinge een waerachtighe beschryvinghe van de verschrikkelijcke aertbevinghe [...] geschiedt op het eylant van Tercera\n",
      "1614\n",
      "\n",
      "http://data.bibliotheken.nl/id/nbt/p115845801\n",
      "Itinerarivm D. Beniaminis.\n",
      "1633\n",
      "\n",
      "http://data.bibliotheken.nl/id/nbt/p156370492\n",
      "Tractaat tusschen haar hoogh mog. de heeren Staaten Generaal [...] en de regeeringe van Algiers\n",
      "1726\n",
      "\n",
      "http://data.bibliotheken.nl/id/nbt/p155813730\n",
      "Hedendaagsche historie, of Tegenwoordige staat van alle volkeren [...]. V. deel. Behelzende [...] het Turksche ryk in Asia en Africa.\n",
      "1733\n",
      "\n",
      "http://data.bibliotheken.nl/id/nbt/p15637028X\n",
      "Tractaat tusschen haar hoogh mog. de heeren Staaten Generaal [...] en de regeeringe van Algiers\n",
      "1726\n",
      "\n",
      "http://data.bibliotheken.nl/id/nbt/p157595536\n",
      "Histoire philosophique et politique des établissements & du commerce des Européens dans les deux Indes.\n",
      "1775\n",
      "\n",
      "http://data.bibliotheken.nl/id/nbt/p156058804\n",
      "Hedendaagsche historie of Tegenwoordige staat van Afrika.\n",
      "1763\n",
      "\n",
      "http://data.bibliotheken.nl/id/nbt/p153653388\n",
      "Reize en ontdekkingen in de binnen-landen van Africa.\n",
      "1800\n",
      "\n",
      "http://data.bibliotheken.nl/id/nbt/p155211129\n",
      "Journaal, van het Oost-Indische schip Blydorp, uitgevaren na Batavia. In den jaare 1733. den 6 july, en tusschen den 11 en 12 augustus, aan de Moorze kust verongelukt\n",
      "1734\n",
      "\n",
      "http://data.bibliotheken.nl/id/nbt/p156370719\n",
      "Tractaat tusschen haar hoogh mog. de heeren Staaten Generaal [...] en de regeeringe van Algiers\n",
      "1726\n",
      "\n",
      "http://data.bibliotheken.nl/id/nbt/p156754509\n",
      "De grote nieuw-bereisde wereld: begrypende zes reizen.\n",
      "1718\n",
      "\n",
      "http://data.bibliotheken.nl/id/nbt/p169011216\n",
      "Proeve over de middelen die tot bescherminge van de zeevaart en koophandel, en verdediging van de binnen- en buiten-landsche bezittingen zouden kunnen aangewend worden\n",
      "1783\n",
      "\n",
      "http://data.bibliotheken.nl/id/nbt/p167251929\n",
      "Introduction a l'histoire de l'Asie, de l'Afrique, et de l'Amerique.\n",
      "1735\n",
      "\n",
      "http://data.bibliotheken.nl/id/nbt/p166110205\n",
      "Verzameling van authentieke en andere stukken, betreffende de zaak tusschen Johannes Henricus Redelinghuijs aan de eene, en Pieter Paulus en Reinier Leendert Bouwens aan de andere zijde\n",
      "1796\n",
      "\n",
      "http://data.bibliotheken.nl/id/nbt/p167560158\n",
      "Reize van Jonas Korte naar Palestina, Egypte [...] met [...] aanmerkingen [...] ten bewyze, dat het beloofde land [...] sedert meer dan zeventien eeuwen onder den vloek ligt.\n",
      "1781\n",
      "\n",
      "http://data.bibliotheken.nl/id/nbt/p171723465\n",
      "Ample deductie, continerende de justificatie van het goet reght, de generale geoctroyeerde West-Indische Compagnie [...] competerende, tot den privativen handel op de goud-custe van Guinea [...] jegens de [...] Brandenburgse Africaense Compagnie\n",
      "1685\n",
      "\n",
      "http://data.bibliotheken.nl/id/nbt/p165906588\n",
      "Rampspoedige reys-beschryving ofte Journaal van 's ed: Oostindische Compagnies schip Blydorp, zynde [...] verongelukt op de Guineese ofte Moorse kust [...] anno 1733.\n",
      "1735\n",
      "\n",
      "http://data.bibliotheken.nl/id/nbt/p167581252\n",
      "Introduction a l'histoire de l'Asie, de l'Afrique, et de l'Amerique. Pour servir de suite à l'Introduction a l'histoire du baron de Pufendorff.\n",
      "1739\n",
      "\n",
      "http://data.bibliotheken.nl/id/nbt/p168980800\n",
      "Proeve over de middelen die tot bescherming van de zeevaart en koophandel en tot verdédiging van de binnen- en buitenlandsche bezittingen der Republicq [...] zouden kunnen aangewend worden\n",
      "1783\n",
      "\n",
      "http://data.bibliotheken.nl/id/nbt/p166108464\n",
      "Memorie, overgegeeven aan de provisioneele representanten des volks van Holland, door [...] Johannes Henricus Redelinghuys als gecommitteerde der burgerye van de Kaap de Goede Hoop\n",
      "1795\n",
      "\n",
      "http://data.bibliotheken.nl/id/nbt/p190646705\n",
      "De ongelukkige voyagie van mr. T.S. Engels koopman, gedaan in den jaare 1648 [...]. Behelsende [...] hoe hy by de Algierse Turken genoomen [...] is.\n",
      "171X\n",
      "\n",
      "http://data.bibliotheken.nl/id/nbt/p185162568\n",
      "Nauwkeurige beschryving van de Guinese goud- tand- en slavekust. : 2 parts.\n",
      "1709\n",
      "\n",
      "http://data.bibliotheken.nl/id/nbt/p190411937\n",
      "De scheeps-togt van den heere Moüette uit Vrankryk na Amerika ondernoomen [...]. Verhalende [...] desselfs elf-jarige slaavernye [...] in [...] Marocco, zederd het jaar 1670.\n",
      "171X\n",
      "\n",
      "http://data.bibliotheken.nl/id/nbt/p186859961\n",
      "Algemeene beschryvinge van Barbaryen.\n",
      "1733\n",
      "\n",
      "http://data.bibliotheken.nl/id/nbt/p189638109\n",
      "Beschryving van het oosten, en van eenige andere landen. : 6 parts.\n",
      "1776\n",
      "\n",
      "http://data.bibliotheken.nl/id/nbt/p190402369\n",
      "Seer aanmerkelyke reys-beschryvinge na Constantinopolen en Egypten gedaan in het jaar 1605.\n",
      "171X\n",
      "\n",
      "http://data.bibliotheken.nl/id/nbt/p184578728\n",
      "Beschryving van het koningryk en de stadt Algiers.\n",
      "1725\n",
      "\n",
      "http://data.bibliotheken.nl/id/nbt/p185450202\n",
      "Verhandeling over de historie [...] der Arabieren.\n",
      "1742\n",
      "\n",
      "http://data.bibliotheken.nl/id/nbt/p189668326\n",
      "De zaak der negerslaaven, en der inwooneren van Guinéa.\n",
      "1790\n",
      "\n",
      "http://data.bibliotheken.nl/id/nbt/p189926104\n",
      "De doorlugtige scheeps-togten der Portugysen na Oost-Indiën, mitsgaders de voornaamste gedeeltens van Africa [...]. Voor desen ten deele versameld en in't Hoogduyts uytgegeven door [...] Johan Lodewyk Gottfried [...]. Maar nu [...] uyt de egte handschriften der reysigers beschreven. : Volume 2.\n",
      "171X\n",
      "\n",
      "http://data.bibliotheken.nl/id/nbt/p186588364\n",
      "Aanmerkingen; betreffende de kust der kaffers, en het landt van Pieter Nuyts: ten opzigte van de nuttigheit, die de Oostindische Compagnie [...] voor haaren koophandel zoude konnen trekken.\n",
      "1718\n",
      "\n",
      "http://data.bibliotheken.nl/id/nbt/p190400692\n",
      "Ongelukkige voyagie van Michiel Heberer [...] door verscheyde gedeeltens van Asia en Africa, in het jaar 1582\n",
      "171X\n",
      "\n",
      "http://data.bibliotheken.nl/id/nbt/p190402849\n",
      "Voyagie van den eerwaarden vader Antonio Fernandez na Gingiro [...] door den keyser van Ethiopiën afgevaardigt. In het jaar 1613.\n",
      "171X\n",
      "\n",
      "http://data.bibliotheken.nl/id/nbt/p190399694\n",
      "Aanmerklijke en geheugenis-waardige scheeps-togt van Eduard Lopez, Portugeez, gedaan na [...] Congo in Africa, anno 1578.\n",
      "171X\n",
      "\n",
      "http://data.bibliotheken.nl/id/nbt/p190438797\n",
      "Naauw-keurige voyagie, van Nicolaas Clenard [...] na Africa; gedaan in het jaar 1535. [...] geschreeven aan [...] Jacob Latomus\n",
      "171X\n",
      "\n",
      "http://data.bibliotheken.nl/id/nbt/p190412518\n",
      "Rampspoedige scheeps-togt van den heere Gallonye, gedaan uyt Vrankryk na't eyland St. Christoffel; en desselfs vier-jaarige slavernye [...] te Salée in Afrika, zederd het jaar 1670.\n",
      "171X\n",
      "\n",
      "http://data.bibliotheken.nl/id/nbt/p185908225\n",
      "Recherches philosophiques sur les Egyptiens et les Chinois.\n",
      "1773\n",
      "\n",
      "http://data.bibliotheken.nl/id/nbt/p190409908\n",
      "Naauwkeurige aanteekeningen van den eerwaarden vader Manuel d'Almeida, wegens Opper-Ethiopien.\n",
      "171X\n",
      "\n",
      "http://data.bibliotheken.nl/id/nbt/p190413956\n",
      "Voorname scheeps-togt van jonkheer Otho Fridrich van den Greuben [...] na Guinea [...] gedaan in het jaar 1682.\n",
      "171X\n",
      "\n",
      "http://data.bibliotheken.nl/id/nbt/p18462214X\n",
      "Voyage du sieur Paul Lucas, fait en M. DCCXIV, &C. par ordre de Louis XIV. dans la Turquie, l'Asie [...] haute et basse Egypte, &c\n",
      "1720\n",
      "\n",
      "http://data.bibliotheken.nl/id/nbt/p190373245\n",
      "Histoire philosophique et politique des établissements et du commerce des Européens dans les deux Indes.\n",
      "1776\n",
      "\n",
      "http://data.bibliotheken.nl/id/nbt/p189066865\n",
      "Beschryvinge van Egipte.\n",
      "1737\n",
      "\n",
      "http://data.bibliotheken.nl/id/nbt/p190646888\n",
      "Ongelukkige scheeps-togt van Francoys Brooks, na Barbaryen, gedaan in het jaar 1681.\n",
      "171X\n",
      "\n",
      "http://data.bibliotheken.nl/id/nbt/p184777852\n",
      "Nouvelle description du Cap de Bonne-Espérance, avec un journal historique d'un voyage de terre.\n",
      "1778\n",
      "\n",
      "http://data.bibliotheken.nl/id/nbt/p189923210\n",
      "De doorlugtige scheeps-togten der Portugysen na Oost-Indiën, mitsgaders de voornaamste gedeeltens van Africa [...]. Voor desen ten deele versameld en in't Hoogduyts uitgegeven door [...] Johan Lodewyk Gottfried [...]. Maar nu [...] uyt de egte handschriften der reysigers beschreven.\n",
      "171X\n",
      "\n",
      "http://data.bibliotheken.nl/id/nbt/p187345104\n",
      "Nederlandsch Afrika; of Historisch en staatkundig tafereel van den oorsprongelyken staat der volkplantinge aan de Kaap de Goede Hoop, vergeleeken met den tegenwoordigen staat.\n",
      "1783\n",
      "\n",
      "http://data.bibliotheken.nl/id/nbt/p214124568\n",
      "Voyage du sieur Paul Lucas au Levant\n",
      "1705\n",
      "\n",
      "http://data.bibliotheken.nl/id/nbt/p203732022\n",
      "The tragicall life and death of Mvley Abdala Melek the late king of Barbarie.\n",
      "1633\n",
      "\n",
      "http://data.bibliotheken.nl/id/nbt/p216054397\n",
      "Umbständliche und eigentliche Beschreibung von Africa.\n",
      "1670\n",
      "\n",
      "http://data.bibliotheken.nl/id/nbt/p203724801\n",
      "Histoire de la navigation de Iean Hvgves de Linschot Hollandois: aux Indes Orientales.\n",
      "1638\n",
      "\n",
      "http://data.bibliotheken.nl/id/nbt/p216054877\n",
      "Eigentliche Beschreibung der Insulen in Afrika.\n",
      "1671\n",
      "\n",
      "http://data.bibliotheken.nl/id/nbt/p213744643\n",
      "Beschrijvinge van't koninckrijck Congo, met 't aenpalende landt Angola.\n",
      "1658\n",
      "\n",
      "http://data.bibliotheken.nl/id/nbt/p214146014\n",
      "Etat des royaumes de Barbarie, Tripoly, Tunis et Alger: contenant l'histoire naturelle & politique de ces païs.\n",
      "1704\n",
      "\n",
      "http://data.bibliotheken.nl/id/nbt/p238530701\n",
      "Capitulatie van Tripoli\n",
      "1713\n",
      "\n",
      "http://data.bibliotheken.nl/id/nbt/p239923952\n",
      "Dagverhaal van eene reis van de Kaap de Goede Hoop [...] ondernoomen in de jaaren 1790 en 1791 [...] naar het wrak van [...] de Grosvenor.\n",
      "1793\n",
      "\n",
      "http://data.bibliotheken.nl/id/nbt/p239924452\n",
      "Naamboek van de wel edele heeren der hoge Indiasche regering, soo tot, als buyten Batavia [...] zoo als deselve onder ultimo september 1751 in wezen zyn bevonden\n",
      "1751\n",
      "\n",
      "http://data.bibliotheken.nl/id/nbt/p239906055\n",
      "Vervolgen tot de staatkundige historien synde een verhaal van den jaare 1708 tot 1740. : 7 parts.\n",
      "1745\n",
      "\n",
      "http://data.bibliotheken.nl/id/nbt/p238632563\n",
      "Historia regvm Islamiticorvm in Abyssinia.\n",
      "1790\n",
      "\n",
      "http://data.bibliotheken.nl/id/nbt/p239447654\n",
      "Historia Jacobitarum, seu Coptorum, in Ægypto, Libya, Nubia, Æthiopia tota, & Cypri insulæ parte habitantium.\n",
      "1740\n",
      "\n",
      "http://data.bibliotheken.nl/id/nbt/p238254984\n",
      "Reize van Zeeland, over de Kaap de Goede Hoop, naar Batavia [...] in de jaaren MDCCLXVIII tot MDCCLXXI.\n",
      "1793\n",
      "\n",
      "http://data.bibliotheken.nl/id/nbt/p246918721\n",
      "Histoire universelle, depuis le commencement du monde jusqu'a present [...]. Tome vingt-quatrieme. Contenant l'histoire de l'Afrique.\n",
      "1765\n",
      "\n",
      "http://data.bibliotheken.nl/id/nbt/p246926511\n",
      "Histoire universelle, depuis le commencement du monde jusqu'a present [...]. Tome vingt-sixieme. Contenant la suite de l'histoire d'Afrique; savoir l'histoire moderne de Barbarie des royaumes de Maroc & de Fez.\n",
      "1766\n",
      "\n",
      "http://data.bibliotheken.nl/id/nbt/p250649446\n",
      "Histoire générale des voyages, ou Nouvelle collection de toutes les relations de voyages par mer et par terre.\n",
      "1748\n",
      "\n",
      "http://data.bibliotheken.nl/id/nbt/p262495961\n",
      "Onderzoek van't verbaal van A.J. Sluysken. Voormaalige commissaris van Cabo de Goede Hoop.\n",
      "1797\n",
      "\n",
      "http://data.bibliotheken.nl/id/nbt/p250649608\n",
      "Histoire générale des voyages, ou Nouvelle collection de toutes les relations de voyages par mer et par terre.\n",
      "1748\n",
      "\n",
      "http://data.bibliotheken.nl/id/nbt/p250244136\n",
      "Lettres de Mde. Wortley Montague. Ecrites pendant ses voyages en Europe, en Asie & en Afrique.\n",
      "1763\n",
      "\n",
      "http://data.bibliotheken.nl/id/nbt/p250649373\n",
      "Histoire générale des voyages, ou Nouvelle collection de toutes les relations de voyages par mer et par terre.\n",
      "1747\n",
      "\n",
      "http://data.bibliotheken.nl/id/nbt/p250639823\n",
      "Histoire générale des voyages, ou Nouvelle collection de toutes les relations de voyages par mer et par terre.\n",
      "1747\n",
      "\n",
      "http://data.bibliotheken.nl/id/nbt/p250207745\n",
      "Naam-boekje van de wel ed. heeren der hooge Indiasche regeringe [...] op Batavia [...] zoo als dezelve in wezen zyn bevonden medio april 1773\n",
      "1774\n",
      "\n",
      "http://data.bibliotheken.nl/id/nbt/p262831074\n",
      "Histoire philosophique et politique, des etablissemens & du commerce des Européens dans les deux Indes.\n",
      "1772\n",
      "\n",
      "http://data.bibliotheken.nl/id/nbt/p250204312\n",
      "Naam-boekje van de wel ed. heeren der hooge Indiasche regeringe [...] op Batavia [...] zoo als dezelve in wezen zyn bevonden medio december 1769\n",
      "1771\n",
      "\n",
      "http://data.bibliotheken.nl/id/nbt/p250222760\n",
      "Vier Kaapsche brieven, inhoudende allergewigtigste tijdingen wegens de aankomst [...] van de vier zendelingen.\n",
      "1800\n",
      "\n",
      "http://data.bibliotheken.nl/id/nbt/p246922451\n",
      "Histoire universelle, depuis le commencement du monde, jusqu'a present [...]. Tome vingt-cinquieme. Contenant la suite de l'histoire d'Afrique.\n",
      "1765\n",
      "\n",
      "http://data.bibliotheken.nl/id/nbt/p296849189\n",
      "Histoire philosophique et politique. Des établissemens & du commerce des Européens dans les deux Indes. : Volume 1.\n",
      "1774\n",
      "\n",
      "http://data.bibliotheken.nl/id/nbt/p29635726X\n",
      "Tractaat tusschen haar hoogh mog. de heeren Staaten Generaal [...] en de regeeringe van Algiers\n",
      "1726\n",
      "\n",
      "http://data.bibliotheken.nl/id/nbt/p294526374\n",
      "Weederwaardige te huis-reyze, van het Neederlandsche Oost-indische-Compagniesch retour-schip, gezegt de Gerechtigheid [...] ten anker gekoomen [...] op den 1sten van wintermaand 1754\n",
      "1755\n",
      "\n",
      "http://data.bibliotheken.nl/id/nbt/p296156388\n",
      "Nauwkeurige beschryving van de Guinese goud-tand- en slave-kust. : 2 parts.\n",
      "1704\n",
      "\n",
      "http://data.bibliotheken.nl/id/nbt/p303112956\n",
      "Journal d'un voyage sur les costes d'Afrique et aux Indes d'Espagne\n",
      "1730\n",
      "\n",
      "http://data.bibliotheken.nl/id/nbt/p299519325\n",
      "Nauwkeurige beschryving van de Guinese goud- tand- en slavekust. : 2 parts.\n",
      "1737\n",
      "\n",
      "http://data.bibliotheken.nl/id/nbt/p302568883\n",
      "Journal d'un voyage sur les costes d'Afrique et aux Indes d'Espagne\n",
      "1723\n",
      "\n",
      "http://data.bibliotheken.nl/id/nbt/p301796629\n",
      "Journaal, van het Oost-Indische schip Blydorp, uitgevaren na Batavia. In den jaare 1733. den 6. july, en tusschen den 11. en 12. augustus, aan de Moorze kust verongelukt\n",
      "1734\n",
      "\n"
     ]
    }
   ],
   "source": [
    "print(f'{df.shape[0]} books in total.\\n\\n')\n",
    "\n",
    "for i,book in df.iterrows():\n",
    "    print(f'{book[\"book.value\"]}')\n",
    "    print(f\"{book['title.value']}\\n{book['publ_year.value']}\\n\")"
   ]
  },
  {
   "cell_type": "markdown",
   "id": "c17b0fd4",
   "metadata": {},
   "source": [
    "## Number of books per year"
   ]
  },
  {
   "cell_type": "code",
   "execution_count": 18,
   "id": "3216e8e8",
   "metadata": {},
   "outputs": [
    {
     "name": "stdout",
     "output_type": "stream",
     "text": [
      "Invalid years:\n",
      "16XX,172X,170X,179X,174X,17XX,171X,15XX\n"
     ]
    }
   ],
   "source": [
    "years = Counter()\n",
    "invalid = []\n",
    "\n",
    "for i,row in df.sort_values( by = 'publ_year.value').iterrows():\n",
    "    if re.search(r'\\d{4}',str(row['publ_year.value'])):\n",
    "        years.update([int(row['publ_year.value'])])\n",
    "    else:\n",
    "        invalid.append(row['publ_year.value'])\n",
    "\n",
    "if len(invalid)>0:\n",
    "    print(\"Invalid years:\")\n",
    "    print(','.join(set(invalid)) )\n",
    "\n",
    "x_axis = list(years.keys())\n",
    "y_axis = list(years.values())\n",
    "\n",
    "for year in range(min(x_axis),max(x_axis)):\n",
    "    if year not in x_axis:\n",
    "        x_axis.append(year)\n",
    "        y_axis.append(0)\n",
    "        \n",
    "timeline = pd.DataFrame( {'year':x_axis,'number_of_titles':y_axis} )\n",
    "timeline = timeline.sort_values(by='year')    "
   ]
  },
  {
   "cell_type": "code",
   "execution_count": 19,
   "id": "ffea662b",
   "metadata": {},
   "outputs": [
    {
     "data": {
      "application/vnd.plotly.v1+json": {
       "config": {
        "plotlyServerURL": "https://plot.ly"
       },
       "data": [
        {
         "hovertemplate": "year=%{x}<br>number_of_titles=%{y}<extra></extra>",
         "legendgroup": "",
         "line": {
          "color": "#636efa",
          "dash": "solid"
         },
         "marker": {
          "symbol": "circle"
         },
         "mode": "lines",
         "name": "",
         "orientation": "v",
         "showlegend": false,
         "type": "scatter",
         "x": [
          1504,
          1505,
          1506,
          1507,
          1508,
          1509,
          1510,
          1511,
          1512,
          1513,
          1514,
          1515,
          1516,
          1517,
          1518,
          1519,
          1520,
          1521,
          1522,
          1523,
          1524,
          1525,
          1526,
          1527,
          1528,
          1529,
          1530,
          1531,
          1532,
          1533,
          1534,
          1535,
          1536,
          1537,
          1538,
          1539,
          1540,
          1541,
          1542,
          1543,
          1544,
          1545,
          1546,
          1547,
          1548,
          1549,
          1550,
          1551,
          1552,
          1553,
          1554,
          1555,
          1556,
          1557,
          1558,
          1559,
          1560,
          1561,
          1562,
          1563,
          1564,
          1565,
          1566,
          1567,
          1568,
          1569,
          1570,
          1571,
          1572,
          1573,
          1574,
          1575,
          1576,
          1577,
          1578,
          1579,
          1580,
          1581,
          1582,
          1583,
          1584,
          1585,
          1586,
          1587,
          1588,
          1589,
          1590,
          1591,
          1592,
          1593,
          1594,
          1595,
          1596,
          1597,
          1598,
          1599,
          1600,
          1601,
          1602,
          1603,
          1604,
          1605,
          1606,
          1607,
          1608,
          1609,
          1610,
          1611,
          1612,
          1613,
          1614,
          1615,
          1616,
          1617,
          1618,
          1619,
          1620,
          1621,
          1622,
          1623,
          1624,
          1625,
          1626,
          1627,
          1628,
          1629,
          1630,
          1631,
          1632,
          1633,
          1634,
          1635,
          1636,
          1637,
          1638,
          1639,
          1640,
          1641,
          1642,
          1643,
          1644,
          1645,
          1646,
          1647,
          1648,
          1649,
          1650,
          1651,
          1652,
          1653,
          1654,
          1655,
          1656,
          1657,
          1658,
          1659,
          1660,
          1661,
          1662,
          1663,
          1664,
          1665,
          1666,
          1667,
          1668,
          1669,
          1670,
          1671,
          1672,
          1673,
          1674,
          1675,
          1676,
          1677,
          1678,
          1679,
          1680,
          1681,
          1682,
          1683,
          1684,
          1685,
          1686,
          1687,
          1688,
          1689,
          1690,
          1691,
          1692,
          1693,
          1694,
          1695,
          1696,
          1697,
          1698,
          1699,
          1700,
          1701,
          1702,
          1703,
          1704,
          1705,
          1706,
          1707,
          1708,
          1709,
          1710,
          1711,
          1712,
          1713,
          1714,
          1715,
          1716,
          1717,
          1718,
          1719,
          1720,
          1721,
          1722,
          1723,
          1724,
          1725,
          1726,
          1727,
          1728,
          1729,
          1730,
          1731,
          1732,
          1733,
          1734,
          1735,
          1736,
          1737,
          1738,
          1739,
          1740,
          1741,
          1742,
          1743,
          1744,
          1745,
          1746,
          1747,
          1748,
          1749,
          1750,
          1751,
          1752,
          1753,
          1754,
          1755,
          1756,
          1757,
          1758,
          1759,
          1760,
          1761,
          1762,
          1763,
          1764,
          1765,
          1766,
          1767,
          1768,
          1769,
          1770,
          1771,
          1772,
          1773,
          1774,
          1775,
          1776,
          1777,
          1778,
          1779,
          1780,
          1781,
          1782,
          1783,
          1784,
          1785,
          1786,
          1787,
          1788,
          1789,
          1790,
          1791,
          1792,
          1793,
          1794,
          1795,
          1796,
          1797,
          1798,
          1799,
          1800
         ],
         "xaxis": "x",
         "y": [
          1,
          0,
          0,
          0,
          0,
          0,
          0,
          0,
          0,
          0,
          0,
          0,
          0,
          0,
          0,
          0,
          0,
          0,
          0,
          0,
          0,
          0,
          0,
          0,
          0,
          0,
          0,
          0,
          0,
          0,
          0,
          0,
          0,
          0,
          0,
          0,
          0,
          0,
          0,
          0,
          0,
          0,
          0,
          0,
          0,
          0,
          0,
          0,
          0,
          0,
          0,
          0,
          0,
          0,
          0,
          0,
          0,
          0,
          0,
          0,
          0,
          0,
          0,
          0,
          0,
          0,
          0,
          0,
          0,
          0,
          0,
          0,
          0,
          0,
          0,
          0,
          0,
          0,
          0,
          0,
          0,
          0,
          0,
          0,
          0,
          0,
          0,
          0,
          0,
          0,
          0,
          0,
          4,
          0,
          0,
          1,
          0,
          0,
          1,
          0,
          0,
          3,
          0,
          2,
          0,
          0,
          2,
          0,
          1,
          0,
          5,
          0,
          0,
          1,
          1,
          1,
          0,
          2,
          0,
          7,
          0,
          1,
          0,
          0,
          1,
          0,
          1,
          0,
          1,
          3,
          1,
          0,
          0,
          0,
          1,
          0,
          0,
          0,
          0,
          1,
          1,
          0,
          0,
          0,
          1,
          1,
          3,
          0,
          2,
          0,
          0,
          0,
          0,
          1,
          3,
          1,
          1,
          1,
          2,
          1,
          2,
          6,
          2,
          0,
          2,
          3,
          3,
          3,
          0,
          0,
          0,
          0,
          2,
          0,
          1,
          0,
          0,
          0,
          0,
          0,
          2,
          4,
          1,
          1,
          1,
          0,
          1,
          0,
          0,
          0,
          0,
          0,
          0,
          0,
          1,
          2,
          0,
          0,
          0,
          1,
          3,
          3,
          28,
          11,
          2,
          2,
          0,
          0,
          1,
          2,
          1,
          1,
          0,
          2,
          6,
          3,
          1,
          0,
          0,
          1,
          2,
          2,
          9,
          6,
          3,
          3,
          2,
          1,
          0,
          2,
          3,
          4,
          0,
          4,
          0,
          3,
          3,
          3,
          5,
          4,
          3,
          2,
          1,
          4,
          3,
          2,
          2,
          2,
          1,
          3,
          3,
          5,
          2,
          4,
          3,
          2,
          7,
          3,
          1,
          4,
          2,
          4,
          2,
          1,
          1,
          2,
          3,
          2,
          3,
          6,
          21,
          2,
          4,
          2,
          7,
          3,
          3,
          2,
          2,
          6,
          3,
          3,
          5,
          5,
          3,
          1,
          5,
          4,
          2,
          4,
          0,
          1,
          1,
          5,
          0,
          2,
          5
         ],
         "yaxis": "y"
        }
       ],
       "layout": {
        "height": 400,
        "legend": {
         "tracegroupgap": 0
        },
        "margin": {
         "t": 60
        },
        "template": {
         "data": {
          "bar": [
           {
            "error_x": {
             "color": "#2a3f5f"
            },
            "error_y": {
             "color": "#2a3f5f"
            },
            "marker": {
             "line": {
              "color": "#E5ECF6",
              "width": 0.5
             },
             "pattern": {
              "fillmode": "overlay",
              "size": 10,
              "solidity": 0.2
             }
            },
            "type": "bar"
           }
          ],
          "barpolar": [
           {
            "marker": {
             "line": {
              "color": "#E5ECF6",
              "width": 0.5
             },
             "pattern": {
              "fillmode": "overlay",
              "size": 10,
              "solidity": 0.2
             }
            },
            "type": "barpolar"
           }
          ],
          "carpet": [
           {
            "aaxis": {
             "endlinecolor": "#2a3f5f",
             "gridcolor": "white",
             "linecolor": "white",
             "minorgridcolor": "white",
             "startlinecolor": "#2a3f5f"
            },
            "baxis": {
             "endlinecolor": "#2a3f5f",
             "gridcolor": "white",
             "linecolor": "white",
             "minorgridcolor": "white",
             "startlinecolor": "#2a3f5f"
            },
            "type": "carpet"
           }
          ],
          "choropleth": [
           {
            "colorbar": {
             "outlinewidth": 0,
             "ticks": ""
            },
            "type": "choropleth"
           }
          ],
          "contour": [
           {
            "colorbar": {
             "outlinewidth": 0,
             "ticks": ""
            },
            "colorscale": [
             [
              0,
              "#0d0887"
             ],
             [
              0.1111111111111111,
              "#46039f"
             ],
             [
              0.2222222222222222,
              "#7201a8"
             ],
             [
              0.3333333333333333,
              "#9c179e"
             ],
             [
              0.4444444444444444,
              "#bd3786"
             ],
             [
              0.5555555555555556,
              "#d8576b"
             ],
             [
              0.6666666666666666,
              "#ed7953"
             ],
             [
              0.7777777777777778,
              "#fb9f3a"
             ],
             [
              0.8888888888888888,
              "#fdca26"
             ],
             [
              1,
              "#f0f921"
             ]
            ],
            "type": "contour"
           }
          ],
          "contourcarpet": [
           {
            "colorbar": {
             "outlinewidth": 0,
             "ticks": ""
            },
            "type": "contourcarpet"
           }
          ],
          "heatmap": [
           {
            "colorbar": {
             "outlinewidth": 0,
             "ticks": ""
            },
            "colorscale": [
             [
              0,
              "#0d0887"
             ],
             [
              0.1111111111111111,
              "#46039f"
             ],
             [
              0.2222222222222222,
              "#7201a8"
             ],
             [
              0.3333333333333333,
              "#9c179e"
             ],
             [
              0.4444444444444444,
              "#bd3786"
             ],
             [
              0.5555555555555556,
              "#d8576b"
             ],
             [
              0.6666666666666666,
              "#ed7953"
             ],
             [
              0.7777777777777778,
              "#fb9f3a"
             ],
             [
              0.8888888888888888,
              "#fdca26"
             ],
             [
              1,
              "#f0f921"
             ]
            ],
            "type": "heatmap"
           }
          ],
          "heatmapgl": [
           {
            "colorbar": {
             "outlinewidth": 0,
             "ticks": ""
            },
            "colorscale": [
             [
              0,
              "#0d0887"
             ],
             [
              0.1111111111111111,
              "#46039f"
             ],
             [
              0.2222222222222222,
              "#7201a8"
             ],
             [
              0.3333333333333333,
              "#9c179e"
             ],
             [
              0.4444444444444444,
              "#bd3786"
             ],
             [
              0.5555555555555556,
              "#d8576b"
             ],
             [
              0.6666666666666666,
              "#ed7953"
             ],
             [
              0.7777777777777778,
              "#fb9f3a"
             ],
             [
              0.8888888888888888,
              "#fdca26"
             ],
             [
              1,
              "#f0f921"
             ]
            ],
            "type": "heatmapgl"
           }
          ],
          "histogram": [
           {
            "marker": {
             "pattern": {
              "fillmode": "overlay",
              "size": 10,
              "solidity": 0.2
             }
            },
            "type": "histogram"
           }
          ],
          "histogram2d": [
           {
            "colorbar": {
             "outlinewidth": 0,
             "ticks": ""
            },
            "colorscale": [
             [
              0,
              "#0d0887"
             ],
             [
              0.1111111111111111,
              "#46039f"
             ],
             [
              0.2222222222222222,
              "#7201a8"
             ],
             [
              0.3333333333333333,
              "#9c179e"
             ],
             [
              0.4444444444444444,
              "#bd3786"
             ],
             [
              0.5555555555555556,
              "#d8576b"
             ],
             [
              0.6666666666666666,
              "#ed7953"
             ],
             [
              0.7777777777777778,
              "#fb9f3a"
             ],
             [
              0.8888888888888888,
              "#fdca26"
             ],
             [
              1,
              "#f0f921"
             ]
            ],
            "type": "histogram2d"
           }
          ],
          "histogram2dcontour": [
           {
            "colorbar": {
             "outlinewidth": 0,
             "ticks": ""
            },
            "colorscale": [
             [
              0,
              "#0d0887"
             ],
             [
              0.1111111111111111,
              "#46039f"
             ],
             [
              0.2222222222222222,
              "#7201a8"
             ],
             [
              0.3333333333333333,
              "#9c179e"
             ],
             [
              0.4444444444444444,
              "#bd3786"
             ],
             [
              0.5555555555555556,
              "#d8576b"
             ],
             [
              0.6666666666666666,
              "#ed7953"
             ],
             [
              0.7777777777777778,
              "#fb9f3a"
             ],
             [
              0.8888888888888888,
              "#fdca26"
             ],
             [
              1,
              "#f0f921"
             ]
            ],
            "type": "histogram2dcontour"
           }
          ],
          "mesh3d": [
           {
            "colorbar": {
             "outlinewidth": 0,
             "ticks": ""
            },
            "type": "mesh3d"
           }
          ],
          "parcoords": [
           {
            "line": {
             "colorbar": {
              "outlinewidth": 0,
              "ticks": ""
             }
            },
            "type": "parcoords"
           }
          ],
          "pie": [
           {
            "automargin": true,
            "type": "pie"
           }
          ],
          "scatter": [
           {
            "fillpattern": {
             "fillmode": "overlay",
             "size": 10,
             "solidity": 0.2
            },
            "type": "scatter"
           }
          ],
          "scatter3d": [
           {
            "line": {
             "colorbar": {
              "outlinewidth": 0,
              "ticks": ""
             }
            },
            "marker": {
             "colorbar": {
              "outlinewidth": 0,
              "ticks": ""
             }
            },
            "type": "scatter3d"
           }
          ],
          "scattercarpet": [
           {
            "marker": {
             "colorbar": {
              "outlinewidth": 0,
              "ticks": ""
             }
            },
            "type": "scattercarpet"
           }
          ],
          "scattergeo": [
           {
            "marker": {
             "colorbar": {
              "outlinewidth": 0,
              "ticks": ""
             }
            },
            "type": "scattergeo"
           }
          ],
          "scattergl": [
           {
            "marker": {
             "colorbar": {
              "outlinewidth": 0,
              "ticks": ""
             }
            },
            "type": "scattergl"
           }
          ],
          "scattermapbox": [
           {
            "marker": {
             "colorbar": {
              "outlinewidth": 0,
              "ticks": ""
             }
            },
            "type": "scattermapbox"
           }
          ],
          "scatterpolar": [
           {
            "marker": {
             "colorbar": {
              "outlinewidth": 0,
              "ticks": ""
             }
            },
            "type": "scatterpolar"
           }
          ],
          "scatterpolargl": [
           {
            "marker": {
             "colorbar": {
              "outlinewidth": 0,
              "ticks": ""
             }
            },
            "type": "scatterpolargl"
           }
          ],
          "scatterternary": [
           {
            "marker": {
             "colorbar": {
              "outlinewidth": 0,
              "ticks": ""
             }
            },
            "type": "scatterternary"
           }
          ],
          "surface": [
           {
            "colorbar": {
             "outlinewidth": 0,
             "ticks": ""
            },
            "colorscale": [
             [
              0,
              "#0d0887"
             ],
             [
              0.1111111111111111,
              "#46039f"
             ],
             [
              0.2222222222222222,
              "#7201a8"
             ],
             [
              0.3333333333333333,
              "#9c179e"
             ],
             [
              0.4444444444444444,
              "#bd3786"
             ],
             [
              0.5555555555555556,
              "#d8576b"
             ],
             [
              0.6666666666666666,
              "#ed7953"
             ],
             [
              0.7777777777777778,
              "#fb9f3a"
             ],
             [
              0.8888888888888888,
              "#fdca26"
             ],
             [
              1,
              "#f0f921"
             ]
            ],
            "type": "surface"
           }
          ],
          "table": [
           {
            "cells": {
             "fill": {
              "color": "#EBF0F8"
             },
             "line": {
              "color": "white"
             }
            },
            "header": {
             "fill": {
              "color": "#C8D4E3"
             },
             "line": {
              "color": "white"
             }
            },
            "type": "table"
           }
          ]
         },
         "layout": {
          "annotationdefaults": {
           "arrowcolor": "#2a3f5f",
           "arrowhead": 0,
           "arrowwidth": 1
          },
          "autotypenumbers": "strict",
          "coloraxis": {
           "colorbar": {
            "outlinewidth": 0,
            "ticks": ""
           }
          },
          "colorscale": {
           "diverging": [
            [
             0,
             "#8e0152"
            ],
            [
             0.1,
             "#c51b7d"
            ],
            [
             0.2,
             "#de77ae"
            ],
            [
             0.3,
             "#f1b6da"
            ],
            [
             0.4,
             "#fde0ef"
            ],
            [
             0.5,
             "#f7f7f7"
            ],
            [
             0.6,
             "#e6f5d0"
            ],
            [
             0.7,
             "#b8e186"
            ],
            [
             0.8,
             "#7fbc41"
            ],
            [
             0.9,
             "#4d9221"
            ],
            [
             1,
             "#276419"
            ]
           ],
           "sequential": [
            [
             0,
             "#0d0887"
            ],
            [
             0.1111111111111111,
             "#46039f"
            ],
            [
             0.2222222222222222,
             "#7201a8"
            ],
            [
             0.3333333333333333,
             "#9c179e"
            ],
            [
             0.4444444444444444,
             "#bd3786"
            ],
            [
             0.5555555555555556,
             "#d8576b"
            ],
            [
             0.6666666666666666,
             "#ed7953"
            ],
            [
             0.7777777777777778,
             "#fb9f3a"
            ],
            [
             0.8888888888888888,
             "#fdca26"
            ],
            [
             1,
             "#f0f921"
            ]
           ],
           "sequentialminus": [
            [
             0,
             "#0d0887"
            ],
            [
             0.1111111111111111,
             "#46039f"
            ],
            [
             0.2222222222222222,
             "#7201a8"
            ],
            [
             0.3333333333333333,
             "#9c179e"
            ],
            [
             0.4444444444444444,
             "#bd3786"
            ],
            [
             0.5555555555555556,
             "#d8576b"
            ],
            [
             0.6666666666666666,
             "#ed7953"
            ],
            [
             0.7777777777777778,
             "#fb9f3a"
            ],
            [
             0.8888888888888888,
             "#fdca26"
            ],
            [
             1,
             "#f0f921"
            ]
           ]
          },
          "colorway": [
           "#636efa",
           "#EF553B",
           "#00cc96",
           "#ab63fa",
           "#FFA15A",
           "#19d3f3",
           "#FF6692",
           "#B6E880",
           "#FF97FF",
           "#FECB52"
          ],
          "font": {
           "color": "#2a3f5f"
          },
          "geo": {
           "bgcolor": "white",
           "lakecolor": "white",
           "landcolor": "#E5ECF6",
           "showlakes": true,
           "showland": true,
           "subunitcolor": "white"
          },
          "hoverlabel": {
           "align": "left"
          },
          "hovermode": "closest",
          "mapbox": {
           "style": "light"
          },
          "paper_bgcolor": "white",
          "plot_bgcolor": "#E5ECF6",
          "polar": {
           "angularaxis": {
            "gridcolor": "white",
            "linecolor": "white",
            "ticks": ""
           },
           "bgcolor": "#E5ECF6",
           "radialaxis": {
            "gridcolor": "white",
            "linecolor": "white",
            "ticks": ""
           }
          },
          "scene": {
           "xaxis": {
            "backgroundcolor": "#E5ECF6",
            "gridcolor": "white",
            "gridwidth": 2,
            "linecolor": "white",
            "showbackground": true,
            "ticks": "",
            "zerolinecolor": "white"
           },
           "yaxis": {
            "backgroundcolor": "#E5ECF6",
            "gridcolor": "white",
            "gridwidth": 2,
            "linecolor": "white",
            "showbackground": true,
            "ticks": "",
            "zerolinecolor": "white"
           },
           "zaxis": {
            "backgroundcolor": "#E5ECF6",
            "gridcolor": "white",
            "gridwidth": 2,
            "linecolor": "white",
            "showbackground": true,
            "ticks": "",
            "zerolinecolor": "white"
           }
          },
          "shapedefaults": {
           "line": {
            "color": "#2a3f5f"
           }
          },
          "ternary": {
           "aaxis": {
            "gridcolor": "white",
            "linecolor": "white",
            "ticks": ""
           },
           "baxis": {
            "gridcolor": "white",
            "linecolor": "white",
            "ticks": ""
           },
           "bgcolor": "#E5ECF6",
           "caxis": {
            "gridcolor": "white",
            "linecolor": "white",
            "ticks": ""
           }
          },
          "title": {
           "x": 0.05
          },
          "xaxis": {
           "automargin": true,
           "gridcolor": "white",
           "linecolor": "white",
           "ticks": "",
           "title": {
            "standoff": 15
           },
           "zerolinecolor": "white",
           "zerolinewidth": 2
          },
          "yaxis": {
           "automargin": true,
           "gridcolor": "white",
           "linecolor": "white",
           "ticks": "",
           "title": {
            "standoff": 15
           },
           "zerolinecolor": "white",
           "zerolinewidth": 2
          }
         }
        },
        "width": 600,
        "xaxis": {
         "anchor": "y",
         "domain": [
          0,
          1
         ],
         "title": {
          "text": "year"
         }
        },
        "yaxis": {
         "anchor": "x",
         "domain": [
          0,
          1
         ],
         "title": {
          "text": "number_of_titles"
         }
        }
       }
      },
      "text/html": [
       "<div>                            <div id=\"90a9d1bc-78a0-40f9-a48b-1084f0c535d0\" class=\"plotly-graph-div\" style=\"height:400px; width:600px;\"></div>            <script type=\"text/javascript\">                require([\"plotly\"], function(Plotly) {                    window.PLOTLYENV=window.PLOTLYENV || {};                                    if (document.getElementById(\"90a9d1bc-78a0-40f9-a48b-1084f0c535d0\")) {                    Plotly.newPlot(                        \"90a9d1bc-78a0-40f9-a48b-1084f0c535d0\",                        [{\"hovertemplate\":\"year=%{x}<br>number_of_titles=%{y}<extra></extra>\",\"legendgroup\":\"\",\"line\":{\"color\":\"#636efa\",\"dash\":\"solid\"},\"marker\":{\"symbol\":\"circle\"},\"mode\":\"lines\",\"name\":\"\",\"orientation\":\"v\",\"showlegend\":false,\"x\":[1504,1505,1506,1507,1508,1509,1510,1511,1512,1513,1514,1515,1516,1517,1518,1519,1520,1521,1522,1523,1524,1525,1526,1527,1528,1529,1530,1531,1532,1533,1534,1535,1536,1537,1538,1539,1540,1541,1542,1543,1544,1545,1546,1547,1548,1549,1550,1551,1552,1553,1554,1555,1556,1557,1558,1559,1560,1561,1562,1563,1564,1565,1566,1567,1568,1569,1570,1571,1572,1573,1574,1575,1576,1577,1578,1579,1580,1581,1582,1583,1584,1585,1586,1587,1588,1589,1590,1591,1592,1593,1594,1595,1596,1597,1598,1599,1600,1601,1602,1603,1604,1605,1606,1607,1608,1609,1610,1611,1612,1613,1614,1615,1616,1617,1618,1619,1620,1621,1622,1623,1624,1625,1626,1627,1628,1629,1630,1631,1632,1633,1634,1635,1636,1637,1638,1639,1640,1641,1642,1643,1644,1645,1646,1647,1648,1649,1650,1651,1652,1653,1654,1655,1656,1657,1658,1659,1660,1661,1662,1663,1664,1665,1666,1667,1668,1669,1670,1671,1672,1673,1674,1675,1676,1677,1678,1679,1680,1681,1682,1683,1684,1685,1686,1687,1688,1689,1690,1691,1692,1693,1694,1695,1696,1697,1698,1699,1700,1701,1702,1703,1704,1705,1706,1707,1708,1709,1710,1711,1712,1713,1714,1715,1716,1717,1718,1719,1720,1721,1722,1723,1724,1725,1726,1727,1728,1729,1730,1731,1732,1733,1734,1735,1736,1737,1738,1739,1740,1741,1742,1743,1744,1745,1746,1747,1748,1749,1750,1751,1752,1753,1754,1755,1756,1757,1758,1759,1760,1761,1762,1763,1764,1765,1766,1767,1768,1769,1770,1771,1772,1773,1774,1775,1776,1777,1778,1779,1780,1781,1782,1783,1784,1785,1786,1787,1788,1789,1790,1791,1792,1793,1794,1795,1796,1797,1798,1799,1800],\"xaxis\":\"x\",\"y\":[1,0,0,0,0,0,0,0,0,0,0,0,0,0,0,0,0,0,0,0,0,0,0,0,0,0,0,0,0,0,0,0,0,0,0,0,0,0,0,0,0,0,0,0,0,0,0,0,0,0,0,0,0,0,0,0,0,0,0,0,0,0,0,0,0,0,0,0,0,0,0,0,0,0,0,0,0,0,0,0,0,0,0,0,0,0,0,0,0,0,0,0,4,0,0,1,0,0,1,0,0,3,0,2,0,0,2,0,1,0,5,0,0,1,1,1,0,2,0,7,0,1,0,0,1,0,1,0,1,3,1,0,0,0,1,0,0,0,0,1,1,0,0,0,1,1,3,0,2,0,0,0,0,1,3,1,1,1,2,1,2,6,2,0,2,3,3,3,0,0,0,0,2,0,1,0,0,0,0,0,2,4,1,1,1,0,1,0,0,0,0,0,0,0,1,2,0,0,0,1,3,3,28,11,2,2,0,0,1,2,1,1,0,2,6,3,1,0,0,1,2,2,9,6,3,3,2,1,0,2,3,4,0,4,0,3,3,3,5,4,3,2,1,4,3,2,2,2,1,3,3,5,2,4,3,2,7,3,1,4,2,4,2,1,1,2,3,2,3,6,21,2,4,2,7,3,3,2,2,6,3,3,5,5,3,1,5,4,2,4,0,1,1,5,0,2,5],\"yaxis\":\"y\",\"type\":\"scatter\"}],                        {\"template\":{\"data\":{\"histogram2dcontour\":[{\"type\":\"histogram2dcontour\",\"colorbar\":{\"outlinewidth\":0,\"ticks\":\"\"},\"colorscale\":[[0.0,\"#0d0887\"],[0.1111111111111111,\"#46039f\"],[0.2222222222222222,\"#7201a8\"],[0.3333333333333333,\"#9c179e\"],[0.4444444444444444,\"#bd3786\"],[0.5555555555555556,\"#d8576b\"],[0.6666666666666666,\"#ed7953\"],[0.7777777777777778,\"#fb9f3a\"],[0.8888888888888888,\"#fdca26\"],[1.0,\"#f0f921\"]]}],\"choropleth\":[{\"type\":\"choropleth\",\"colorbar\":{\"outlinewidth\":0,\"ticks\":\"\"}}],\"histogram2d\":[{\"type\":\"histogram2d\",\"colorbar\":{\"outlinewidth\":0,\"ticks\":\"\"},\"colorscale\":[[0.0,\"#0d0887\"],[0.1111111111111111,\"#46039f\"],[0.2222222222222222,\"#7201a8\"],[0.3333333333333333,\"#9c179e\"],[0.4444444444444444,\"#bd3786\"],[0.5555555555555556,\"#d8576b\"],[0.6666666666666666,\"#ed7953\"],[0.7777777777777778,\"#fb9f3a\"],[0.8888888888888888,\"#fdca26\"],[1.0,\"#f0f921\"]]}],\"heatmap\":[{\"type\":\"heatmap\",\"colorbar\":{\"outlinewidth\":0,\"ticks\":\"\"},\"colorscale\":[[0.0,\"#0d0887\"],[0.1111111111111111,\"#46039f\"],[0.2222222222222222,\"#7201a8\"],[0.3333333333333333,\"#9c179e\"],[0.4444444444444444,\"#bd3786\"],[0.5555555555555556,\"#d8576b\"],[0.6666666666666666,\"#ed7953\"],[0.7777777777777778,\"#fb9f3a\"],[0.8888888888888888,\"#fdca26\"],[1.0,\"#f0f921\"]]}],\"heatmapgl\":[{\"type\":\"heatmapgl\",\"colorbar\":{\"outlinewidth\":0,\"ticks\":\"\"},\"colorscale\":[[0.0,\"#0d0887\"],[0.1111111111111111,\"#46039f\"],[0.2222222222222222,\"#7201a8\"],[0.3333333333333333,\"#9c179e\"],[0.4444444444444444,\"#bd3786\"],[0.5555555555555556,\"#d8576b\"],[0.6666666666666666,\"#ed7953\"],[0.7777777777777778,\"#fb9f3a\"],[0.8888888888888888,\"#fdca26\"],[1.0,\"#f0f921\"]]}],\"contourcarpet\":[{\"type\":\"contourcarpet\",\"colorbar\":{\"outlinewidth\":0,\"ticks\":\"\"}}],\"contour\":[{\"type\":\"contour\",\"colorbar\":{\"outlinewidth\":0,\"ticks\":\"\"},\"colorscale\":[[0.0,\"#0d0887\"],[0.1111111111111111,\"#46039f\"],[0.2222222222222222,\"#7201a8\"],[0.3333333333333333,\"#9c179e\"],[0.4444444444444444,\"#bd3786\"],[0.5555555555555556,\"#d8576b\"],[0.6666666666666666,\"#ed7953\"],[0.7777777777777778,\"#fb9f3a\"],[0.8888888888888888,\"#fdca26\"],[1.0,\"#f0f921\"]]}],\"surface\":[{\"type\":\"surface\",\"colorbar\":{\"outlinewidth\":0,\"ticks\":\"\"},\"colorscale\":[[0.0,\"#0d0887\"],[0.1111111111111111,\"#46039f\"],[0.2222222222222222,\"#7201a8\"],[0.3333333333333333,\"#9c179e\"],[0.4444444444444444,\"#bd3786\"],[0.5555555555555556,\"#d8576b\"],[0.6666666666666666,\"#ed7953\"],[0.7777777777777778,\"#fb9f3a\"],[0.8888888888888888,\"#fdca26\"],[1.0,\"#f0f921\"]]}],\"mesh3d\":[{\"type\":\"mesh3d\",\"colorbar\":{\"outlinewidth\":0,\"ticks\":\"\"}}],\"scatter\":[{\"fillpattern\":{\"fillmode\":\"overlay\",\"size\":10,\"solidity\":0.2},\"type\":\"scatter\"}],\"parcoords\":[{\"type\":\"parcoords\",\"line\":{\"colorbar\":{\"outlinewidth\":0,\"ticks\":\"\"}}}],\"scatterpolargl\":[{\"type\":\"scatterpolargl\",\"marker\":{\"colorbar\":{\"outlinewidth\":0,\"ticks\":\"\"}}}],\"bar\":[{\"error_x\":{\"color\":\"#2a3f5f\"},\"error_y\":{\"color\":\"#2a3f5f\"},\"marker\":{\"line\":{\"color\":\"#E5ECF6\",\"width\":0.5},\"pattern\":{\"fillmode\":\"overlay\",\"size\":10,\"solidity\":0.2}},\"type\":\"bar\"}],\"scattergeo\":[{\"type\":\"scattergeo\",\"marker\":{\"colorbar\":{\"outlinewidth\":0,\"ticks\":\"\"}}}],\"scatterpolar\":[{\"type\":\"scatterpolar\",\"marker\":{\"colorbar\":{\"outlinewidth\":0,\"ticks\":\"\"}}}],\"histogram\":[{\"marker\":{\"pattern\":{\"fillmode\":\"overlay\",\"size\":10,\"solidity\":0.2}},\"type\":\"histogram\"}],\"scattergl\":[{\"type\":\"scattergl\",\"marker\":{\"colorbar\":{\"outlinewidth\":0,\"ticks\":\"\"}}}],\"scatter3d\":[{\"type\":\"scatter3d\",\"line\":{\"colorbar\":{\"outlinewidth\":0,\"ticks\":\"\"}},\"marker\":{\"colorbar\":{\"outlinewidth\":0,\"ticks\":\"\"}}}],\"scattermapbox\":[{\"type\":\"scattermapbox\",\"marker\":{\"colorbar\":{\"outlinewidth\":0,\"ticks\":\"\"}}}],\"scatterternary\":[{\"type\":\"scatterternary\",\"marker\":{\"colorbar\":{\"outlinewidth\":0,\"ticks\":\"\"}}}],\"scattercarpet\":[{\"type\":\"scattercarpet\",\"marker\":{\"colorbar\":{\"outlinewidth\":0,\"ticks\":\"\"}}}],\"carpet\":[{\"aaxis\":{\"endlinecolor\":\"#2a3f5f\",\"gridcolor\":\"white\",\"linecolor\":\"white\",\"minorgridcolor\":\"white\",\"startlinecolor\":\"#2a3f5f\"},\"baxis\":{\"endlinecolor\":\"#2a3f5f\",\"gridcolor\":\"white\",\"linecolor\":\"white\",\"minorgridcolor\":\"white\",\"startlinecolor\":\"#2a3f5f\"},\"type\":\"carpet\"}],\"table\":[{\"cells\":{\"fill\":{\"color\":\"#EBF0F8\"},\"line\":{\"color\":\"white\"}},\"header\":{\"fill\":{\"color\":\"#C8D4E3\"},\"line\":{\"color\":\"white\"}},\"type\":\"table\"}],\"barpolar\":[{\"marker\":{\"line\":{\"color\":\"#E5ECF6\",\"width\":0.5},\"pattern\":{\"fillmode\":\"overlay\",\"size\":10,\"solidity\":0.2}},\"type\":\"barpolar\"}],\"pie\":[{\"automargin\":true,\"type\":\"pie\"}]},\"layout\":{\"autotypenumbers\":\"strict\",\"colorway\":[\"#636efa\",\"#EF553B\",\"#00cc96\",\"#ab63fa\",\"#FFA15A\",\"#19d3f3\",\"#FF6692\",\"#B6E880\",\"#FF97FF\",\"#FECB52\"],\"font\":{\"color\":\"#2a3f5f\"},\"hovermode\":\"closest\",\"hoverlabel\":{\"align\":\"left\"},\"paper_bgcolor\":\"white\",\"plot_bgcolor\":\"#E5ECF6\",\"polar\":{\"bgcolor\":\"#E5ECF6\",\"angularaxis\":{\"gridcolor\":\"white\",\"linecolor\":\"white\",\"ticks\":\"\"},\"radialaxis\":{\"gridcolor\":\"white\",\"linecolor\":\"white\",\"ticks\":\"\"}},\"ternary\":{\"bgcolor\":\"#E5ECF6\",\"aaxis\":{\"gridcolor\":\"white\",\"linecolor\":\"white\",\"ticks\":\"\"},\"baxis\":{\"gridcolor\":\"white\",\"linecolor\":\"white\",\"ticks\":\"\"},\"caxis\":{\"gridcolor\":\"white\",\"linecolor\":\"white\",\"ticks\":\"\"}},\"coloraxis\":{\"colorbar\":{\"outlinewidth\":0,\"ticks\":\"\"}},\"colorscale\":{\"sequential\":[[0.0,\"#0d0887\"],[0.1111111111111111,\"#46039f\"],[0.2222222222222222,\"#7201a8\"],[0.3333333333333333,\"#9c179e\"],[0.4444444444444444,\"#bd3786\"],[0.5555555555555556,\"#d8576b\"],[0.6666666666666666,\"#ed7953\"],[0.7777777777777778,\"#fb9f3a\"],[0.8888888888888888,\"#fdca26\"],[1.0,\"#f0f921\"]],\"sequentialminus\":[[0.0,\"#0d0887\"],[0.1111111111111111,\"#46039f\"],[0.2222222222222222,\"#7201a8\"],[0.3333333333333333,\"#9c179e\"],[0.4444444444444444,\"#bd3786\"],[0.5555555555555556,\"#d8576b\"],[0.6666666666666666,\"#ed7953\"],[0.7777777777777778,\"#fb9f3a\"],[0.8888888888888888,\"#fdca26\"],[1.0,\"#f0f921\"]],\"diverging\":[[0,\"#8e0152\"],[0.1,\"#c51b7d\"],[0.2,\"#de77ae\"],[0.3,\"#f1b6da\"],[0.4,\"#fde0ef\"],[0.5,\"#f7f7f7\"],[0.6,\"#e6f5d0\"],[0.7,\"#b8e186\"],[0.8,\"#7fbc41\"],[0.9,\"#4d9221\"],[1,\"#276419\"]]},\"xaxis\":{\"gridcolor\":\"white\",\"linecolor\":\"white\",\"ticks\":\"\",\"title\":{\"standoff\":15},\"zerolinecolor\":\"white\",\"automargin\":true,\"zerolinewidth\":2},\"yaxis\":{\"gridcolor\":\"white\",\"linecolor\":\"white\",\"ticks\":\"\",\"title\":{\"standoff\":15},\"zerolinecolor\":\"white\",\"automargin\":true,\"zerolinewidth\":2},\"scene\":{\"xaxis\":{\"backgroundcolor\":\"#E5ECF6\",\"gridcolor\":\"white\",\"linecolor\":\"white\",\"showbackground\":true,\"ticks\":\"\",\"zerolinecolor\":\"white\",\"gridwidth\":2},\"yaxis\":{\"backgroundcolor\":\"#E5ECF6\",\"gridcolor\":\"white\",\"linecolor\":\"white\",\"showbackground\":true,\"ticks\":\"\",\"zerolinecolor\":\"white\",\"gridwidth\":2},\"zaxis\":{\"backgroundcolor\":\"#E5ECF6\",\"gridcolor\":\"white\",\"linecolor\":\"white\",\"showbackground\":true,\"ticks\":\"\",\"zerolinecolor\":\"white\",\"gridwidth\":2}},\"shapedefaults\":{\"line\":{\"color\":\"#2a3f5f\"}},\"annotationdefaults\":{\"arrowcolor\":\"#2a3f5f\",\"arrowhead\":0,\"arrowwidth\":1},\"geo\":{\"bgcolor\":\"white\",\"landcolor\":\"#E5ECF6\",\"subunitcolor\":\"white\",\"showland\":true,\"showlakes\":true,\"lakecolor\":\"white\"},\"title\":{\"x\":0.05},\"mapbox\":{\"style\":\"light\"}}},\"xaxis\":{\"anchor\":\"y\",\"domain\":[0.0,1.0],\"title\":{\"text\":\"year\"}},\"yaxis\":{\"anchor\":\"x\",\"domain\":[0.0,1.0],\"title\":{\"text\":\"number_of_titles\"}},\"legend\":{\"tracegroupgap\":0},\"margin\":{\"t\":60},\"height\":400,\"width\":600},                        {\"responsive\": true}                    ).then(function(){\n",
       "                            \n",
       "var gd = document.getElementById('90a9d1bc-78a0-40f9-a48b-1084f0c535d0');\n",
       "var x = new MutationObserver(function (mutations, observer) {{\n",
       "        var display = window.getComputedStyle(gd).display;\n",
       "        if (!display || display === 'none') {{\n",
       "            console.log([gd, 'removed!']);\n",
       "            Plotly.purge(gd);\n",
       "            observer.disconnect();\n",
       "        }}\n",
       "}});\n",
       "\n",
       "// Listen for the removal of the full notebook cells\n",
       "var notebookContainer = gd.closest('#notebook-container');\n",
       "if (notebookContainer) {{\n",
       "    x.observe(notebookContainer, {childList: true});\n",
       "}}\n",
       "\n",
       "// Listen for the clearing of the current output cell\n",
       "var outputEl = gd.closest('.output');\n",
       "if (outputEl) {{\n",
       "    x.observe(outputEl, {childList: true});\n",
       "}}\n",
       "\n",
       "                        })                };                });            </script>        </div>"
      ]
     },
     "metadata": {},
     "output_type": "display_data"
    }
   ],
   "source": [
    "\n",
    "fig = px.line(timeline,\n",
    "              x='year', \n",
    "              y='number_of_titles',\n",
    "              width=600, \n",
    "              height=400)\n",
    "fig.show()\n"
   ]
  },
  {
   "cell_type": "markdown",
   "id": "eb518841",
   "metadata": {},
   "source": [
    "## Authors"
   ]
  },
  {
   "cell_type": "code",
   "execution_count": 20,
   "id": "f44ffa0b",
   "metadata": {},
   "outputs": [],
   "source": [
    "query = '''\n",
    "\n",
    "PREFIX xsd: <http://www.w3.org/2001/XMLSchema#>\n",
    "PREFIX schema: <http://schema.org/>\n",
    "PREFIX kb: <http://data.bibliotheken.nl/def#>\n",
    "PREFIX rdf: <http://www.w3.org/1999/02/22-rdf-syntax-ns#>\n",
    "PREFIX rdfs: <http://www.w3.org/2000/01/rdf-schema#>\n",
    "PREFIX skos: <http://www.w3.org/2004/02/skos/core#>\n",
    "\n",
    "SELECT * {\n",
    "\n",
    "?book schema:mainEntityOfPage ?mainEntity .\n",
    "?mainEntity schema:isPartOf <http://data.bibliotheken.nl/id/dataset/stcn>  . \n",
    "\n",
    "?book schema:about <http://data.bibliotheken.nl/id/thes/p15544669X> .\n",
    "\n",
    "OPTIONAL {\n",
    "?book schema:author ?author_node . \n",
    "?author_node schema:author ?author_info .\n",
    "?author_info  rdfs:label ?author_name . }\n",
    "}\n",
    "\n",
    "'''\n",
    "df = run_query(query)"
   ]
  },
  {
   "cell_type": "code",
   "execution_count": 21,
   "id": "b5ffe90e",
   "metadata": {},
   "outputs": [
    {
     "data": {
      "application/vnd.plotly.v1+json": {
       "config": {
        "plotlyServerURL": "https://plot.ly"
       },
       "data": [
        {
         "alignmentgroup": "True",
         "hovertemplate": "Number of titles=%{x}<br>Name=%{y}<extra></extra>",
         "legendgroup": "",
         "marker": {
          "color": "#636efa",
          "pattern": {
           "shape": ""
          }
         },
         "name": "",
         "offsetgroup": "",
         "orientation": "h",
         "showlegend": false,
         "textposition": "auto",
         "type": "bar",
         "x": [
          34,
          26,
          15,
          7,
          5,
          5,
          5,
          5,
          4,
          4,
          4,
          4,
          4,
          4,
          4,
          4
         ],
         "xaxis": "x",
         "y": [
          "João de Barros ",
          "Guillaume Thomas François Raynal ",
          "Jan Huyghen van Linschoten ",
          "Olfert Dapper ",
          "Willem Bosman ",
          "Paul Lucas ",
          "Hendrik Cornelis Steenis ",
          "Thomas Shaw ",
          "Binyamīn ben-Yōnah ",
          "Emmanuel d' Aranda ",
          "John Green ",
          "Duarte Lopes ",
          "Peter Kolb ",
          "Manuel de Almeida ",
          "Pieter de Marees",
          "Jean Pierre Purry "
         ],
         "yaxis": "y"
        }
       ],
       "layout": {
        "barmode": "relative",
        "height": 1000,
        "legend": {
         "tracegroupgap": 0
        },
        "margin": {
         "t": 60
        },
        "template": {
         "data": {
          "bar": [
           {
            "error_x": {
             "color": "#2a3f5f"
            },
            "error_y": {
             "color": "#2a3f5f"
            },
            "marker": {
             "line": {
              "color": "#E5ECF6",
              "width": 0.5
             },
             "pattern": {
              "fillmode": "overlay",
              "size": 10,
              "solidity": 0.2
             }
            },
            "type": "bar"
           }
          ],
          "barpolar": [
           {
            "marker": {
             "line": {
              "color": "#E5ECF6",
              "width": 0.5
             },
             "pattern": {
              "fillmode": "overlay",
              "size": 10,
              "solidity": 0.2
             }
            },
            "type": "barpolar"
           }
          ],
          "carpet": [
           {
            "aaxis": {
             "endlinecolor": "#2a3f5f",
             "gridcolor": "white",
             "linecolor": "white",
             "minorgridcolor": "white",
             "startlinecolor": "#2a3f5f"
            },
            "baxis": {
             "endlinecolor": "#2a3f5f",
             "gridcolor": "white",
             "linecolor": "white",
             "minorgridcolor": "white",
             "startlinecolor": "#2a3f5f"
            },
            "type": "carpet"
           }
          ],
          "choropleth": [
           {
            "colorbar": {
             "outlinewidth": 0,
             "ticks": ""
            },
            "type": "choropleth"
           }
          ],
          "contour": [
           {
            "colorbar": {
             "outlinewidth": 0,
             "ticks": ""
            },
            "colorscale": [
             [
              0,
              "#0d0887"
             ],
             [
              0.1111111111111111,
              "#46039f"
             ],
             [
              0.2222222222222222,
              "#7201a8"
             ],
             [
              0.3333333333333333,
              "#9c179e"
             ],
             [
              0.4444444444444444,
              "#bd3786"
             ],
             [
              0.5555555555555556,
              "#d8576b"
             ],
             [
              0.6666666666666666,
              "#ed7953"
             ],
             [
              0.7777777777777778,
              "#fb9f3a"
             ],
             [
              0.8888888888888888,
              "#fdca26"
             ],
             [
              1,
              "#f0f921"
             ]
            ],
            "type": "contour"
           }
          ],
          "contourcarpet": [
           {
            "colorbar": {
             "outlinewidth": 0,
             "ticks": ""
            },
            "type": "contourcarpet"
           }
          ],
          "heatmap": [
           {
            "colorbar": {
             "outlinewidth": 0,
             "ticks": ""
            },
            "colorscale": [
             [
              0,
              "#0d0887"
             ],
             [
              0.1111111111111111,
              "#46039f"
             ],
             [
              0.2222222222222222,
              "#7201a8"
             ],
             [
              0.3333333333333333,
              "#9c179e"
             ],
             [
              0.4444444444444444,
              "#bd3786"
             ],
             [
              0.5555555555555556,
              "#d8576b"
             ],
             [
              0.6666666666666666,
              "#ed7953"
             ],
             [
              0.7777777777777778,
              "#fb9f3a"
             ],
             [
              0.8888888888888888,
              "#fdca26"
             ],
             [
              1,
              "#f0f921"
             ]
            ],
            "type": "heatmap"
           }
          ],
          "heatmapgl": [
           {
            "colorbar": {
             "outlinewidth": 0,
             "ticks": ""
            },
            "colorscale": [
             [
              0,
              "#0d0887"
             ],
             [
              0.1111111111111111,
              "#46039f"
             ],
             [
              0.2222222222222222,
              "#7201a8"
             ],
             [
              0.3333333333333333,
              "#9c179e"
             ],
             [
              0.4444444444444444,
              "#bd3786"
             ],
             [
              0.5555555555555556,
              "#d8576b"
             ],
             [
              0.6666666666666666,
              "#ed7953"
             ],
             [
              0.7777777777777778,
              "#fb9f3a"
             ],
             [
              0.8888888888888888,
              "#fdca26"
             ],
             [
              1,
              "#f0f921"
             ]
            ],
            "type": "heatmapgl"
           }
          ],
          "histogram": [
           {
            "marker": {
             "pattern": {
              "fillmode": "overlay",
              "size": 10,
              "solidity": 0.2
             }
            },
            "type": "histogram"
           }
          ],
          "histogram2d": [
           {
            "colorbar": {
             "outlinewidth": 0,
             "ticks": ""
            },
            "colorscale": [
             [
              0,
              "#0d0887"
             ],
             [
              0.1111111111111111,
              "#46039f"
             ],
             [
              0.2222222222222222,
              "#7201a8"
             ],
             [
              0.3333333333333333,
              "#9c179e"
             ],
             [
              0.4444444444444444,
              "#bd3786"
             ],
             [
              0.5555555555555556,
              "#d8576b"
             ],
             [
              0.6666666666666666,
              "#ed7953"
             ],
             [
              0.7777777777777778,
              "#fb9f3a"
             ],
             [
              0.8888888888888888,
              "#fdca26"
             ],
             [
              1,
              "#f0f921"
             ]
            ],
            "type": "histogram2d"
           }
          ],
          "histogram2dcontour": [
           {
            "colorbar": {
             "outlinewidth": 0,
             "ticks": ""
            },
            "colorscale": [
             [
              0,
              "#0d0887"
             ],
             [
              0.1111111111111111,
              "#46039f"
             ],
             [
              0.2222222222222222,
              "#7201a8"
             ],
             [
              0.3333333333333333,
              "#9c179e"
             ],
             [
              0.4444444444444444,
              "#bd3786"
             ],
             [
              0.5555555555555556,
              "#d8576b"
             ],
             [
              0.6666666666666666,
              "#ed7953"
             ],
             [
              0.7777777777777778,
              "#fb9f3a"
             ],
             [
              0.8888888888888888,
              "#fdca26"
             ],
             [
              1,
              "#f0f921"
             ]
            ],
            "type": "histogram2dcontour"
           }
          ],
          "mesh3d": [
           {
            "colorbar": {
             "outlinewidth": 0,
             "ticks": ""
            },
            "type": "mesh3d"
           }
          ],
          "parcoords": [
           {
            "line": {
             "colorbar": {
              "outlinewidth": 0,
              "ticks": ""
             }
            },
            "type": "parcoords"
           }
          ],
          "pie": [
           {
            "automargin": true,
            "type": "pie"
           }
          ],
          "scatter": [
           {
            "fillpattern": {
             "fillmode": "overlay",
             "size": 10,
             "solidity": 0.2
            },
            "type": "scatter"
           }
          ],
          "scatter3d": [
           {
            "line": {
             "colorbar": {
              "outlinewidth": 0,
              "ticks": ""
             }
            },
            "marker": {
             "colorbar": {
              "outlinewidth": 0,
              "ticks": ""
             }
            },
            "type": "scatter3d"
           }
          ],
          "scattercarpet": [
           {
            "marker": {
             "colorbar": {
              "outlinewidth": 0,
              "ticks": ""
             }
            },
            "type": "scattercarpet"
           }
          ],
          "scattergeo": [
           {
            "marker": {
             "colorbar": {
              "outlinewidth": 0,
              "ticks": ""
             }
            },
            "type": "scattergeo"
           }
          ],
          "scattergl": [
           {
            "marker": {
             "colorbar": {
              "outlinewidth": 0,
              "ticks": ""
             }
            },
            "type": "scattergl"
           }
          ],
          "scattermapbox": [
           {
            "marker": {
             "colorbar": {
              "outlinewidth": 0,
              "ticks": ""
             }
            },
            "type": "scattermapbox"
           }
          ],
          "scatterpolar": [
           {
            "marker": {
             "colorbar": {
              "outlinewidth": 0,
              "ticks": ""
             }
            },
            "type": "scatterpolar"
           }
          ],
          "scatterpolargl": [
           {
            "marker": {
             "colorbar": {
              "outlinewidth": 0,
              "ticks": ""
             }
            },
            "type": "scatterpolargl"
           }
          ],
          "scatterternary": [
           {
            "marker": {
             "colorbar": {
              "outlinewidth": 0,
              "ticks": ""
             }
            },
            "type": "scatterternary"
           }
          ],
          "surface": [
           {
            "colorbar": {
             "outlinewidth": 0,
             "ticks": ""
            },
            "colorscale": [
             [
              0,
              "#0d0887"
             ],
             [
              0.1111111111111111,
              "#46039f"
             ],
             [
              0.2222222222222222,
              "#7201a8"
             ],
             [
              0.3333333333333333,
              "#9c179e"
             ],
             [
              0.4444444444444444,
              "#bd3786"
             ],
             [
              0.5555555555555556,
              "#d8576b"
             ],
             [
              0.6666666666666666,
              "#ed7953"
             ],
             [
              0.7777777777777778,
              "#fb9f3a"
             ],
             [
              0.8888888888888888,
              "#fdca26"
             ],
             [
              1,
              "#f0f921"
             ]
            ],
            "type": "surface"
           }
          ],
          "table": [
           {
            "cells": {
             "fill": {
              "color": "#EBF0F8"
             },
             "line": {
              "color": "white"
             }
            },
            "header": {
             "fill": {
              "color": "#C8D4E3"
             },
             "line": {
              "color": "white"
             }
            },
            "type": "table"
           }
          ]
         },
         "layout": {
          "annotationdefaults": {
           "arrowcolor": "#2a3f5f",
           "arrowhead": 0,
           "arrowwidth": 1
          },
          "autotypenumbers": "strict",
          "coloraxis": {
           "colorbar": {
            "outlinewidth": 0,
            "ticks": ""
           }
          },
          "colorscale": {
           "diverging": [
            [
             0,
             "#8e0152"
            ],
            [
             0.1,
             "#c51b7d"
            ],
            [
             0.2,
             "#de77ae"
            ],
            [
             0.3,
             "#f1b6da"
            ],
            [
             0.4,
             "#fde0ef"
            ],
            [
             0.5,
             "#f7f7f7"
            ],
            [
             0.6,
             "#e6f5d0"
            ],
            [
             0.7,
             "#b8e186"
            ],
            [
             0.8,
             "#7fbc41"
            ],
            [
             0.9,
             "#4d9221"
            ],
            [
             1,
             "#276419"
            ]
           ],
           "sequential": [
            [
             0,
             "#0d0887"
            ],
            [
             0.1111111111111111,
             "#46039f"
            ],
            [
             0.2222222222222222,
             "#7201a8"
            ],
            [
             0.3333333333333333,
             "#9c179e"
            ],
            [
             0.4444444444444444,
             "#bd3786"
            ],
            [
             0.5555555555555556,
             "#d8576b"
            ],
            [
             0.6666666666666666,
             "#ed7953"
            ],
            [
             0.7777777777777778,
             "#fb9f3a"
            ],
            [
             0.8888888888888888,
             "#fdca26"
            ],
            [
             1,
             "#f0f921"
            ]
           ],
           "sequentialminus": [
            [
             0,
             "#0d0887"
            ],
            [
             0.1111111111111111,
             "#46039f"
            ],
            [
             0.2222222222222222,
             "#7201a8"
            ],
            [
             0.3333333333333333,
             "#9c179e"
            ],
            [
             0.4444444444444444,
             "#bd3786"
            ],
            [
             0.5555555555555556,
             "#d8576b"
            ],
            [
             0.6666666666666666,
             "#ed7953"
            ],
            [
             0.7777777777777778,
             "#fb9f3a"
            ],
            [
             0.8888888888888888,
             "#fdca26"
            ],
            [
             1,
             "#f0f921"
            ]
           ]
          },
          "colorway": [
           "#636efa",
           "#EF553B",
           "#00cc96",
           "#ab63fa",
           "#FFA15A",
           "#19d3f3",
           "#FF6692",
           "#B6E880",
           "#FF97FF",
           "#FECB52"
          ],
          "font": {
           "color": "#2a3f5f"
          },
          "geo": {
           "bgcolor": "white",
           "lakecolor": "white",
           "landcolor": "#E5ECF6",
           "showlakes": true,
           "showland": true,
           "subunitcolor": "white"
          },
          "hoverlabel": {
           "align": "left"
          },
          "hovermode": "closest",
          "mapbox": {
           "style": "light"
          },
          "paper_bgcolor": "white",
          "plot_bgcolor": "#E5ECF6",
          "polar": {
           "angularaxis": {
            "gridcolor": "white",
            "linecolor": "white",
            "ticks": ""
           },
           "bgcolor": "#E5ECF6",
           "radialaxis": {
            "gridcolor": "white",
            "linecolor": "white",
            "ticks": ""
           }
          },
          "scene": {
           "xaxis": {
            "backgroundcolor": "#E5ECF6",
            "gridcolor": "white",
            "gridwidth": 2,
            "linecolor": "white",
            "showbackground": true,
            "ticks": "",
            "zerolinecolor": "white"
           },
           "yaxis": {
            "backgroundcolor": "#E5ECF6",
            "gridcolor": "white",
            "gridwidth": 2,
            "linecolor": "white",
            "showbackground": true,
            "ticks": "",
            "zerolinecolor": "white"
           },
           "zaxis": {
            "backgroundcolor": "#E5ECF6",
            "gridcolor": "white",
            "gridwidth": 2,
            "linecolor": "white",
            "showbackground": true,
            "ticks": "",
            "zerolinecolor": "white"
           }
          },
          "shapedefaults": {
           "line": {
            "color": "#2a3f5f"
           }
          },
          "ternary": {
           "aaxis": {
            "gridcolor": "white",
            "linecolor": "white",
            "ticks": ""
           },
           "baxis": {
            "gridcolor": "white",
            "linecolor": "white",
            "ticks": ""
           },
           "bgcolor": "#E5ECF6",
           "caxis": {
            "gridcolor": "white",
            "linecolor": "white",
            "ticks": ""
           }
          },
          "title": {
           "x": 0.05
          },
          "xaxis": {
           "automargin": true,
           "gridcolor": "white",
           "linecolor": "white",
           "ticks": "",
           "title": {
            "standoff": 15
           },
           "zerolinecolor": "white",
           "zerolinewidth": 2
          },
          "yaxis": {
           "automargin": true,
           "gridcolor": "white",
           "linecolor": "white",
           "ticks": "",
           "title": {
            "standoff": 15
           },
           "zerolinecolor": "white",
           "zerolinewidth": 2
          }
         }
        },
        "xaxis": {
         "anchor": "y",
         "domain": [
          0,
          1
         ],
         "title": {
          "text": "Number of titles"
         }
        },
        "yaxis": {
         "anchor": "x",
         "autorange": "reversed",
         "domain": [
          0,
          1
         ],
         "title": {
          "text": "Name"
         }
        }
       }
      },
      "text/html": [
       "<div>                            <div id=\"877ff9ba-4a6f-4884-81c5-7d5ee6a49bd4\" class=\"plotly-graph-div\" style=\"height:1000px; width:100%;\"></div>            <script type=\"text/javascript\">                require([\"plotly\"], function(Plotly) {                    window.PLOTLYENV=window.PLOTLYENV || {};                                    if (document.getElementById(\"877ff9ba-4a6f-4884-81c5-7d5ee6a49bd4\")) {                    Plotly.newPlot(                        \"877ff9ba-4a6f-4884-81c5-7d5ee6a49bd4\",                        [{\"alignmentgroup\":\"True\",\"hovertemplate\":\"Number of titles=%{x}<br>Name=%{y}<extra></extra>\",\"legendgroup\":\"\",\"marker\":{\"color\":\"#636efa\",\"pattern\":{\"shape\":\"\"}},\"name\":\"\",\"offsetgroup\":\"\",\"orientation\":\"h\",\"showlegend\":false,\"textposition\":\"auto\",\"x\":[34,26,15,7,5,5,5,5,4,4,4,4,4,4,4,4],\"xaxis\":\"x\",\"y\":[\"Joa\\u0303o de Barros \",\"Guillaume Thomas Franc\\u0327ois Raynal \",\"Jan Huyghen van Linschoten \",\"Olfert Dapper \",\"Willem Bosman \",\"Paul Lucas \",\"Hendrik Cornelis Steenis \",\"Thomas Shaw \",\"Binyami\\u0304n ben-Yo\\u0304nah \",\"Emmanuel d' Aranda \",\"John Green \",\"Duarte Lopes \",\"Peter Kolb \",\"Manuel de Almeida \",\"Pieter de Marees\",\"Jean Pierre Purry \"],\"yaxis\":\"y\",\"type\":\"bar\"}],                        {\"template\":{\"data\":{\"histogram2dcontour\":[{\"type\":\"histogram2dcontour\",\"colorbar\":{\"outlinewidth\":0,\"ticks\":\"\"},\"colorscale\":[[0.0,\"#0d0887\"],[0.1111111111111111,\"#46039f\"],[0.2222222222222222,\"#7201a8\"],[0.3333333333333333,\"#9c179e\"],[0.4444444444444444,\"#bd3786\"],[0.5555555555555556,\"#d8576b\"],[0.6666666666666666,\"#ed7953\"],[0.7777777777777778,\"#fb9f3a\"],[0.8888888888888888,\"#fdca26\"],[1.0,\"#f0f921\"]]}],\"choropleth\":[{\"type\":\"choropleth\",\"colorbar\":{\"outlinewidth\":0,\"ticks\":\"\"}}],\"histogram2d\":[{\"type\":\"histogram2d\",\"colorbar\":{\"outlinewidth\":0,\"ticks\":\"\"},\"colorscale\":[[0.0,\"#0d0887\"],[0.1111111111111111,\"#46039f\"],[0.2222222222222222,\"#7201a8\"],[0.3333333333333333,\"#9c179e\"],[0.4444444444444444,\"#bd3786\"],[0.5555555555555556,\"#d8576b\"],[0.6666666666666666,\"#ed7953\"],[0.7777777777777778,\"#fb9f3a\"],[0.8888888888888888,\"#fdca26\"],[1.0,\"#f0f921\"]]}],\"heatmap\":[{\"type\":\"heatmap\",\"colorbar\":{\"outlinewidth\":0,\"ticks\":\"\"},\"colorscale\":[[0.0,\"#0d0887\"],[0.1111111111111111,\"#46039f\"],[0.2222222222222222,\"#7201a8\"],[0.3333333333333333,\"#9c179e\"],[0.4444444444444444,\"#bd3786\"],[0.5555555555555556,\"#d8576b\"],[0.6666666666666666,\"#ed7953\"],[0.7777777777777778,\"#fb9f3a\"],[0.8888888888888888,\"#fdca26\"],[1.0,\"#f0f921\"]]}],\"heatmapgl\":[{\"type\":\"heatmapgl\",\"colorbar\":{\"outlinewidth\":0,\"ticks\":\"\"},\"colorscale\":[[0.0,\"#0d0887\"],[0.1111111111111111,\"#46039f\"],[0.2222222222222222,\"#7201a8\"],[0.3333333333333333,\"#9c179e\"],[0.4444444444444444,\"#bd3786\"],[0.5555555555555556,\"#d8576b\"],[0.6666666666666666,\"#ed7953\"],[0.7777777777777778,\"#fb9f3a\"],[0.8888888888888888,\"#fdca26\"],[1.0,\"#f0f921\"]]}],\"contourcarpet\":[{\"type\":\"contourcarpet\",\"colorbar\":{\"outlinewidth\":0,\"ticks\":\"\"}}],\"contour\":[{\"type\":\"contour\",\"colorbar\":{\"outlinewidth\":0,\"ticks\":\"\"},\"colorscale\":[[0.0,\"#0d0887\"],[0.1111111111111111,\"#46039f\"],[0.2222222222222222,\"#7201a8\"],[0.3333333333333333,\"#9c179e\"],[0.4444444444444444,\"#bd3786\"],[0.5555555555555556,\"#d8576b\"],[0.6666666666666666,\"#ed7953\"],[0.7777777777777778,\"#fb9f3a\"],[0.8888888888888888,\"#fdca26\"],[1.0,\"#f0f921\"]]}],\"surface\":[{\"type\":\"surface\",\"colorbar\":{\"outlinewidth\":0,\"ticks\":\"\"},\"colorscale\":[[0.0,\"#0d0887\"],[0.1111111111111111,\"#46039f\"],[0.2222222222222222,\"#7201a8\"],[0.3333333333333333,\"#9c179e\"],[0.4444444444444444,\"#bd3786\"],[0.5555555555555556,\"#d8576b\"],[0.6666666666666666,\"#ed7953\"],[0.7777777777777778,\"#fb9f3a\"],[0.8888888888888888,\"#fdca26\"],[1.0,\"#f0f921\"]]}],\"mesh3d\":[{\"type\":\"mesh3d\",\"colorbar\":{\"outlinewidth\":0,\"ticks\":\"\"}}],\"scatter\":[{\"fillpattern\":{\"fillmode\":\"overlay\",\"size\":10,\"solidity\":0.2},\"type\":\"scatter\"}],\"parcoords\":[{\"type\":\"parcoords\",\"line\":{\"colorbar\":{\"outlinewidth\":0,\"ticks\":\"\"}}}],\"scatterpolargl\":[{\"type\":\"scatterpolargl\",\"marker\":{\"colorbar\":{\"outlinewidth\":0,\"ticks\":\"\"}}}],\"bar\":[{\"error_x\":{\"color\":\"#2a3f5f\"},\"error_y\":{\"color\":\"#2a3f5f\"},\"marker\":{\"line\":{\"color\":\"#E5ECF6\",\"width\":0.5},\"pattern\":{\"fillmode\":\"overlay\",\"size\":10,\"solidity\":0.2}},\"type\":\"bar\"}],\"scattergeo\":[{\"type\":\"scattergeo\",\"marker\":{\"colorbar\":{\"outlinewidth\":0,\"ticks\":\"\"}}}],\"scatterpolar\":[{\"type\":\"scatterpolar\",\"marker\":{\"colorbar\":{\"outlinewidth\":0,\"ticks\":\"\"}}}],\"histogram\":[{\"marker\":{\"pattern\":{\"fillmode\":\"overlay\",\"size\":10,\"solidity\":0.2}},\"type\":\"histogram\"}],\"scattergl\":[{\"type\":\"scattergl\",\"marker\":{\"colorbar\":{\"outlinewidth\":0,\"ticks\":\"\"}}}],\"scatter3d\":[{\"type\":\"scatter3d\",\"line\":{\"colorbar\":{\"outlinewidth\":0,\"ticks\":\"\"}},\"marker\":{\"colorbar\":{\"outlinewidth\":0,\"ticks\":\"\"}}}],\"scattermapbox\":[{\"type\":\"scattermapbox\",\"marker\":{\"colorbar\":{\"outlinewidth\":0,\"ticks\":\"\"}}}],\"scatterternary\":[{\"type\":\"scatterternary\",\"marker\":{\"colorbar\":{\"outlinewidth\":0,\"ticks\":\"\"}}}],\"scattercarpet\":[{\"type\":\"scattercarpet\",\"marker\":{\"colorbar\":{\"outlinewidth\":0,\"ticks\":\"\"}}}],\"carpet\":[{\"aaxis\":{\"endlinecolor\":\"#2a3f5f\",\"gridcolor\":\"white\",\"linecolor\":\"white\",\"minorgridcolor\":\"white\",\"startlinecolor\":\"#2a3f5f\"},\"baxis\":{\"endlinecolor\":\"#2a3f5f\",\"gridcolor\":\"white\",\"linecolor\":\"white\",\"minorgridcolor\":\"white\",\"startlinecolor\":\"#2a3f5f\"},\"type\":\"carpet\"}],\"table\":[{\"cells\":{\"fill\":{\"color\":\"#EBF0F8\"},\"line\":{\"color\":\"white\"}},\"header\":{\"fill\":{\"color\":\"#C8D4E3\"},\"line\":{\"color\":\"white\"}},\"type\":\"table\"}],\"barpolar\":[{\"marker\":{\"line\":{\"color\":\"#E5ECF6\",\"width\":0.5},\"pattern\":{\"fillmode\":\"overlay\",\"size\":10,\"solidity\":0.2}},\"type\":\"barpolar\"}],\"pie\":[{\"automargin\":true,\"type\":\"pie\"}]},\"layout\":{\"autotypenumbers\":\"strict\",\"colorway\":[\"#636efa\",\"#EF553B\",\"#00cc96\",\"#ab63fa\",\"#FFA15A\",\"#19d3f3\",\"#FF6692\",\"#B6E880\",\"#FF97FF\",\"#FECB52\"],\"font\":{\"color\":\"#2a3f5f\"},\"hovermode\":\"closest\",\"hoverlabel\":{\"align\":\"left\"},\"paper_bgcolor\":\"white\",\"plot_bgcolor\":\"#E5ECF6\",\"polar\":{\"bgcolor\":\"#E5ECF6\",\"angularaxis\":{\"gridcolor\":\"white\",\"linecolor\":\"white\",\"ticks\":\"\"},\"radialaxis\":{\"gridcolor\":\"white\",\"linecolor\":\"white\",\"ticks\":\"\"}},\"ternary\":{\"bgcolor\":\"#E5ECF6\",\"aaxis\":{\"gridcolor\":\"white\",\"linecolor\":\"white\",\"ticks\":\"\"},\"baxis\":{\"gridcolor\":\"white\",\"linecolor\":\"white\",\"ticks\":\"\"},\"caxis\":{\"gridcolor\":\"white\",\"linecolor\":\"white\",\"ticks\":\"\"}},\"coloraxis\":{\"colorbar\":{\"outlinewidth\":0,\"ticks\":\"\"}},\"colorscale\":{\"sequential\":[[0.0,\"#0d0887\"],[0.1111111111111111,\"#46039f\"],[0.2222222222222222,\"#7201a8\"],[0.3333333333333333,\"#9c179e\"],[0.4444444444444444,\"#bd3786\"],[0.5555555555555556,\"#d8576b\"],[0.6666666666666666,\"#ed7953\"],[0.7777777777777778,\"#fb9f3a\"],[0.8888888888888888,\"#fdca26\"],[1.0,\"#f0f921\"]],\"sequentialminus\":[[0.0,\"#0d0887\"],[0.1111111111111111,\"#46039f\"],[0.2222222222222222,\"#7201a8\"],[0.3333333333333333,\"#9c179e\"],[0.4444444444444444,\"#bd3786\"],[0.5555555555555556,\"#d8576b\"],[0.6666666666666666,\"#ed7953\"],[0.7777777777777778,\"#fb9f3a\"],[0.8888888888888888,\"#fdca26\"],[1.0,\"#f0f921\"]],\"diverging\":[[0,\"#8e0152\"],[0.1,\"#c51b7d\"],[0.2,\"#de77ae\"],[0.3,\"#f1b6da\"],[0.4,\"#fde0ef\"],[0.5,\"#f7f7f7\"],[0.6,\"#e6f5d0\"],[0.7,\"#b8e186\"],[0.8,\"#7fbc41\"],[0.9,\"#4d9221\"],[1,\"#276419\"]]},\"xaxis\":{\"gridcolor\":\"white\",\"linecolor\":\"white\",\"ticks\":\"\",\"title\":{\"standoff\":15},\"zerolinecolor\":\"white\",\"automargin\":true,\"zerolinewidth\":2},\"yaxis\":{\"gridcolor\":\"white\",\"linecolor\":\"white\",\"ticks\":\"\",\"title\":{\"standoff\":15},\"zerolinecolor\":\"white\",\"automargin\":true,\"zerolinewidth\":2},\"scene\":{\"xaxis\":{\"backgroundcolor\":\"#E5ECF6\",\"gridcolor\":\"white\",\"linecolor\":\"white\",\"showbackground\":true,\"ticks\":\"\",\"zerolinecolor\":\"white\",\"gridwidth\":2},\"yaxis\":{\"backgroundcolor\":\"#E5ECF6\",\"gridcolor\":\"white\",\"linecolor\":\"white\",\"showbackground\":true,\"ticks\":\"\",\"zerolinecolor\":\"white\",\"gridwidth\":2},\"zaxis\":{\"backgroundcolor\":\"#E5ECF6\",\"gridcolor\":\"white\",\"linecolor\":\"white\",\"showbackground\":true,\"ticks\":\"\",\"zerolinecolor\":\"white\",\"gridwidth\":2}},\"shapedefaults\":{\"line\":{\"color\":\"#2a3f5f\"}},\"annotationdefaults\":{\"arrowcolor\":\"#2a3f5f\",\"arrowhead\":0,\"arrowwidth\":1},\"geo\":{\"bgcolor\":\"white\",\"landcolor\":\"#E5ECF6\",\"subunitcolor\":\"white\",\"showland\":true,\"showlakes\":true,\"lakecolor\":\"white\"},\"title\":{\"x\":0.05},\"mapbox\":{\"style\":\"light\"}}},\"xaxis\":{\"anchor\":\"y\",\"domain\":[0.0,1.0],\"title\":{\"text\":\"Number of titles\"}},\"yaxis\":{\"anchor\":\"x\",\"domain\":[0.0,1.0],\"title\":{\"text\":\"Name\"},\"autorange\":\"reversed\"},\"legend\":{\"tracegroupgap\":0},\"margin\":{\"t\":60},\"barmode\":\"relative\",\"height\":1000},                        {\"responsive\": true}                    ).then(function(){\n",
       "                            \n",
       "var gd = document.getElementById('877ff9ba-4a6f-4884-81c5-7d5ee6a49bd4');\n",
       "var x = new MutationObserver(function (mutations, observer) {{\n",
       "        var display = window.getComputedStyle(gd).display;\n",
       "        if (!display || display === 'none') {{\n",
       "            console.log([gd, 'removed!']);\n",
       "            Plotly.purge(gd);\n",
       "            observer.disconnect();\n",
       "        }}\n",
       "}});\n",
       "\n",
       "// Listen for the removal of the full notebook cells\n",
       "var notebookContainer = gd.closest('#notebook-container');\n",
       "if (notebookContainer) {{\n",
       "    x.observe(notebookContainer, {childList: true});\n",
       "}}\n",
       "\n",
       "// Listen for the clearing of the current output cell\n",
       "var outputEl = gd.closest('.output');\n",
       "if (outputEl) {{\n",
       "    x.observe(outputEl, {childList: true});\n",
       "}}\n",
       "\n",
       "                        })                };                });            </script>        </div>"
      ]
     },
     "metadata": {},
     "output_type": "display_data"
    }
   ],
   "source": [
    "authors = count_items('author_info.value','author_name.value')\n",
    "\n",
    "x_axis = []\n",
    "y_axis = []\n",
    "\n",
    "minimum_titles = 3\n",
    "\n",
    "for name,count in authors.most_common():\n",
    "    if not(pd.isna(name)):\n",
    "        if re.search(r'[(]',str(name)):\n",
    "            name = name[:name.index('(')]\n",
    "            \n",
    "        if count>minimum_titles:\n",
    "            x_axis.append(name)\n",
    "            y_axis.append(count)\n",
    "        \n",
    "df_barchart = pd.DataFrame({'Name':x_axis,'Number of titles':y_axis})\n",
    "\n",
    "\n",
    "fig = px.bar(df_barchart , \n",
    "             y = 'Name' , \n",
    "             x='Number of titles',\n",
    "                height=1000)\n",
    "\n",
    "fig['layout']['yaxis']['autorange'] = \"reversed\"\n",
    "fig.show()\n"
   ]
  },
  {
   "cell_type": "markdown",
   "id": "29a89b99",
   "metadata": {},
   "source": [
    "## Publishers"
   ]
  },
  {
   "cell_type": "code",
   "execution_count": 22,
   "id": "474f80a2",
   "metadata": {},
   "outputs": [],
   "source": [
    "query = '''\n",
    "\n",
    "PREFIX xsd: <http://www.w3.org/2001/XMLSchema#>\n",
    "PREFIX schema: <http://schema.org/>\n",
    "PREFIX kb: <http://data.bibliotheken.nl/def#>\n",
    "PREFIX rdf: <http://www.w3.org/1999/02/22-rdf-syntax-ns#>\n",
    "PREFIX rdfs: <http://www.w3.org/2000/01/rdf-schema#>\n",
    "PREFIX skos: <http://www.w3.org/2004/02/skos/core#>\n",
    "\n",
    "SELECT * {\n",
    "\n",
    "?book schema:mainEntityOfPage ?mainEntity .\n",
    "?mainEntity schema:isPartOf <http://data.bibliotheken.nl/id/dataset/stcn>  . \n",
    "\n",
    "?book schema:about <http://data.bibliotheken.nl/id/thes/p15544669X> .\n",
    "\n",
    "?book schema:publication ?publ .\n",
    "\n",
    "OPTIONAL {\n",
    "?publ schema:publishedBy ?publisher . \n",
    "?publisher schema:name ?publ_name .\n",
    "?publisher schema:location ?location_node .\n",
    "?location_node schema:address ?address .\n",
    "?address schema:addressLocality ?place . \n",
    "}\n",
    "\n",
    "}\n",
    "\n",
    "'''\n",
    "df = run_query(query)"
   ]
  },
  {
   "cell_type": "code",
   "execution_count": 23,
   "id": "87b0b3e1",
   "metadata": {},
   "outputs": [
    {
     "data": {
      "application/vnd.plotly.v1+json": {
       "config": {
        "plotlyServerURL": "https://plot.ly"
       },
       "data": [
        {
         "alignmentgroup": "True",
         "hovertemplate": "Number of titles=%{x}<br>Publisher=%{y}<extra></extra>",
         "legendgroup": "",
         "marker": {
          "color": "#636efa",
          "pattern": {
           "shape": ""
          }
         },
         "name": "",
         "offsetgroup": "",
         "orientation": "h",
         "showlegend": false,
         "textposition": "auto",
         "type": "bar",
         "x": [
          68,
          27,
          25,
          25,
          16,
          14,
          9,
          8,
          6,
          6,
          6,
          6,
          6,
          6,
          6,
          6,
          6,
          5,
          5,
          5,
          5,
          5,
          5,
          4,
          4,
          4,
          4,
          3,
          3,
          3,
          3,
          3,
          3,
          3,
          3,
          3,
          3,
          3,
          3,
          3,
          3,
          3,
          3,
          3,
          3,
          3,
          3,
          3,
          3,
          3,
          3,
          3
         ],
         "xaxis": "x",
         "y": [
          "Aa, Pieter van der (I)",
          "Ottens, Reinier (II)",
          "Schouten, Petrus",
          "Wilt, Cornelis",
          "Bos, Gerrit",
          "Scheltus, Jacobus (II)",
          "Claesz, Cornelis",
          "Compagnie, la",
          "Honkoop, Abraham (II)",
          "Honkoop, Jan",
          "Merkus, Henricus",
          "Arkstee, Johann Caspar",
          "Elzevier, Bonaventura",
          "Mourik, Bernardus",
          "Gosse junior, Pierre",
          "Cloppenburgh, Jan Evertsz (II)",
          "Meurs, Jacob van",
          "Schalekamp, Matthijs",
          "Paddenburg, Gijsbert Tieme van",
          "Besseling, Hermanus",
          "Bruyn, Martinus de",
          "Elzevier, Abraham (I)",
          "Hondt, Pieter de",
          "Scheltus, Paulus (I)",
          "Krap Az., Jan",
          "Leeuw, Jan de",
          "Dufour, Jean Edme",
          "Briët, Paul Etienne",
          "Herdingh, Leendert",
          "Blussé, Abraham",
          "Groot Pz., Jan de",
          "Visch, Justus",
          "Leeuwestijn, Johannes Coenradus",
          "Blussé, Pieter",
          "Crajenschot, Jacobus Adrianus",
          "Braam, Pieter van",
          "Vis, Dirk (II)",
          "Chatelain, Zacharias (II)",
          "Wild, Bartholomeus",
          "Vlam, Bartholomeus",
          "Bohn, François",
          "Scheltus, Isaac (II)",
          "Vos, Pieter",
          "Uytwerf, Hermannus",
          "Klasen, Jan",
          "Injema, Meindert",
          "Allart, Johannes",
          "Gosse, Pierre",
          "Voys, Guillaume de",
          "Desbordes, Henri",
          "Uytwerf, Meyndert (I)",
          "Schneider, Jean Herman"
         ],
         "yaxis": "y"
        }
       ],
       "layout": {
        "barmode": "relative",
        "height": 4000,
        "legend": {
         "tracegroupgap": 0
        },
        "margin": {
         "t": 60
        },
        "template": {
         "data": {
          "bar": [
           {
            "error_x": {
             "color": "#2a3f5f"
            },
            "error_y": {
             "color": "#2a3f5f"
            },
            "marker": {
             "line": {
              "color": "#E5ECF6",
              "width": 0.5
             },
             "pattern": {
              "fillmode": "overlay",
              "size": 10,
              "solidity": 0.2
             }
            },
            "type": "bar"
           }
          ],
          "barpolar": [
           {
            "marker": {
             "line": {
              "color": "#E5ECF6",
              "width": 0.5
             },
             "pattern": {
              "fillmode": "overlay",
              "size": 10,
              "solidity": 0.2
             }
            },
            "type": "barpolar"
           }
          ],
          "carpet": [
           {
            "aaxis": {
             "endlinecolor": "#2a3f5f",
             "gridcolor": "white",
             "linecolor": "white",
             "minorgridcolor": "white",
             "startlinecolor": "#2a3f5f"
            },
            "baxis": {
             "endlinecolor": "#2a3f5f",
             "gridcolor": "white",
             "linecolor": "white",
             "minorgridcolor": "white",
             "startlinecolor": "#2a3f5f"
            },
            "type": "carpet"
           }
          ],
          "choropleth": [
           {
            "colorbar": {
             "outlinewidth": 0,
             "ticks": ""
            },
            "type": "choropleth"
           }
          ],
          "contour": [
           {
            "colorbar": {
             "outlinewidth": 0,
             "ticks": ""
            },
            "colorscale": [
             [
              0,
              "#0d0887"
             ],
             [
              0.1111111111111111,
              "#46039f"
             ],
             [
              0.2222222222222222,
              "#7201a8"
             ],
             [
              0.3333333333333333,
              "#9c179e"
             ],
             [
              0.4444444444444444,
              "#bd3786"
             ],
             [
              0.5555555555555556,
              "#d8576b"
             ],
             [
              0.6666666666666666,
              "#ed7953"
             ],
             [
              0.7777777777777778,
              "#fb9f3a"
             ],
             [
              0.8888888888888888,
              "#fdca26"
             ],
             [
              1,
              "#f0f921"
             ]
            ],
            "type": "contour"
           }
          ],
          "contourcarpet": [
           {
            "colorbar": {
             "outlinewidth": 0,
             "ticks": ""
            },
            "type": "contourcarpet"
           }
          ],
          "heatmap": [
           {
            "colorbar": {
             "outlinewidth": 0,
             "ticks": ""
            },
            "colorscale": [
             [
              0,
              "#0d0887"
             ],
             [
              0.1111111111111111,
              "#46039f"
             ],
             [
              0.2222222222222222,
              "#7201a8"
             ],
             [
              0.3333333333333333,
              "#9c179e"
             ],
             [
              0.4444444444444444,
              "#bd3786"
             ],
             [
              0.5555555555555556,
              "#d8576b"
             ],
             [
              0.6666666666666666,
              "#ed7953"
             ],
             [
              0.7777777777777778,
              "#fb9f3a"
             ],
             [
              0.8888888888888888,
              "#fdca26"
             ],
             [
              1,
              "#f0f921"
             ]
            ],
            "type": "heatmap"
           }
          ],
          "heatmapgl": [
           {
            "colorbar": {
             "outlinewidth": 0,
             "ticks": ""
            },
            "colorscale": [
             [
              0,
              "#0d0887"
             ],
             [
              0.1111111111111111,
              "#46039f"
             ],
             [
              0.2222222222222222,
              "#7201a8"
             ],
             [
              0.3333333333333333,
              "#9c179e"
             ],
             [
              0.4444444444444444,
              "#bd3786"
             ],
             [
              0.5555555555555556,
              "#d8576b"
             ],
             [
              0.6666666666666666,
              "#ed7953"
             ],
             [
              0.7777777777777778,
              "#fb9f3a"
             ],
             [
              0.8888888888888888,
              "#fdca26"
             ],
             [
              1,
              "#f0f921"
             ]
            ],
            "type": "heatmapgl"
           }
          ],
          "histogram": [
           {
            "marker": {
             "pattern": {
              "fillmode": "overlay",
              "size": 10,
              "solidity": 0.2
             }
            },
            "type": "histogram"
           }
          ],
          "histogram2d": [
           {
            "colorbar": {
             "outlinewidth": 0,
             "ticks": ""
            },
            "colorscale": [
             [
              0,
              "#0d0887"
             ],
             [
              0.1111111111111111,
              "#46039f"
             ],
             [
              0.2222222222222222,
              "#7201a8"
             ],
             [
              0.3333333333333333,
              "#9c179e"
             ],
             [
              0.4444444444444444,
              "#bd3786"
             ],
             [
              0.5555555555555556,
              "#d8576b"
             ],
             [
              0.6666666666666666,
              "#ed7953"
             ],
             [
              0.7777777777777778,
              "#fb9f3a"
             ],
             [
              0.8888888888888888,
              "#fdca26"
             ],
             [
              1,
              "#f0f921"
             ]
            ],
            "type": "histogram2d"
           }
          ],
          "histogram2dcontour": [
           {
            "colorbar": {
             "outlinewidth": 0,
             "ticks": ""
            },
            "colorscale": [
             [
              0,
              "#0d0887"
             ],
             [
              0.1111111111111111,
              "#46039f"
             ],
             [
              0.2222222222222222,
              "#7201a8"
             ],
             [
              0.3333333333333333,
              "#9c179e"
             ],
             [
              0.4444444444444444,
              "#bd3786"
             ],
             [
              0.5555555555555556,
              "#d8576b"
             ],
             [
              0.6666666666666666,
              "#ed7953"
             ],
             [
              0.7777777777777778,
              "#fb9f3a"
             ],
             [
              0.8888888888888888,
              "#fdca26"
             ],
             [
              1,
              "#f0f921"
             ]
            ],
            "type": "histogram2dcontour"
           }
          ],
          "mesh3d": [
           {
            "colorbar": {
             "outlinewidth": 0,
             "ticks": ""
            },
            "type": "mesh3d"
           }
          ],
          "parcoords": [
           {
            "line": {
             "colorbar": {
              "outlinewidth": 0,
              "ticks": ""
             }
            },
            "type": "parcoords"
           }
          ],
          "pie": [
           {
            "automargin": true,
            "type": "pie"
           }
          ],
          "scatter": [
           {
            "fillpattern": {
             "fillmode": "overlay",
             "size": 10,
             "solidity": 0.2
            },
            "type": "scatter"
           }
          ],
          "scatter3d": [
           {
            "line": {
             "colorbar": {
              "outlinewidth": 0,
              "ticks": ""
             }
            },
            "marker": {
             "colorbar": {
              "outlinewidth": 0,
              "ticks": ""
             }
            },
            "type": "scatter3d"
           }
          ],
          "scattercarpet": [
           {
            "marker": {
             "colorbar": {
              "outlinewidth": 0,
              "ticks": ""
             }
            },
            "type": "scattercarpet"
           }
          ],
          "scattergeo": [
           {
            "marker": {
             "colorbar": {
              "outlinewidth": 0,
              "ticks": ""
             }
            },
            "type": "scattergeo"
           }
          ],
          "scattergl": [
           {
            "marker": {
             "colorbar": {
              "outlinewidth": 0,
              "ticks": ""
             }
            },
            "type": "scattergl"
           }
          ],
          "scattermapbox": [
           {
            "marker": {
             "colorbar": {
              "outlinewidth": 0,
              "ticks": ""
             }
            },
            "type": "scattermapbox"
           }
          ],
          "scatterpolar": [
           {
            "marker": {
             "colorbar": {
              "outlinewidth": 0,
              "ticks": ""
             }
            },
            "type": "scatterpolar"
           }
          ],
          "scatterpolargl": [
           {
            "marker": {
             "colorbar": {
              "outlinewidth": 0,
              "ticks": ""
             }
            },
            "type": "scatterpolargl"
           }
          ],
          "scatterternary": [
           {
            "marker": {
             "colorbar": {
              "outlinewidth": 0,
              "ticks": ""
             }
            },
            "type": "scatterternary"
           }
          ],
          "surface": [
           {
            "colorbar": {
             "outlinewidth": 0,
             "ticks": ""
            },
            "colorscale": [
             [
              0,
              "#0d0887"
             ],
             [
              0.1111111111111111,
              "#46039f"
             ],
             [
              0.2222222222222222,
              "#7201a8"
             ],
             [
              0.3333333333333333,
              "#9c179e"
             ],
             [
              0.4444444444444444,
              "#bd3786"
             ],
             [
              0.5555555555555556,
              "#d8576b"
             ],
             [
              0.6666666666666666,
              "#ed7953"
             ],
             [
              0.7777777777777778,
              "#fb9f3a"
             ],
             [
              0.8888888888888888,
              "#fdca26"
             ],
             [
              1,
              "#f0f921"
             ]
            ],
            "type": "surface"
           }
          ],
          "table": [
           {
            "cells": {
             "fill": {
              "color": "#EBF0F8"
             },
             "line": {
              "color": "white"
             }
            },
            "header": {
             "fill": {
              "color": "#C8D4E3"
             },
             "line": {
              "color": "white"
             }
            },
            "type": "table"
           }
          ]
         },
         "layout": {
          "annotationdefaults": {
           "arrowcolor": "#2a3f5f",
           "arrowhead": 0,
           "arrowwidth": 1
          },
          "autotypenumbers": "strict",
          "coloraxis": {
           "colorbar": {
            "outlinewidth": 0,
            "ticks": ""
           }
          },
          "colorscale": {
           "diverging": [
            [
             0,
             "#8e0152"
            ],
            [
             0.1,
             "#c51b7d"
            ],
            [
             0.2,
             "#de77ae"
            ],
            [
             0.3,
             "#f1b6da"
            ],
            [
             0.4,
             "#fde0ef"
            ],
            [
             0.5,
             "#f7f7f7"
            ],
            [
             0.6,
             "#e6f5d0"
            ],
            [
             0.7,
             "#b8e186"
            ],
            [
             0.8,
             "#7fbc41"
            ],
            [
             0.9,
             "#4d9221"
            ],
            [
             1,
             "#276419"
            ]
           ],
           "sequential": [
            [
             0,
             "#0d0887"
            ],
            [
             0.1111111111111111,
             "#46039f"
            ],
            [
             0.2222222222222222,
             "#7201a8"
            ],
            [
             0.3333333333333333,
             "#9c179e"
            ],
            [
             0.4444444444444444,
             "#bd3786"
            ],
            [
             0.5555555555555556,
             "#d8576b"
            ],
            [
             0.6666666666666666,
             "#ed7953"
            ],
            [
             0.7777777777777778,
             "#fb9f3a"
            ],
            [
             0.8888888888888888,
             "#fdca26"
            ],
            [
             1,
             "#f0f921"
            ]
           ],
           "sequentialminus": [
            [
             0,
             "#0d0887"
            ],
            [
             0.1111111111111111,
             "#46039f"
            ],
            [
             0.2222222222222222,
             "#7201a8"
            ],
            [
             0.3333333333333333,
             "#9c179e"
            ],
            [
             0.4444444444444444,
             "#bd3786"
            ],
            [
             0.5555555555555556,
             "#d8576b"
            ],
            [
             0.6666666666666666,
             "#ed7953"
            ],
            [
             0.7777777777777778,
             "#fb9f3a"
            ],
            [
             0.8888888888888888,
             "#fdca26"
            ],
            [
             1,
             "#f0f921"
            ]
           ]
          },
          "colorway": [
           "#636efa",
           "#EF553B",
           "#00cc96",
           "#ab63fa",
           "#FFA15A",
           "#19d3f3",
           "#FF6692",
           "#B6E880",
           "#FF97FF",
           "#FECB52"
          ],
          "font": {
           "color": "#2a3f5f"
          },
          "geo": {
           "bgcolor": "white",
           "lakecolor": "white",
           "landcolor": "#E5ECF6",
           "showlakes": true,
           "showland": true,
           "subunitcolor": "white"
          },
          "hoverlabel": {
           "align": "left"
          },
          "hovermode": "closest",
          "mapbox": {
           "style": "light"
          },
          "paper_bgcolor": "white",
          "plot_bgcolor": "#E5ECF6",
          "polar": {
           "angularaxis": {
            "gridcolor": "white",
            "linecolor": "white",
            "ticks": ""
           },
           "bgcolor": "#E5ECF6",
           "radialaxis": {
            "gridcolor": "white",
            "linecolor": "white",
            "ticks": ""
           }
          },
          "scene": {
           "xaxis": {
            "backgroundcolor": "#E5ECF6",
            "gridcolor": "white",
            "gridwidth": 2,
            "linecolor": "white",
            "showbackground": true,
            "ticks": "",
            "zerolinecolor": "white"
           },
           "yaxis": {
            "backgroundcolor": "#E5ECF6",
            "gridcolor": "white",
            "gridwidth": 2,
            "linecolor": "white",
            "showbackground": true,
            "ticks": "",
            "zerolinecolor": "white"
           },
           "zaxis": {
            "backgroundcolor": "#E5ECF6",
            "gridcolor": "white",
            "gridwidth": 2,
            "linecolor": "white",
            "showbackground": true,
            "ticks": "",
            "zerolinecolor": "white"
           }
          },
          "shapedefaults": {
           "line": {
            "color": "#2a3f5f"
           }
          },
          "ternary": {
           "aaxis": {
            "gridcolor": "white",
            "linecolor": "white",
            "ticks": ""
           },
           "baxis": {
            "gridcolor": "white",
            "linecolor": "white",
            "ticks": ""
           },
           "bgcolor": "#E5ECF6",
           "caxis": {
            "gridcolor": "white",
            "linecolor": "white",
            "ticks": ""
           }
          },
          "title": {
           "x": 0.05
          },
          "xaxis": {
           "automargin": true,
           "gridcolor": "white",
           "linecolor": "white",
           "ticks": "",
           "title": {
            "standoff": 15
           },
           "zerolinecolor": "white",
           "zerolinewidth": 2
          },
          "yaxis": {
           "automargin": true,
           "gridcolor": "white",
           "linecolor": "white",
           "ticks": "",
           "title": {
            "standoff": 15
           },
           "zerolinecolor": "white",
           "zerolinewidth": 2
          }
         }
        },
        "xaxis": {
         "anchor": "y",
         "domain": [
          0,
          1
         ],
         "title": {
          "text": "Number of titles"
         }
        },
        "yaxis": {
         "anchor": "x",
         "autorange": "reversed",
         "domain": [
          0,
          1
         ],
         "title": {
          "text": "Publisher"
         }
        }
       }
      },
      "text/html": [
       "<div>                            <div id=\"64763832-9722-4752-9494-c0189f8508fd\" class=\"plotly-graph-div\" style=\"height:4000px; width:100%;\"></div>            <script type=\"text/javascript\">                require([\"plotly\"], function(Plotly) {                    window.PLOTLYENV=window.PLOTLYENV || {};                                    if (document.getElementById(\"64763832-9722-4752-9494-c0189f8508fd\")) {                    Plotly.newPlot(                        \"64763832-9722-4752-9494-c0189f8508fd\",                        [{\"alignmentgroup\":\"True\",\"hovertemplate\":\"Number of titles=%{x}<br>Publisher=%{y}<extra></extra>\",\"legendgroup\":\"\",\"marker\":{\"color\":\"#636efa\",\"pattern\":{\"shape\":\"\"}},\"name\":\"\",\"offsetgroup\":\"\",\"orientation\":\"h\",\"showlegend\":false,\"textposition\":\"auto\",\"x\":[68,27,25,25,16,14,9,8,6,6,6,6,6,6,6,6,6,5,5,5,5,5,5,4,4,4,4,3,3,3,3,3,3,3,3,3,3,3,3,3,3,3,3,3,3,3,3,3,3,3,3,3],\"xaxis\":\"x\",\"y\":[\"Aa, Pieter van der (I)\",\"Ottens, Reinier (II)\",\"Schouten, Petrus\",\"Wilt, Cornelis\",\"Bos, Gerrit\",\"Scheltus, Jacobus (II)\",\"Claesz, Cornelis\",\"Compagnie, la\",\"Honkoop, Abraham (II)\",\"Honkoop, Jan\",\"Merkus, Henricus\",\"Arkstee, Johann Caspar\",\"Elzevier, Bonaventura\",\"Mourik, Bernardus\",\"Gosse junior, Pierre\",\"Cloppenburgh, Jan Evertsz (II)\",\"Meurs, Jacob van\",\"Schalekamp, Matthijs\",\"Paddenburg, Gijsbert Tieme van\",\"Besseling, Hermanus\",\"Bruyn, Martinus de\",\"Elzevier, Abraham (I)\",\"Hondt, Pieter de\",\"Scheltus, Paulus (I)\",\"Krap Az., Jan\",\"Leeuw, Jan de\",\"Dufour, Jean Edme\",\"Brie\\u0308t, Paul Etienne\",\"Herdingh, Leendert\",\"Blusse\\u0301, Abraham\",\"Groot Pz., Jan de\",\"Visch, Justus\",\"Leeuwestijn, Johannes Coenradus\",\"Blusse\\u0301, Pieter\",\"Crajenschot, Jacobus Adrianus\",\"Braam, Pieter van\",\"Vis, Dirk (II)\",\"Chatelain, Zacharias (II)\",\"Wild, Bartholomeus\",\"Vlam, Bartholomeus\",\"Bohn, Franc\\u0327ois\",\"Scheltus, Isaac (II)\",\"Vos, Pieter\",\"Uytwerf, Hermannus\",\"Klasen, Jan\",\"Injema, Meindert\",\"Allart, Johannes\",\"Gosse, Pierre\",\"Voys, Guillaume de\",\"Desbordes, Henri\",\"Uytwerf, Meyndert (I)\",\"Schneider, Jean Herman\"],\"yaxis\":\"y\",\"type\":\"bar\"}],                        {\"template\":{\"data\":{\"histogram2dcontour\":[{\"type\":\"histogram2dcontour\",\"colorbar\":{\"outlinewidth\":0,\"ticks\":\"\"},\"colorscale\":[[0.0,\"#0d0887\"],[0.1111111111111111,\"#46039f\"],[0.2222222222222222,\"#7201a8\"],[0.3333333333333333,\"#9c179e\"],[0.4444444444444444,\"#bd3786\"],[0.5555555555555556,\"#d8576b\"],[0.6666666666666666,\"#ed7953\"],[0.7777777777777778,\"#fb9f3a\"],[0.8888888888888888,\"#fdca26\"],[1.0,\"#f0f921\"]]}],\"choropleth\":[{\"type\":\"choropleth\",\"colorbar\":{\"outlinewidth\":0,\"ticks\":\"\"}}],\"histogram2d\":[{\"type\":\"histogram2d\",\"colorbar\":{\"outlinewidth\":0,\"ticks\":\"\"},\"colorscale\":[[0.0,\"#0d0887\"],[0.1111111111111111,\"#46039f\"],[0.2222222222222222,\"#7201a8\"],[0.3333333333333333,\"#9c179e\"],[0.4444444444444444,\"#bd3786\"],[0.5555555555555556,\"#d8576b\"],[0.6666666666666666,\"#ed7953\"],[0.7777777777777778,\"#fb9f3a\"],[0.8888888888888888,\"#fdca26\"],[1.0,\"#f0f921\"]]}],\"heatmap\":[{\"type\":\"heatmap\",\"colorbar\":{\"outlinewidth\":0,\"ticks\":\"\"},\"colorscale\":[[0.0,\"#0d0887\"],[0.1111111111111111,\"#46039f\"],[0.2222222222222222,\"#7201a8\"],[0.3333333333333333,\"#9c179e\"],[0.4444444444444444,\"#bd3786\"],[0.5555555555555556,\"#d8576b\"],[0.6666666666666666,\"#ed7953\"],[0.7777777777777778,\"#fb9f3a\"],[0.8888888888888888,\"#fdca26\"],[1.0,\"#f0f921\"]]}],\"heatmapgl\":[{\"type\":\"heatmapgl\",\"colorbar\":{\"outlinewidth\":0,\"ticks\":\"\"},\"colorscale\":[[0.0,\"#0d0887\"],[0.1111111111111111,\"#46039f\"],[0.2222222222222222,\"#7201a8\"],[0.3333333333333333,\"#9c179e\"],[0.4444444444444444,\"#bd3786\"],[0.5555555555555556,\"#d8576b\"],[0.6666666666666666,\"#ed7953\"],[0.7777777777777778,\"#fb9f3a\"],[0.8888888888888888,\"#fdca26\"],[1.0,\"#f0f921\"]]}],\"contourcarpet\":[{\"type\":\"contourcarpet\",\"colorbar\":{\"outlinewidth\":0,\"ticks\":\"\"}}],\"contour\":[{\"type\":\"contour\",\"colorbar\":{\"outlinewidth\":0,\"ticks\":\"\"},\"colorscale\":[[0.0,\"#0d0887\"],[0.1111111111111111,\"#46039f\"],[0.2222222222222222,\"#7201a8\"],[0.3333333333333333,\"#9c179e\"],[0.4444444444444444,\"#bd3786\"],[0.5555555555555556,\"#d8576b\"],[0.6666666666666666,\"#ed7953\"],[0.7777777777777778,\"#fb9f3a\"],[0.8888888888888888,\"#fdca26\"],[1.0,\"#f0f921\"]]}],\"surface\":[{\"type\":\"surface\",\"colorbar\":{\"outlinewidth\":0,\"ticks\":\"\"},\"colorscale\":[[0.0,\"#0d0887\"],[0.1111111111111111,\"#46039f\"],[0.2222222222222222,\"#7201a8\"],[0.3333333333333333,\"#9c179e\"],[0.4444444444444444,\"#bd3786\"],[0.5555555555555556,\"#d8576b\"],[0.6666666666666666,\"#ed7953\"],[0.7777777777777778,\"#fb9f3a\"],[0.8888888888888888,\"#fdca26\"],[1.0,\"#f0f921\"]]}],\"mesh3d\":[{\"type\":\"mesh3d\",\"colorbar\":{\"outlinewidth\":0,\"ticks\":\"\"}}],\"scatter\":[{\"fillpattern\":{\"fillmode\":\"overlay\",\"size\":10,\"solidity\":0.2},\"type\":\"scatter\"}],\"parcoords\":[{\"type\":\"parcoords\",\"line\":{\"colorbar\":{\"outlinewidth\":0,\"ticks\":\"\"}}}],\"scatterpolargl\":[{\"type\":\"scatterpolargl\",\"marker\":{\"colorbar\":{\"outlinewidth\":0,\"ticks\":\"\"}}}],\"bar\":[{\"error_x\":{\"color\":\"#2a3f5f\"},\"error_y\":{\"color\":\"#2a3f5f\"},\"marker\":{\"line\":{\"color\":\"#E5ECF6\",\"width\":0.5},\"pattern\":{\"fillmode\":\"overlay\",\"size\":10,\"solidity\":0.2}},\"type\":\"bar\"}],\"scattergeo\":[{\"type\":\"scattergeo\",\"marker\":{\"colorbar\":{\"outlinewidth\":0,\"ticks\":\"\"}}}],\"scatterpolar\":[{\"type\":\"scatterpolar\",\"marker\":{\"colorbar\":{\"outlinewidth\":0,\"ticks\":\"\"}}}],\"histogram\":[{\"marker\":{\"pattern\":{\"fillmode\":\"overlay\",\"size\":10,\"solidity\":0.2}},\"type\":\"histogram\"}],\"scattergl\":[{\"type\":\"scattergl\",\"marker\":{\"colorbar\":{\"outlinewidth\":0,\"ticks\":\"\"}}}],\"scatter3d\":[{\"type\":\"scatter3d\",\"line\":{\"colorbar\":{\"outlinewidth\":0,\"ticks\":\"\"}},\"marker\":{\"colorbar\":{\"outlinewidth\":0,\"ticks\":\"\"}}}],\"scattermapbox\":[{\"type\":\"scattermapbox\",\"marker\":{\"colorbar\":{\"outlinewidth\":0,\"ticks\":\"\"}}}],\"scatterternary\":[{\"type\":\"scatterternary\",\"marker\":{\"colorbar\":{\"outlinewidth\":0,\"ticks\":\"\"}}}],\"scattercarpet\":[{\"type\":\"scattercarpet\",\"marker\":{\"colorbar\":{\"outlinewidth\":0,\"ticks\":\"\"}}}],\"carpet\":[{\"aaxis\":{\"endlinecolor\":\"#2a3f5f\",\"gridcolor\":\"white\",\"linecolor\":\"white\",\"minorgridcolor\":\"white\",\"startlinecolor\":\"#2a3f5f\"},\"baxis\":{\"endlinecolor\":\"#2a3f5f\",\"gridcolor\":\"white\",\"linecolor\":\"white\",\"minorgridcolor\":\"white\",\"startlinecolor\":\"#2a3f5f\"},\"type\":\"carpet\"}],\"table\":[{\"cells\":{\"fill\":{\"color\":\"#EBF0F8\"},\"line\":{\"color\":\"white\"}},\"header\":{\"fill\":{\"color\":\"#C8D4E3\"},\"line\":{\"color\":\"white\"}},\"type\":\"table\"}],\"barpolar\":[{\"marker\":{\"line\":{\"color\":\"#E5ECF6\",\"width\":0.5},\"pattern\":{\"fillmode\":\"overlay\",\"size\":10,\"solidity\":0.2}},\"type\":\"barpolar\"}],\"pie\":[{\"automargin\":true,\"type\":\"pie\"}]},\"layout\":{\"autotypenumbers\":\"strict\",\"colorway\":[\"#636efa\",\"#EF553B\",\"#00cc96\",\"#ab63fa\",\"#FFA15A\",\"#19d3f3\",\"#FF6692\",\"#B6E880\",\"#FF97FF\",\"#FECB52\"],\"font\":{\"color\":\"#2a3f5f\"},\"hovermode\":\"closest\",\"hoverlabel\":{\"align\":\"left\"},\"paper_bgcolor\":\"white\",\"plot_bgcolor\":\"#E5ECF6\",\"polar\":{\"bgcolor\":\"#E5ECF6\",\"angularaxis\":{\"gridcolor\":\"white\",\"linecolor\":\"white\",\"ticks\":\"\"},\"radialaxis\":{\"gridcolor\":\"white\",\"linecolor\":\"white\",\"ticks\":\"\"}},\"ternary\":{\"bgcolor\":\"#E5ECF6\",\"aaxis\":{\"gridcolor\":\"white\",\"linecolor\":\"white\",\"ticks\":\"\"},\"baxis\":{\"gridcolor\":\"white\",\"linecolor\":\"white\",\"ticks\":\"\"},\"caxis\":{\"gridcolor\":\"white\",\"linecolor\":\"white\",\"ticks\":\"\"}},\"coloraxis\":{\"colorbar\":{\"outlinewidth\":0,\"ticks\":\"\"}},\"colorscale\":{\"sequential\":[[0.0,\"#0d0887\"],[0.1111111111111111,\"#46039f\"],[0.2222222222222222,\"#7201a8\"],[0.3333333333333333,\"#9c179e\"],[0.4444444444444444,\"#bd3786\"],[0.5555555555555556,\"#d8576b\"],[0.6666666666666666,\"#ed7953\"],[0.7777777777777778,\"#fb9f3a\"],[0.8888888888888888,\"#fdca26\"],[1.0,\"#f0f921\"]],\"sequentialminus\":[[0.0,\"#0d0887\"],[0.1111111111111111,\"#46039f\"],[0.2222222222222222,\"#7201a8\"],[0.3333333333333333,\"#9c179e\"],[0.4444444444444444,\"#bd3786\"],[0.5555555555555556,\"#d8576b\"],[0.6666666666666666,\"#ed7953\"],[0.7777777777777778,\"#fb9f3a\"],[0.8888888888888888,\"#fdca26\"],[1.0,\"#f0f921\"]],\"diverging\":[[0,\"#8e0152\"],[0.1,\"#c51b7d\"],[0.2,\"#de77ae\"],[0.3,\"#f1b6da\"],[0.4,\"#fde0ef\"],[0.5,\"#f7f7f7\"],[0.6,\"#e6f5d0\"],[0.7,\"#b8e186\"],[0.8,\"#7fbc41\"],[0.9,\"#4d9221\"],[1,\"#276419\"]]},\"xaxis\":{\"gridcolor\":\"white\",\"linecolor\":\"white\",\"ticks\":\"\",\"title\":{\"standoff\":15},\"zerolinecolor\":\"white\",\"automargin\":true,\"zerolinewidth\":2},\"yaxis\":{\"gridcolor\":\"white\",\"linecolor\":\"white\",\"ticks\":\"\",\"title\":{\"standoff\":15},\"zerolinecolor\":\"white\",\"automargin\":true,\"zerolinewidth\":2},\"scene\":{\"xaxis\":{\"backgroundcolor\":\"#E5ECF6\",\"gridcolor\":\"white\",\"linecolor\":\"white\",\"showbackground\":true,\"ticks\":\"\",\"zerolinecolor\":\"white\",\"gridwidth\":2},\"yaxis\":{\"backgroundcolor\":\"#E5ECF6\",\"gridcolor\":\"white\",\"linecolor\":\"white\",\"showbackground\":true,\"ticks\":\"\",\"zerolinecolor\":\"white\",\"gridwidth\":2},\"zaxis\":{\"backgroundcolor\":\"#E5ECF6\",\"gridcolor\":\"white\",\"linecolor\":\"white\",\"showbackground\":true,\"ticks\":\"\",\"zerolinecolor\":\"white\",\"gridwidth\":2}},\"shapedefaults\":{\"line\":{\"color\":\"#2a3f5f\"}},\"annotationdefaults\":{\"arrowcolor\":\"#2a3f5f\",\"arrowhead\":0,\"arrowwidth\":1},\"geo\":{\"bgcolor\":\"white\",\"landcolor\":\"#E5ECF6\",\"subunitcolor\":\"white\",\"showland\":true,\"showlakes\":true,\"lakecolor\":\"white\"},\"title\":{\"x\":0.05},\"mapbox\":{\"style\":\"light\"}}},\"xaxis\":{\"anchor\":\"y\",\"domain\":[0.0,1.0],\"title\":{\"text\":\"Number of titles\"}},\"yaxis\":{\"anchor\":\"x\",\"domain\":[0.0,1.0],\"title\":{\"text\":\"Publisher\"},\"autorange\":\"reversed\"},\"legend\":{\"tracegroupgap\":0},\"margin\":{\"t\":60},\"barmode\":\"relative\",\"height\":4000},                        {\"responsive\": true}                    ).then(function(){\n",
       "                            \n",
       "var gd = document.getElementById('64763832-9722-4752-9494-c0189f8508fd');\n",
       "var x = new MutationObserver(function (mutations, observer) {{\n",
       "        var display = window.getComputedStyle(gd).display;\n",
       "        if (!display || display === 'none') {{\n",
       "            console.log([gd, 'removed!']);\n",
       "            Plotly.purge(gd);\n",
       "            observer.disconnect();\n",
       "        }}\n",
       "}});\n",
       "\n",
       "// Listen for the removal of the full notebook cells\n",
       "var notebookContainer = gd.closest('#notebook-container');\n",
       "if (notebookContainer) {{\n",
       "    x.observe(notebookContainer, {childList: true});\n",
       "}}\n",
       "\n",
       "// Listen for the clearing of the current output cell\n",
       "var outputEl = gd.closest('.output');\n",
       "if (outputEl) {{\n",
       "    x.observe(outputEl, {childList: true});\n",
       "}}\n",
       "\n",
       "                        })                };                });            </script>        </div>"
      ]
     },
     "metadata": {},
     "output_type": "display_data"
    }
   ],
   "source": [
    "publishers = count_items('publisher.value','publ_name.value') \n",
    "        \n",
    "x_axis = []\n",
    "y_axis = []\n",
    "\n",
    "minimum_titles = 2\n",
    "\n",
    "for publisher,count in publishers.most_common():\n",
    "    if not(pd.isna(publisher)) and not(re.search(r's[.]n[.]',publisher)):\n",
    "        if count>minimum_titles:\n",
    "            x_axis.append(publisher)\n",
    "            y_axis.append(count)\n",
    "        \n",
    "x_label = 'Publisher'\n",
    "y_label = 'Number of titles'\n",
    "        \n",
    "df_barchart = pd.DataFrame({x_label:x_axis,y_label:y_axis})\n",
    "\n",
    "\n",
    "fig = px.bar(df_barchart , \n",
    "             y = x_label , \n",
    "             x= y_label,\n",
    "            height = 4000)\n",
    "\n",
    "fig['layout']['yaxis']['autorange'] = \"reversed\"\n",
    "fig.show()"
   ]
  },
  {
   "cell_type": "markdown",
   "id": "7d8fc21d",
   "metadata": {},
   "source": [
    "## Cities"
   ]
  },
  {
   "cell_type": "code",
   "execution_count": 24,
   "id": "f7b0f1ad",
   "metadata": {},
   "outputs": [
    {
     "data": {
      "application/vnd.plotly.v1+json": {
       "config": {
        "plotlyServerURL": "https://plot.ly"
       },
       "data": [
        {
         "alignmentgroup": "True",
         "hovertemplate": "Number of titles=%{x}<br>City=%{y}<extra></extra>",
         "legendgroup": "",
         "marker": {
          "color": "#636efa",
          "pattern": {
           "shape": ""
          }
         },
         "name": "",
         "offsetgroup": "",
         "orientation": "h",
         "showlegend": false,
         "textposition": "auto",
         "type": "bar",
         "x": [
          212,
          93,
          76,
          19,
          14,
          9,
          9,
          8,
          7,
          6,
          6,
          5,
          5,
          4,
          4,
          3,
          3,
          2,
          2,
          2,
          2,
          2,
          2,
          2,
          1,
          1,
          1,
          1,
          1,
          1,
          1,
          1,
          1,
          1,
          1,
          1,
          1
         ],
         "xaxis": "x",
         "y": [
          "Amsterdam",
          "Leiden",
          "'s-Gravenhage",
          "Utrecht",
          "Den Haag",
          "Rotterdam",
          "Delft",
          "Haarlem",
          "Dordrecht",
          "Middelburg",
          "Antwerpen",
          "Leeuwarden",
          "Maastricht",
          "Deventer",
          "Jakarta",
          "Hoorn",
          "Leipzig",
          "Alkmaar",
          "Schiedam",
          "Groningen",
          "Kampen",
          "Parijs",
          "Paris",
          "Harlingen",
          "Enkhuizen",
          "Brussel",
          "Nijmegen",
          "Glückstadt",
          "Liège",
          "Luik",
          "Reims",
          "Brugge",
          "Arnhem",
          "Batavia",
          "Heukelom",
          "Madrid",
          "Vlissingen"
         ],
         "yaxis": "y"
        }
       ],
       "layout": {
        "barmode": "relative",
        "height": 1500,
        "legend": {
         "tracegroupgap": 0
        },
        "margin": {
         "t": 60
        },
        "template": {
         "data": {
          "bar": [
           {
            "error_x": {
             "color": "#2a3f5f"
            },
            "error_y": {
             "color": "#2a3f5f"
            },
            "marker": {
             "line": {
              "color": "#E5ECF6",
              "width": 0.5
             },
             "pattern": {
              "fillmode": "overlay",
              "size": 10,
              "solidity": 0.2
             }
            },
            "type": "bar"
           }
          ],
          "barpolar": [
           {
            "marker": {
             "line": {
              "color": "#E5ECF6",
              "width": 0.5
             },
             "pattern": {
              "fillmode": "overlay",
              "size": 10,
              "solidity": 0.2
             }
            },
            "type": "barpolar"
           }
          ],
          "carpet": [
           {
            "aaxis": {
             "endlinecolor": "#2a3f5f",
             "gridcolor": "white",
             "linecolor": "white",
             "minorgridcolor": "white",
             "startlinecolor": "#2a3f5f"
            },
            "baxis": {
             "endlinecolor": "#2a3f5f",
             "gridcolor": "white",
             "linecolor": "white",
             "minorgridcolor": "white",
             "startlinecolor": "#2a3f5f"
            },
            "type": "carpet"
           }
          ],
          "choropleth": [
           {
            "colorbar": {
             "outlinewidth": 0,
             "ticks": ""
            },
            "type": "choropleth"
           }
          ],
          "contour": [
           {
            "colorbar": {
             "outlinewidth": 0,
             "ticks": ""
            },
            "colorscale": [
             [
              0,
              "#0d0887"
             ],
             [
              0.1111111111111111,
              "#46039f"
             ],
             [
              0.2222222222222222,
              "#7201a8"
             ],
             [
              0.3333333333333333,
              "#9c179e"
             ],
             [
              0.4444444444444444,
              "#bd3786"
             ],
             [
              0.5555555555555556,
              "#d8576b"
             ],
             [
              0.6666666666666666,
              "#ed7953"
             ],
             [
              0.7777777777777778,
              "#fb9f3a"
             ],
             [
              0.8888888888888888,
              "#fdca26"
             ],
             [
              1,
              "#f0f921"
             ]
            ],
            "type": "contour"
           }
          ],
          "contourcarpet": [
           {
            "colorbar": {
             "outlinewidth": 0,
             "ticks": ""
            },
            "type": "contourcarpet"
           }
          ],
          "heatmap": [
           {
            "colorbar": {
             "outlinewidth": 0,
             "ticks": ""
            },
            "colorscale": [
             [
              0,
              "#0d0887"
             ],
             [
              0.1111111111111111,
              "#46039f"
             ],
             [
              0.2222222222222222,
              "#7201a8"
             ],
             [
              0.3333333333333333,
              "#9c179e"
             ],
             [
              0.4444444444444444,
              "#bd3786"
             ],
             [
              0.5555555555555556,
              "#d8576b"
             ],
             [
              0.6666666666666666,
              "#ed7953"
             ],
             [
              0.7777777777777778,
              "#fb9f3a"
             ],
             [
              0.8888888888888888,
              "#fdca26"
             ],
             [
              1,
              "#f0f921"
             ]
            ],
            "type": "heatmap"
           }
          ],
          "heatmapgl": [
           {
            "colorbar": {
             "outlinewidth": 0,
             "ticks": ""
            },
            "colorscale": [
             [
              0,
              "#0d0887"
             ],
             [
              0.1111111111111111,
              "#46039f"
             ],
             [
              0.2222222222222222,
              "#7201a8"
             ],
             [
              0.3333333333333333,
              "#9c179e"
             ],
             [
              0.4444444444444444,
              "#bd3786"
             ],
             [
              0.5555555555555556,
              "#d8576b"
             ],
             [
              0.6666666666666666,
              "#ed7953"
             ],
             [
              0.7777777777777778,
              "#fb9f3a"
             ],
             [
              0.8888888888888888,
              "#fdca26"
             ],
             [
              1,
              "#f0f921"
             ]
            ],
            "type": "heatmapgl"
           }
          ],
          "histogram": [
           {
            "marker": {
             "pattern": {
              "fillmode": "overlay",
              "size": 10,
              "solidity": 0.2
             }
            },
            "type": "histogram"
           }
          ],
          "histogram2d": [
           {
            "colorbar": {
             "outlinewidth": 0,
             "ticks": ""
            },
            "colorscale": [
             [
              0,
              "#0d0887"
             ],
             [
              0.1111111111111111,
              "#46039f"
             ],
             [
              0.2222222222222222,
              "#7201a8"
             ],
             [
              0.3333333333333333,
              "#9c179e"
             ],
             [
              0.4444444444444444,
              "#bd3786"
             ],
             [
              0.5555555555555556,
              "#d8576b"
             ],
             [
              0.6666666666666666,
              "#ed7953"
             ],
             [
              0.7777777777777778,
              "#fb9f3a"
             ],
             [
              0.8888888888888888,
              "#fdca26"
             ],
             [
              1,
              "#f0f921"
             ]
            ],
            "type": "histogram2d"
           }
          ],
          "histogram2dcontour": [
           {
            "colorbar": {
             "outlinewidth": 0,
             "ticks": ""
            },
            "colorscale": [
             [
              0,
              "#0d0887"
             ],
             [
              0.1111111111111111,
              "#46039f"
             ],
             [
              0.2222222222222222,
              "#7201a8"
             ],
             [
              0.3333333333333333,
              "#9c179e"
             ],
             [
              0.4444444444444444,
              "#bd3786"
             ],
             [
              0.5555555555555556,
              "#d8576b"
             ],
             [
              0.6666666666666666,
              "#ed7953"
             ],
             [
              0.7777777777777778,
              "#fb9f3a"
             ],
             [
              0.8888888888888888,
              "#fdca26"
             ],
             [
              1,
              "#f0f921"
             ]
            ],
            "type": "histogram2dcontour"
           }
          ],
          "mesh3d": [
           {
            "colorbar": {
             "outlinewidth": 0,
             "ticks": ""
            },
            "type": "mesh3d"
           }
          ],
          "parcoords": [
           {
            "line": {
             "colorbar": {
              "outlinewidth": 0,
              "ticks": ""
             }
            },
            "type": "parcoords"
           }
          ],
          "pie": [
           {
            "automargin": true,
            "type": "pie"
           }
          ],
          "scatter": [
           {
            "fillpattern": {
             "fillmode": "overlay",
             "size": 10,
             "solidity": 0.2
            },
            "type": "scatter"
           }
          ],
          "scatter3d": [
           {
            "line": {
             "colorbar": {
              "outlinewidth": 0,
              "ticks": ""
             }
            },
            "marker": {
             "colorbar": {
              "outlinewidth": 0,
              "ticks": ""
             }
            },
            "type": "scatter3d"
           }
          ],
          "scattercarpet": [
           {
            "marker": {
             "colorbar": {
              "outlinewidth": 0,
              "ticks": ""
             }
            },
            "type": "scattercarpet"
           }
          ],
          "scattergeo": [
           {
            "marker": {
             "colorbar": {
              "outlinewidth": 0,
              "ticks": ""
             }
            },
            "type": "scattergeo"
           }
          ],
          "scattergl": [
           {
            "marker": {
             "colorbar": {
              "outlinewidth": 0,
              "ticks": ""
             }
            },
            "type": "scattergl"
           }
          ],
          "scattermapbox": [
           {
            "marker": {
             "colorbar": {
              "outlinewidth": 0,
              "ticks": ""
             }
            },
            "type": "scattermapbox"
           }
          ],
          "scatterpolar": [
           {
            "marker": {
             "colorbar": {
              "outlinewidth": 0,
              "ticks": ""
             }
            },
            "type": "scatterpolar"
           }
          ],
          "scatterpolargl": [
           {
            "marker": {
             "colorbar": {
              "outlinewidth": 0,
              "ticks": ""
             }
            },
            "type": "scatterpolargl"
           }
          ],
          "scatterternary": [
           {
            "marker": {
             "colorbar": {
              "outlinewidth": 0,
              "ticks": ""
             }
            },
            "type": "scatterternary"
           }
          ],
          "surface": [
           {
            "colorbar": {
             "outlinewidth": 0,
             "ticks": ""
            },
            "colorscale": [
             [
              0,
              "#0d0887"
             ],
             [
              0.1111111111111111,
              "#46039f"
             ],
             [
              0.2222222222222222,
              "#7201a8"
             ],
             [
              0.3333333333333333,
              "#9c179e"
             ],
             [
              0.4444444444444444,
              "#bd3786"
             ],
             [
              0.5555555555555556,
              "#d8576b"
             ],
             [
              0.6666666666666666,
              "#ed7953"
             ],
             [
              0.7777777777777778,
              "#fb9f3a"
             ],
             [
              0.8888888888888888,
              "#fdca26"
             ],
             [
              1,
              "#f0f921"
             ]
            ],
            "type": "surface"
           }
          ],
          "table": [
           {
            "cells": {
             "fill": {
              "color": "#EBF0F8"
             },
             "line": {
              "color": "white"
             }
            },
            "header": {
             "fill": {
              "color": "#C8D4E3"
             },
             "line": {
              "color": "white"
             }
            },
            "type": "table"
           }
          ]
         },
         "layout": {
          "annotationdefaults": {
           "arrowcolor": "#2a3f5f",
           "arrowhead": 0,
           "arrowwidth": 1
          },
          "autotypenumbers": "strict",
          "coloraxis": {
           "colorbar": {
            "outlinewidth": 0,
            "ticks": ""
           }
          },
          "colorscale": {
           "diverging": [
            [
             0,
             "#8e0152"
            ],
            [
             0.1,
             "#c51b7d"
            ],
            [
             0.2,
             "#de77ae"
            ],
            [
             0.3,
             "#f1b6da"
            ],
            [
             0.4,
             "#fde0ef"
            ],
            [
             0.5,
             "#f7f7f7"
            ],
            [
             0.6,
             "#e6f5d0"
            ],
            [
             0.7,
             "#b8e186"
            ],
            [
             0.8,
             "#7fbc41"
            ],
            [
             0.9,
             "#4d9221"
            ],
            [
             1,
             "#276419"
            ]
           ],
           "sequential": [
            [
             0,
             "#0d0887"
            ],
            [
             0.1111111111111111,
             "#46039f"
            ],
            [
             0.2222222222222222,
             "#7201a8"
            ],
            [
             0.3333333333333333,
             "#9c179e"
            ],
            [
             0.4444444444444444,
             "#bd3786"
            ],
            [
             0.5555555555555556,
             "#d8576b"
            ],
            [
             0.6666666666666666,
             "#ed7953"
            ],
            [
             0.7777777777777778,
             "#fb9f3a"
            ],
            [
             0.8888888888888888,
             "#fdca26"
            ],
            [
             1,
             "#f0f921"
            ]
           ],
           "sequentialminus": [
            [
             0,
             "#0d0887"
            ],
            [
             0.1111111111111111,
             "#46039f"
            ],
            [
             0.2222222222222222,
             "#7201a8"
            ],
            [
             0.3333333333333333,
             "#9c179e"
            ],
            [
             0.4444444444444444,
             "#bd3786"
            ],
            [
             0.5555555555555556,
             "#d8576b"
            ],
            [
             0.6666666666666666,
             "#ed7953"
            ],
            [
             0.7777777777777778,
             "#fb9f3a"
            ],
            [
             0.8888888888888888,
             "#fdca26"
            ],
            [
             1,
             "#f0f921"
            ]
           ]
          },
          "colorway": [
           "#636efa",
           "#EF553B",
           "#00cc96",
           "#ab63fa",
           "#FFA15A",
           "#19d3f3",
           "#FF6692",
           "#B6E880",
           "#FF97FF",
           "#FECB52"
          ],
          "font": {
           "color": "#2a3f5f"
          },
          "geo": {
           "bgcolor": "white",
           "lakecolor": "white",
           "landcolor": "#E5ECF6",
           "showlakes": true,
           "showland": true,
           "subunitcolor": "white"
          },
          "hoverlabel": {
           "align": "left"
          },
          "hovermode": "closest",
          "mapbox": {
           "style": "light"
          },
          "paper_bgcolor": "white",
          "plot_bgcolor": "#E5ECF6",
          "polar": {
           "angularaxis": {
            "gridcolor": "white",
            "linecolor": "white",
            "ticks": ""
           },
           "bgcolor": "#E5ECF6",
           "radialaxis": {
            "gridcolor": "white",
            "linecolor": "white",
            "ticks": ""
           }
          },
          "scene": {
           "xaxis": {
            "backgroundcolor": "#E5ECF6",
            "gridcolor": "white",
            "gridwidth": 2,
            "linecolor": "white",
            "showbackground": true,
            "ticks": "",
            "zerolinecolor": "white"
           },
           "yaxis": {
            "backgroundcolor": "#E5ECF6",
            "gridcolor": "white",
            "gridwidth": 2,
            "linecolor": "white",
            "showbackground": true,
            "ticks": "",
            "zerolinecolor": "white"
           },
           "zaxis": {
            "backgroundcolor": "#E5ECF6",
            "gridcolor": "white",
            "gridwidth": 2,
            "linecolor": "white",
            "showbackground": true,
            "ticks": "",
            "zerolinecolor": "white"
           }
          },
          "shapedefaults": {
           "line": {
            "color": "#2a3f5f"
           }
          },
          "ternary": {
           "aaxis": {
            "gridcolor": "white",
            "linecolor": "white",
            "ticks": ""
           },
           "baxis": {
            "gridcolor": "white",
            "linecolor": "white",
            "ticks": ""
           },
           "bgcolor": "#E5ECF6",
           "caxis": {
            "gridcolor": "white",
            "linecolor": "white",
            "ticks": ""
           }
          },
          "title": {
           "x": 0.05
          },
          "xaxis": {
           "automargin": true,
           "gridcolor": "white",
           "linecolor": "white",
           "ticks": "",
           "title": {
            "standoff": 15
           },
           "zerolinecolor": "white",
           "zerolinewidth": 2
          },
          "yaxis": {
           "automargin": true,
           "gridcolor": "white",
           "linecolor": "white",
           "ticks": "",
           "title": {
            "standoff": 15
           },
           "zerolinecolor": "white",
           "zerolinewidth": 2
          }
         }
        },
        "xaxis": {
         "anchor": "y",
         "domain": [
          0,
          1
         ],
         "title": {
          "text": "Number of titles"
         }
        },
        "yaxis": {
         "anchor": "x",
         "autorange": "reversed",
         "domain": [
          0,
          1
         ],
         "title": {
          "text": "City"
         }
        }
       }
      },
      "text/html": [
       "<div>                            <div id=\"19e5f846-a1f3-4ae5-92aa-89e2160833da\" class=\"plotly-graph-div\" style=\"height:1500px; width:100%;\"></div>            <script type=\"text/javascript\">                require([\"plotly\"], function(Plotly) {                    window.PLOTLYENV=window.PLOTLYENV || {};                                    if (document.getElementById(\"19e5f846-a1f3-4ae5-92aa-89e2160833da\")) {                    Plotly.newPlot(                        \"19e5f846-a1f3-4ae5-92aa-89e2160833da\",                        [{\"alignmentgroup\":\"True\",\"hovertemplate\":\"Number of titles=%{x}<br>City=%{y}<extra></extra>\",\"legendgroup\":\"\",\"marker\":{\"color\":\"#636efa\",\"pattern\":{\"shape\":\"\"}},\"name\":\"\",\"offsetgroup\":\"\",\"orientation\":\"h\",\"showlegend\":false,\"textposition\":\"auto\",\"x\":[212,93,76,19,14,9,9,8,7,6,6,5,5,4,4,3,3,2,2,2,2,2,2,2,1,1,1,1,1,1,1,1,1,1,1,1,1],\"xaxis\":\"x\",\"y\":[\"Amsterdam\",\"Leiden\",\"'s-Gravenhage\",\"Utrecht\",\"Den Haag\",\"Rotterdam\",\"Delft\",\"Haarlem\",\"Dordrecht\",\"Middelburg\",\"Antwerpen\",\"Leeuwarden\",\"Maastricht\",\"Deventer\",\"Jakarta\",\"Hoorn\",\"Leipzig\",\"Alkmaar\",\"Schiedam\",\"Groningen\",\"Kampen\",\"Parijs\",\"Paris\",\"Harlingen\",\"Enkhuizen\",\"Brussel\",\"Nijmegen\",\"Glu\\u0308ckstadt\",\"Lie\\u0300ge\",\"Luik\",\"Reims\",\"Brugge\",\"Arnhem\",\"Batavia\",\"Heukelom\",\"Madrid\",\"Vlissingen\"],\"yaxis\":\"y\",\"type\":\"bar\"}],                        {\"template\":{\"data\":{\"histogram2dcontour\":[{\"type\":\"histogram2dcontour\",\"colorbar\":{\"outlinewidth\":0,\"ticks\":\"\"},\"colorscale\":[[0.0,\"#0d0887\"],[0.1111111111111111,\"#46039f\"],[0.2222222222222222,\"#7201a8\"],[0.3333333333333333,\"#9c179e\"],[0.4444444444444444,\"#bd3786\"],[0.5555555555555556,\"#d8576b\"],[0.6666666666666666,\"#ed7953\"],[0.7777777777777778,\"#fb9f3a\"],[0.8888888888888888,\"#fdca26\"],[1.0,\"#f0f921\"]]}],\"choropleth\":[{\"type\":\"choropleth\",\"colorbar\":{\"outlinewidth\":0,\"ticks\":\"\"}}],\"histogram2d\":[{\"type\":\"histogram2d\",\"colorbar\":{\"outlinewidth\":0,\"ticks\":\"\"},\"colorscale\":[[0.0,\"#0d0887\"],[0.1111111111111111,\"#46039f\"],[0.2222222222222222,\"#7201a8\"],[0.3333333333333333,\"#9c179e\"],[0.4444444444444444,\"#bd3786\"],[0.5555555555555556,\"#d8576b\"],[0.6666666666666666,\"#ed7953\"],[0.7777777777777778,\"#fb9f3a\"],[0.8888888888888888,\"#fdca26\"],[1.0,\"#f0f921\"]]}],\"heatmap\":[{\"type\":\"heatmap\",\"colorbar\":{\"outlinewidth\":0,\"ticks\":\"\"},\"colorscale\":[[0.0,\"#0d0887\"],[0.1111111111111111,\"#46039f\"],[0.2222222222222222,\"#7201a8\"],[0.3333333333333333,\"#9c179e\"],[0.4444444444444444,\"#bd3786\"],[0.5555555555555556,\"#d8576b\"],[0.6666666666666666,\"#ed7953\"],[0.7777777777777778,\"#fb9f3a\"],[0.8888888888888888,\"#fdca26\"],[1.0,\"#f0f921\"]]}],\"heatmapgl\":[{\"type\":\"heatmapgl\",\"colorbar\":{\"outlinewidth\":0,\"ticks\":\"\"},\"colorscale\":[[0.0,\"#0d0887\"],[0.1111111111111111,\"#46039f\"],[0.2222222222222222,\"#7201a8\"],[0.3333333333333333,\"#9c179e\"],[0.4444444444444444,\"#bd3786\"],[0.5555555555555556,\"#d8576b\"],[0.6666666666666666,\"#ed7953\"],[0.7777777777777778,\"#fb9f3a\"],[0.8888888888888888,\"#fdca26\"],[1.0,\"#f0f921\"]]}],\"contourcarpet\":[{\"type\":\"contourcarpet\",\"colorbar\":{\"outlinewidth\":0,\"ticks\":\"\"}}],\"contour\":[{\"type\":\"contour\",\"colorbar\":{\"outlinewidth\":0,\"ticks\":\"\"},\"colorscale\":[[0.0,\"#0d0887\"],[0.1111111111111111,\"#46039f\"],[0.2222222222222222,\"#7201a8\"],[0.3333333333333333,\"#9c179e\"],[0.4444444444444444,\"#bd3786\"],[0.5555555555555556,\"#d8576b\"],[0.6666666666666666,\"#ed7953\"],[0.7777777777777778,\"#fb9f3a\"],[0.8888888888888888,\"#fdca26\"],[1.0,\"#f0f921\"]]}],\"surface\":[{\"type\":\"surface\",\"colorbar\":{\"outlinewidth\":0,\"ticks\":\"\"},\"colorscale\":[[0.0,\"#0d0887\"],[0.1111111111111111,\"#46039f\"],[0.2222222222222222,\"#7201a8\"],[0.3333333333333333,\"#9c179e\"],[0.4444444444444444,\"#bd3786\"],[0.5555555555555556,\"#d8576b\"],[0.6666666666666666,\"#ed7953\"],[0.7777777777777778,\"#fb9f3a\"],[0.8888888888888888,\"#fdca26\"],[1.0,\"#f0f921\"]]}],\"mesh3d\":[{\"type\":\"mesh3d\",\"colorbar\":{\"outlinewidth\":0,\"ticks\":\"\"}}],\"scatter\":[{\"fillpattern\":{\"fillmode\":\"overlay\",\"size\":10,\"solidity\":0.2},\"type\":\"scatter\"}],\"parcoords\":[{\"type\":\"parcoords\",\"line\":{\"colorbar\":{\"outlinewidth\":0,\"ticks\":\"\"}}}],\"scatterpolargl\":[{\"type\":\"scatterpolargl\",\"marker\":{\"colorbar\":{\"outlinewidth\":0,\"ticks\":\"\"}}}],\"bar\":[{\"error_x\":{\"color\":\"#2a3f5f\"},\"error_y\":{\"color\":\"#2a3f5f\"},\"marker\":{\"line\":{\"color\":\"#E5ECF6\",\"width\":0.5},\"pattern\":{\"fillmode\":\"overlay\",\"size\":10,\"solidity\":0.2}},\"type\":\"bar\"}],\"scattergeo\":[{\"type\":\"scattergeo\",\"marker\":{\"colorbar\":{\"outlinewidth\":0,\"ticks\":\"\"}}}],\"scatterpolar\":[{\"type\":\"scatterpolar\",\"marker\":{\"colorbar\":{\"outlinewidth\":0,\"ticks\":\"\"}}}],\"histogram\":[{\"marker\":{\"pattern\":{\"fillmode\":\"overlay\",\"size\":10,\"solidity\":0.2}},\"type\":\"histogram\"}],\"scattergl\":[{\"type\":\"scattergl\",\"marker\":{\"colorbar\":{\"outlinewidth\":0,\"ticks\":\"\"}}}],\"scatter3d\":[{\"type\":\"scatter3d\",\"line\":{\"colorbar\":{\"outlinewidth\":0,\"ticks\":\"\"}},\"marker\":{\"colorbar\":{\"outlinewidth\":0,\"ticks\":\"\"}}}],\"scattermapbox\":[{\"type\":\"scattermapbox\",\"marker\":{\"colorbar\":{\"outlinewidth\":0,\"ticks\":\"\"}}}],\"scatterternary\":[{\"type\":\"scatterternary\",\"marker\":{\"colorbar\":{\"outlinewidth\":0,\"ticks\":\"\"}}}],\"scattercarpet\":[{\"type\":\"scattercarpet\",\"marker\":{\"colorbar\":{\"outlinewidth\":0,\"ticks\":\"\"}}}],\"carpet\":[{\"aaxis\":{\"endlinecolor\":\"#2a3f5f\",\"gridcolor\":\"white\",\"linecolor\":\"white\",\"minorgridcolor\":\"white\",\"startlinecolor\":\"#2a3f5f\"},\"baxis\":{\"endlinecolor\":\"#2a3f5f\",\"gridcolor\":\"white\",\"linecolor\":\"white\",\"minorgridcolor\":\"white\",\"startlinecolor\":\"#2a3f5f\"},\"type\":\"carpet\"}],\"table\":[{\"cells\":{\"fill\":{\"color\":\"#EBF0F8\"},\"line\":{\"color\":\"white\"}},\"header\":{\"fill\":{\"color\":\"#C8D4E3\"},\"line\":{\"color\":\"white\"}},\"type\":\"table\"}],\"barpolar\":[{\"marker\":{\"line\":{\"color\":\"#E5ECF6\",\"width\":0.5},\"pattern\":{\"fillmode\":\"overlay\",\"size\":10,\"solidity\":0.2}},\"type\":\"barpolar\"}],\"pie\":[{\"automargin\":true,\"type\":\"pie\"}]},\"layout\":{\"autotypenumbers\":\"strict\",\"colorway\":[\"#636efa\",\"#EF553B\",\"#00cc96\",\"#ab63fa\",\"#FFA15A\",\"#19d3f3\",\"#FF6692\",\"#B6E880\",\"#FF97FF\",\"#FECB52\"],\"font\":{\"color\":\"#2a3f5f\"},\"hovermode\":\"closest\",\"hoverlabel\":{\"align\":\"left\"},\"paper_bgcolor\":\"white\",\"plot_bgcolor\":\"#E5ECF6\",\"polar\":{\"bgcolor\":\"#E5ECF6\",\"angularaxis\":{\"gridcolor\":\"white\",\"linecolor\":\"white\",\"ticks\":\"\"},\"radialaxis\":{\"gridcolor\":\"white\",\"linecolor\":\"white\",\"ticks\":\"\"}},\"ternary\":{\"bgcolor\":\"#E5ECF6\",\"aaxis\":{\"gridcolor\":\"white\",\"linecolor\":\"white\",\"ticks\":\"\"},\"baxis\":{\"gridcolor\":\"white\",\"linecolor\":\"white\",\"ticks\":\"\"},\"caxis\":{\"gridcolor\":\"white\",\"linecolor\":\"white\",\"ticks\":\"\"}},\"coloraxis\":{\"colorbar\":{\"outlinewidth\":0,\"ticks\":\"\"}},\"colorscale\":{\"sequential\":[[0.0,\"#0d0887\"],[0.1111111111111111,\"#46039f\"],[0.2222222222222222,\"#7201a8\"],[0.3333333333333333,\"#9c179e\"],[0.4444444444444444,\"#bd3786\"],[0.5555555555555556,\"#d8576b\"],[0.6666666666666666,\"#ed7953\"],[0.7777777777777778,\"#fb9f3a\"],[0.8888888888888888,\"#fdca26\"],[1.0,\"#f0f921\"]],\"sequentialminus\":[[0.0,\"#0d0887\"],[0.1111111111111111,\"#46039f\"],[0.2222222222222222,\"#7201a8\"],[0.3333333333333333,\"#9c179e\"],[0.4444444444444444,\"#bd3786\"],[0.5555555555555556,\"#d8576b\"],[0.6666666666666666,\"#ed7953\"],[0.7777777777777778,\"#fb9f3a\"],[0.8888888888888888,\"#fdca26\"],[1.0,\"#f0f921\"]],\"diverging\":[[0,\"#8e0152\"],[0.1,\"#c51b7d\"],[0.2,\"#de77ae\"],[0.3,\"#f1b6da\"],[0.4,\"#fde0ef\"],[0.5,\"#f7f7f7\"],[0.6,\"#e6f5d0\"],[0.7,\"#b8e186\"],[0.8,\"#7fbc41\"],[0.9,\"#4d9221\"],[1,\"#276419\"]]},\"xaxis\":{\"gridcolor\":\"white\",\"linecolor\":\"white\",\"ticks\":\"\",\"title\":{\"standoff\":15},\"zerolinecolor\":\"white\",\"automargin\":true,\"zerolinewidth\":2},\"yaxis\":{\"gridcolor\":\"white\",\"linecolor\":\"white\",\"ticks\":\"\",\"title\":{\"standoff\":15},\"zerolinecolor\":\"white\",\"automargin\":true,\"zerolinewidth\":2},\"scene\":{\"xaxis\":{\"backgroundcolor\":\"#E5ECF6\",\"gridcolor\":\"white\",\"linecolor\":\"white\",\"showbackground\":true,\"ticks\":\"\",\"zerolinecolor\":\"white\",\"gridwidth\":2},\"yaxis\":{\"backgroundcolor\":\"#E5ECF6\",\"gridcolor\":\"white\",\"linecolor\":\"white\",\"showbackground\":true,\"ticks\":\"\",\"zerolinecolor\":\"white\",\"gridwidth\":2},\"zaxis\":{\"backgroundcolor\":\"#E5ECF6\",\"gridcolor\":\"white\",\"linecolor\":\"white\",\"showbackground\":true,\"ticks\":\"\",\"zerolinecolor\":\"white\",\"gridwidth\":2}},\"shapedefaults\":{\"line\":{\"color\":\"#2a3f5f\"}},\"annotationdefaults\":{\"arrowcolor\":\"#2a3f5f\",\"arrowhead\":0,\"arrowwidth\":1},\"geo\":{\"bgcolor\":\"white\",\"landcolor\":\"#E5ECF6\",\"subunitcolor\":\"white\",\"showland\":true,\"showlakes\":true,\"lakecolor\":\"white\"},\"title\":{\"x\":0.05},\"mapbox\":{\"style\":\"light\"}}},\"xaxis\":{\"anchor\":\"y\",\"domain\":[0.0,1.0],\"title\":{\"text\":\"Number of titles\"}},\"yaxis\":{\"anchor\":\"x\",\"domain\":[0.0,1.0],\"title\":{\"text\":\"City\"},\"autorange\":\"reversed\"},\"legend\":{\"tracegroupgap\":0},\"margin\":{\"t\":60},\"barmode\":\"relative\",\"height\":1500},                        {\"responsive\": true}                    ).then(function(){\n",
       "                            \n",
       "var gd = document.getElementById('19e5f846-a1f3-4ae5-92aa-89e2160833da');\n",
       "var x = new MutationObserver(function (mutations, observer) {{\n",
       "        var display = window.getComputedStyle(gd).display;\n",
       "        if (!display || display === 'none') {{\n",
       "            console.log([gd, 'removed!']);\n",
       "            Plotly.purge(gd);\n",
       "            observer.disconnect();\n",
       "        }}\n",
       "}});\n",
       "\n",
       "// Listen for the removal of the full notebook cells\n",
       "var notebookContainer = gd.closest('#notebook-container');\n",
       "if (notebookContainer) {{\n",
       "    x.observe(notebookContainer, {childList: true});\n",
       "}}\n",
       "\n",
       "// Listen for the clearing of the current output cell\n",
       "var outputEl = gd.closest('.output');\n",
       "if (outputEl) {{\n",
       "    x.observe(outputEl, {childList: true});\n",
       "}}\n",
       "\n",
       "                        })                };                });            </script>        </div>"
      ]
     },
     "metadata": {},
     "output_type": "display_data"
    }
   ],
   "source": [
    "cities = count_items('place.value','place.value')   \n",
    "        \n",
    "x_axis = []\n",
    "y_axis = []\n",
    "\n",
    "max_characters = 30\n",
    "\n",
    "for city,count in cities.most_common():\n",
    "    if not(pd.isna(city)):\n",
    "        if len(city)>max_characters:\n",
    "            city = city[:max_characters] + ' ...'\n",
    "        x_axis.append(city)\n",
    "        y_axis.append(count)\n",
    "        \n",
    "x_label = 'City'\n",
    "y_label = 'Number of titles'\n",
    "        \n",
    "df_barchart = pd.DataFrame({x_label:x_axis,y_label:y_axis})\n",
    "\n",
    "\n",
    "fig = px.bar(df_barchart , \n",
    "             y = x_label , \n",
    "             x = y_label,\n",
    "            height = 1500)\n",
    "\n",
    "fig['layout']['yaxis']['autorange'] = \"reversed\"\n",
    "fig.show()"
   ]
  },
  {
   "cell_type": "markdown",
   "id": "d8bd22e8",
   "metadata": {},
   "source": [
    "## Social Network Analysis"
   ]
  },
  {
   "cell_type": "code",
   "execution_count": 25,
   "id": "64c042c2",
   "metadata": {},
   "outputs": [],
   "source": [
    "query = '''\n",
    "\n",
    "PREFIX xsd: <http://www.w3.org/2001/XMLSchema#>\n",
    "PREFIX schema: <http://schema.org/>\n",
    "PREFIX kb: <http://data.bibliotheken.nl/def#>\n",
    "PREFIX rdf: <http://www.w3.org/1999/02/22-rdf-syntax-ns#>\n",
    "PREFIX rdfs: <http://www.w3.org/2000/01/rdf-schema#>\n",
    "PREFIX skos: <http://www.w3.org/2004/02/skos/core#>\n",
    "\n",
    "SELECT * {\n",
    "\n",
    "?book schema:mainEntityOfPage ?mainEntity .\n",
    "?mainEntity schema:isPartOf <http://data.bibliotheken.nl/id/dataset/stcn>  . \n",
    "\n",
    "?book schema:about <http://data.bibliotheken.nl/id/thes/p15544669X> .\n",
    "\n",
    "?book schema:publication ?publ .\n",
    "\n",
    "OPTIONAL {\n",
    "?publ schema:publishedBy ?publisher . \n",
    "?publisher schema:name ?publ_name .\n",
    "}\n",
    "\n",
    "OPTIONAL {\n",
    "?book schema:author ?author_node . \n",
    "?author_node schema:author ?author_info .\n",
    "?author_info  rdfs:label ?author_name . }\n",
    "\n",
    "}\n",
    "\n",
    "'''\n",
    "df = run_query(query)"
   ]
  },
  {
   "cell_type": "code",
   "execution_count": 26,
   "id": "932800c6",
   "metadata": {},
   "outputs": [],
   "source": [
    "unique_ids = df['book.value'].unique().tolist()\n",
    "edges = []\n",
    "\n",
    "names = dict()\n",
    "for i,row in df.iterrows():\n",
    "    publ_id = row['publisher.value']\n",
    "    if not(pd.isna(publ_id)):\n",
    "        publ_id = os.path.basename(publ_id)\n",
    "        publ_name = row['publ_name.value']\n",
    "        publ_name = re.sub(r',','',publ_name)\n",
    "        names[publ_id]=(publ_name,'Publisher')\n",
    "    author_id = row['author_info.value']\n",
    "    if not(pd.isna(author_id)):\n",
    "        author_id = os.path.basename(author_id)\n",
    "        author_name = row['author_name.value']\n",
    "        author_name = re.sub(r',','',author_name)\n",
    "        names[author_id]=(author_name,'Author')\n",
    "    \n",
    "for book in unique_ids:\n",
    "    book_df = df[ df['book.value'] == book ]\n",
    "    book_publishers = book_df['publisher.value'].unique().tolist()\n",
    "    book_authors = book_df['author_info.value'].unique().tolist()\n",
    "\n",
    "    for publisher in book_publishers:\n",
    "        for author in book_authors:\n",
    "            if not(pd.isna(publisher)) and not(pd.isna(author)):\n",
    "                edges.append( (os.path.basename(publisher),os.path.basename(author)))\n",
    "\n",
    "out = open(\"nodes.csv\",'w',encoding='utf-8')\n",
    "out.write('Id,Label,Type\\n')\n",
    "for name in names:\n",
    "    out.write(f'{name},\"{names[name][0]}\",\"{names[name][1]}\"\\n')\n",
    "out.close()\n",
    "\n",
    "out = open(\"edges.csv\",'w',encoding='utf-8')\n",
    "out.write('Source,Target,Type\\n')\n",
    "for edge in edges:\n",
    "    if not(pd.isna(edge[0])) and not(pd.isna(edge[1])): \n",
    "        out.write(f'{edge[0]},{edge[1]},\"Undirected\"\\n')\n",
    "out.close()"
   ]
  }
 ],
 "metadata": {
  "kernelspec": {
   "display_name": "Python 3 (ipykernel)",
   "language": "python",
   "name": "python3"
  },
  "language_info": {
   "codemirror_mode": {
    "name": "ipython",
    "version": 3
   },
   "file_extension": ".py",
   "mimetype": "text/x-python",
   "name": "python",
   "nbconvert_exporter": "python",
   "pygments_lexer": "ipython3",
   "version": "3.7.9"
  }
 },
 "nbformat": 4,
 "nbformat_minor": 5
}
