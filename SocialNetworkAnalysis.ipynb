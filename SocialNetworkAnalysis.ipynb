{
 "cells": [
  {
   "cell_type": "markdown",
   "id": "9c8d6fa5",
   "metadata": {},
   "source": [
    "# Social Network Analysis"
   ]
  },
  {
   "cell_type": "code",
   "execution_count": 1,
   "id": "4f435a69",
   "metadata": {},
   "outputs": [
    {
     "name": "stdout",
     "output_type": "stream",
     "text": [
      "Requirement already satisfied: pyvis in /Users/verhaarpaf/Library/Python/3.12/lib/python/site-packages (0.3.2)\n",
      "Requirement already satisfied: ipython>=5.3.0 in /Users/verhaarpaf/Library/Python/3.12/lib/python/site-packages (from pyvis) (9.0.2)\n",
      "Requirement already satisfied: jinja2>=2.9.6 in /Library/Frameworks/Python.framework/Versions/3.12/lib/python3.12/site-packages (from pyvis) (3.1.4)\n",
      "Requirement already satisfied: jsonpickle>=1.4.1 in /Users/verhaarpaf/Library/Python/3.12/lib/python/site-packages (from pyvis) (4.0.2)\n",
      "Requirement already satisfied: networkx>=1.11 in /Library/Frameworks/Python.framework/Versions/3.12/lib/python3.12/site-packages (from pyvis) (3.3)\n",
      "Requirement already satisfied: decorator in /Users/verhaarpaf/Library/Python/3.12/lib/python/site-packages (from ipython>=5.3.0->pyvis) (5.2.1)\n",
      "Requirement already satisfied: ipython-pygments-lexers in /Users/verhaarpaf/Library/Python/3.12/lib/python/site-packages (from ipython>=5.3.0->pyvis) (1.1.1)\n",
      "Requirement already satisfied: jedi>=0.16 in /Users/verhaarpaf/Library/Python/3.12/lib/python/site-packages (from ipython>=5.3.0->pyvis) (0.19.2)\n",
      "Requirement already satisfied: matplotlib-inline in /Users/verhaarpaf/Library/Python/3.12/lib/python/site-packages (from ipython>=5.3.0->pyvis) (0.1.7)\n",
      "Requirement already satisfied: pexpect>4.3 in /Users/verhaarpaf/Library/Python/3.12/lib/python/site-packages (from ipython>=5.3.0->pyvis) (4.9.0)\n",
      "Requirement already satisfied: prompt_toolkit<3.1.0,>=3.0.41 in /Users/verhaarpaf/Library/Python/3.12/lib/python/site-packages (from ipython>=5.3.0->pyvis) (3.0.50)\n",
      "Requirement already satisfied: pygments>=2.4.0 in /Library/Frameworks/Python.framework/Versions/3.12/lib/python3.12/site-packages (from ipython>=5.3.0->pyvis) (2.18.0)\n",
      "Requirement already satisfied: stack_data in /Users/verhaarpaf/Library/Python/3.12/lib/python/site-packages (from ipython>=5.3.0->pyvis) (0.6.3)\n",
      "Requirement already satisfied: traitlets>=5.13.0 in /Users/verhaarpaf/Library/Python/3.12/lib/python/site-packages (from ipython>=5.3.0->pyvis) (5.14.3)\n",
      "Requirement already satisfied: MarkupSafe>=2.0 in /Library/Frameworks/Python.framework/Versions/3.12/lib/python3.12/site-packages (from jinja2>=2.9.6->pyvis) (3.0.2)\n",
      "Requirement already satisfied: parso<0.9.0,>=0.8.4 in /Users/verhaarpaf/Library/Python/3.12/lib/python/site-packages (from jedi>=0.16->ipython>=5.3.0->pyvis) (0.8.4)\n",
      "Requirement already satisfied: ptyprocess>=0.5 in /Users/verhaarpaf/Library/Python/3.12/lib/python/site-packages (from pexpect>4.3->ipython>=5.3.0->pyvis) (0.7.0)\n",
      "Requirement already satisfied: wcwidth in /Users/verhaarpaf/Library/Python/3.12/lib/python/site-packages (from prompt_toolkit<3.1.0,>=3.0.41->ipython>=5.3.0->pyvis) (0.2.13)\n",
      "Requirement already satisfied: executing>=1.2.0 in /Users/verhaarpaf/Library/Python/3.12/lib/python/site-packages (from stack_data->ipython>=5.3.0->pyvis) (2.2.0)\n",
      "Requirement already satisfied: asttokens>=2.1.0 in /Users/verhaarpaf/Library/Python/3.12/lib/python/site-packages (from stack_data->ipython>=5.3.0->pyvis) (3.0.0)\n",
      "Requirement already satisfied: pure-eval in /Users/verhaarpaf/Library/Python/3.12/lib/python/site-packages (from stack_data->ipython>=5.3.0->pyvis) (0.2.3)\n",
      "\n",
      "\u001b[1m[\u001b[0m\u001b[34;49mnotice\u001b[0m\u001b[1;39;49m]\u001b[0m\u001b[39;49m A new release of pip is available: \u001b[0m\u001b[31;49m24.2\u001b[0m\u001b[39;49m -> \u001b[0m\u001b[32;49m25.0.1\u001b[0m\n",
      "\u001b[1m[\u001b[0m\u001b[34;49mnotice\u001b[0m\u001b[1;39;49m]\u001b[0m\u001b[39;49m To update, run: \u001b[0m\u001b[32;49mpip install --upgrade pip\u001b[0m\n",
      "Requirement already satisfied: networkx in /Library/Frameworks/Python.framework/Versions/3.12/lib/python3.12/site-packages (3.3)\n",
      "\n",
      "\u001b[1m[\u001b[0m\u001b[34;49mnotice\u001b[0m\u001b[1;39;49m]\u001b[0m\u001b[39;49m A new release of pip is available: \u001b[0m\u001b[31;49m24.2\u001b[0m\u001b[39;49m -> \u001b[0m\u001b[32;49m25.0.1\u001b[0m\n",
      "\u001b[1m[\u001b[0m\u001b[34;49mnotice\u001b[0m\u001b[1;39;49m]\u001b[0m\u001b[39;49m To update, run: \u001b[0m\u001b[32;49mpip install --upgrade pip\u001b[0m\n"
     ]
    }
   ],
   "source": [
    "!pip install pyvis\n",
    "!pip install networkx"
   ]
  },
  {
   "cell_type": "code",
   "execution_count": 2,
   "id": "50df7433",
   "metadata": {},
   "outputs": [],
   "source": [
    "import os\n",
    "import re\n",
    "from pyvis.network import Network\n",
    "from IPython.core.display import display, HTML\n",
    "import networkx as nx\n",
    "import pandas as pd\n",
    "\n",
    "def rescale(val, in_min, in_max, out_min, out_max):\n",
    "    return out_min + (val - in_min) * ((out_max - out_min) / (in_max - in_min))"
   ]
  },
  {
   "cell_type": "code",
   "execution_count": 3,
   "id": "0d73f0e1",
   "metadata": {},
   "outputs": [],
   "source": [
    "nodes_df = pd.read_csv(f'nodes.csv' )\n",
    "edges_df = pd.read_csv(f'edges.csv' )\n",
    "edges_values = edges_df.groupby(['Source','Target'])['Source'].count().to_dict()"
   ]
  },
  {
   "cell_type": "markdown",
   "id": "0ca8579c",
   "metadata": {},
   "source": [
    "## Settings"
   ]
  },
  {
   "cell_type": "code",
   "execution_count": 4,
   "id": "f3d264f9",
   "metadata": {},
   "outputs": [],
   "source": [
    "color_node_type1 = '#EE7733'\n",
    "color_node_type2 = '#007788' \n",
    "background_color = '#dce5f2'\n",
    "\n",
    "node_size_based_on = 'degree'\n",
    "font_size = 50\n",
    "\n",
    "min_node_size = 30 \n",
    "max_node_size = 200\n",
    "\n",
    "## Choose from: 'repulsion', 'barnes_hut', 'force_atlas'\n",
    "visualisation_alogorithm = 'force_atlas'\n"
   ]
  },
  {
   "cell_type": "code",
   "execution_count": 5,
   "id": "c872ca6c",
   "metadata": {},
   "outputs": [
    {
     "data": {
      "text/html": [
       "\n",
       "        <iframe\n",
       "            width=\"100%\"\n",
       "            height=\"750px\"\n",
       "            src=\"network.html\"\n",
       "            frameborder=\"0\"\n",
       "            allowfullscreen\n",
       "        ></iframe>\n",
       "        "
      ],
      "text/plain": [
       "<IPython.lib.display.IFrame at 0x7f9b78e21c50>"
      ]
     },
     "execution_count": 5,
     "metadata": {},
     "output_type": "execute_result"
    }
   ],
   "source": [
    "\n",
    "G = nx.MultiGraph()\n",
    "\n",
    "node_type1 = nodes_df.iloc[0]\n",
    "for i,row in nodes_df.iterrows():\n",
    "    node = row['Id']\n",
    "    label= row['Label']\n",
    "    if row['Type'] == node_type1['Type']:\n",
    "        c = color_node_type1\n",
    "    else:\n",
    "        c = color_node_type2\n",
    "    G.add_node( node, title=label,  color= c )\n",
    "    \n",
    "    \n",
    "for i,row in edges_df.iterrows():\n",
    "    edge_width = edges_values[ (row['Source'] , row['Target']) ]\n",
    "    G.add_edge( row['Source'] , row['Target'] , width= edge_width )\n",
    "\n",
    "\n",
    "degree_values = []\n",
    "for node in G.nodes:\n",
    "    degree_values.append(G.degree[node])\n",
    "    \n",
    "in_min = min(degree_values)\n",
    "in_max = max(degree_values)\n",
    "\n",
    "out_min = min_node_size\n",
    "out_max = max_node_size\n",
    "    \n",
    "    \n",
    "for node in G.nodes:\n",
    "    degree = G.degree[node] \n",
    "    node_size = rescale(degree,in_min,in_max,out_min,out_max)\n",
    "    G.nodes[node]['size'] = node_size\n",
    "    G.nodes[node]['label'] = G.nodes[node]['title']\n",
    "    G.nodes[node]['font']={\"size\": font_size}\n",
    "    \n",
    "net = Network(notebook=True ,  height=\"750px\", width=\"100%\" , bgcolor= background_color )\n",
    "\n",
    "if visualisation_alogorithm == 'repulsion':\n",
    "    \n",
    "    net.hrepulsion(\n",
    "            node_distance=250,\n",
    "            central_gravity=0.2,\n",
    "            spring_length=200,\n",
    "            spring_strength=0.05,\n",
    "            damping=0.09\n",
    "    )\n",
    "elif visualisation_alogorithm == 'barnes_hut':\n",
    "    \n",
    "    net.barnes_hut(\n",
    "            gravity=-5000, \n",
    "            central_gravity=0.3, \n",
    "            spring_length=250, \n",
    "            spring_strength=0.001, \n",
    "            damping=0.09, \n",
    "            overlap=0)\n",
    "    \n",
    "else:\n",
    "    \n",
    "    net.force_atlas_2based(\n",
    "            gravity=-150,\n",
    "            central_gravity=0.01,\n",
    "            spring_length=100,\n",
    "            spring_strength=0.08,\n",
    "            damping=0.4,\n",
    "            overlap= 0 )\n",
    "\n",
    "net.from_nx(G)\n",
    "net.save_graph( f'network.html')\n",
    "net.show( f'network.html')"
   ]
  }
 ],
 "metadata": {
  "kernelspec": {
   "display_name": "Python 3 (ipykernel)",
   "language": "python",
   "name": "python3"
  },
  "language_info": {
   "codemirror_mode": {
    "name": "ipython",
    "version": 3
   },
   "file_extension": ".py",
   "mimetype": "text/x-python",
   "name": "python",
   "nbconvert_exporter": "python",
   "pygments_lexer": "ipython3",
   "version": "3.7.9"
  }
 },
 "nbformat": 4,
 "nbformat_minor": 5
}
